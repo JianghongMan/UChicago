{
 "cells": [
  {
   "cell_type": "code",
   "execution_count": 1,
   "metadata": {},
   "outputs": [],
   "source": [
    "import numpy as np\n",
    "import pandas as pd\n",
    "import matplotlib.pyplot as plt\n",
    "%matplotlib inline \n",
    "import seaborn as sns\n",
    "\n",
    "from sklearn.model_selection import train_test_split\n",
    "from sklearn.linear_model import LogisticRegression, LinearRegression\n",
    "from sklearn import svm, model_selection, metrics\n",
    "from sklearn.ensemble import RandomForestRegressor\n",
    "from sklearn.metrics import accuracy_score, r2_score, mean_squared_error\n",
    "from sklearn.svm import LinearSVC\n",
    "from sklearn.neighbors import KNeighborsClassifier\n",
    "from sklearn import metrics"
   ]
  },
  {
   "cell_type": "markdown",
   "metadata": {},
   "source": [
    "### Import the Fitness Club data"
   ]
  },
  {
   "cell_type": "code",
   "execution_count": 2,
   "metadata": {},
   "outputs": [
    {
     "data": {
      "text/html": [
       "<div>\n",
       "<style scoped>\n",
       "    .dataframe tbody tr th:only-of-type {\n",
       "        vertical-align: middle;\n",
       "    }\n",
       "\n",
       "    .dataframe tbody tr th {\n",
       "        vertical-align: top;\n",
       "    }\n",
       "\n",
       "    .dataframe thead th {\n",
       "        text-align: right;\n",
       "    }\n",
       "</style>\n",
       "<table border=\"1\" class=\"dataframe\">\n",
       "  <thead>\n",
       "    <tr style=\"text-align: right;\">\n",
       "      <th></th>\n",
       "      <th>enrolldt</th>\n",
       "      <th>price</th>\n",
       "      <th>downpmt</th>\n",
       "      <th>monthdue</th>\n",
       "      <th>pmttype</th>\n",
       "      <th>use</th>\n",
       "      <th>age</th>\n",
       "      <th>gender</th>\n",
       "      <th>default</th>\n",
       "    </tr>\n",
       "  </thead>\n",
       "  <tbody>\n",
       "    <tr>\n",
       "      <th>0</th>\n",
       "      <td>19970101</td>\n",
       "      <td>2178.85</td>\n",
       "      <td>250.00</td>\n",
       "      <td>6.0</td>\n",
       "      <td>4</td>\n",
       "      <td>1</td>\n",
       "      <td>0</td>\n",
       "      <td>2</td>\n",
       "      <td>0</td>\n",
       "    </tr>\n",
       "    <tr>\n",
       "      <th>1</th>\n",
       "      <td>19970101</td>\n",
       "      <td>1543.65</td>\n",
       "      <td>1543.65</td>\n",
       "      <td>6.0</td>\n",
       "      <td>1</td>\n",
       "      <td>0</td>\n",
       "      <td>0</td>\n",
       "      <td>2</td>\n",
       "      <td>0</td>\n",
       "    </tr>\n",
       "    <tr>\n",
       "      <th>2</th>\n",
       "      <td>19970101</td>\n",
       "      <td>1107.67</td>\n",
       "      <td>125.00</td>\n",
       "      <td>5.0</td>\n",
       "      <td>1</td>\n",
       "      <td>0</td>\n",
       "      <td>0</td>\n",
       "      <td>2</td>\n",
       "      <td>0</td>\n",
       "    </tr>\n",
       "    <tr>\n",
       "      <th>3</th>\n",
       "      <td>19970102</td>\n",
       "      <td>950.44</td>\n",
       "      <td>237.61</td>\n",
       "      <td>9.0</td>\n",
       "      <td>5</td>\n",
       "      <td>0</td>\n",
       "      <td>0</td>\n",
       "      <td>1</td>\n",
       "      <td>0</td>\n",
       "    </tr>\n",
       "    <tr>\n",
       "      <th>4</th>\n",
       "      <td>19970103</td>\n",
       "      <td>1436.00</td>\n",
       "      <td>250.00</td>\n",
       "      <td>9.0</td>\n",
       "      <td>3</td>\n",
       "      <td>0</td>\n",
       "      <td>0</td>\n",
       "      <td>2</td>\n",
       "      <td>0</td>\n",
       "    </tr>\n",
       "    <tr>\n",
       "      <th>5</th>\n",
       "      <td>19970104</td>\n",
       "      <td>1248.00</td>\n",
       "      <td>150.00</td>\n",
       "      <td>12.0</td>\n",
       "      <td>1</td>\n",
       "      <td>0</td>\n",
       "      <td>0</td>\n",
       "      <td>1</td>\n",
       "      <td>0</td>\n",
       "    </tr>\n",
       "    <tr>\n",
       "      <th>6</th>\n",
       "      <td>19970105</td>\n",
       "      <td>249.00</td>\n",
       "      <td>249.00</td>\n",
       "      <td>8.0</td>\n",
       "      <td>1</td>\n",
       "      <td>0</td>\n",
       "      <td>0</td>\n",
       "      <td>2</td>\n",
       "      <td>0</td>\n",
       "    </tr>\n",
       "    <tr>\n",
       "      <th>7</th>\n",
       "      <td>19970105</td>\n",
       "      <td>909.79</td>\n",
       "      <td>350.00</td>\n",
       "      <td>13.0</td>\n",
       "      <td>5</td>\n",
       "      <td>1</td>\n",
       "      <td>0</td>\n",
       "      <td>2</td>\n",
       "      <td>0</td>\n",
       "    </tr>\n",
       "    <tr>\n",
       "      <th>8</th>\n",
       "      <td>19970106</td>\n",
       "      <td>1677.00</td>\n",
       "      <td>125.00</td>\n",
       "      <td>10.0</td>\n",
       "      <td>1</td>\n",
       "      <td>0</td>\n",
       "      <td>0</td>\n",
       "      <td>2</td>\n",
       "      <td>1</td>\n",
       "    </tr>\n",
       "    <tr>\n",
       "      <th>9</th>\n",
       "      <td>19970106</td>\n",
       "      <td>1844.00</td>\n",
       "      <td>1844.00</td>\n",
       "      <td>9.0</td>\n",
       "      <td>1</td>\n",
       "      <td>7</td>\n",
       "      <td>0</td>\n",
       "      <td>1</td>\n",
       "      <td>0</td>\n",
       "    </tr>\n",
       "  </tbody>\n",
       "</table>\n",
       "</div>"
      ],
      "text/plain": [
       "   enrolldt    price  downpmt  monthdue  pmttype  use  age  gender  default\n",
       "0  19970101  2178.85   250.00       6.0        4    1    0       2        0\n",
       "1  19970101  1543.65  1543.65       6.0        1    0    0       2        0\n",
       "2  19970101  1107.67   125.00       5.0        1    0    0       2        0\n",
       "3  19970102   950.44   237.61       9.0        5    0    0       1        0\n",
       "4  19970103  1436.00   250.00       9.0        3    0    0       2        0\n",
       "5  19970104  1248.00   150.00      12.0        1    0    0       1        0\n",
       "6  19970105   249.00   249.00       8.0        1    0    0       2        0\n",
       "7  19970105   909.79   350.00      13.0        5    1    0       2        0\n",
       "8  19970106  1677.00   125.00      10.0        1    0    0       2        1\n",
       "9  19970106  1844.00  1844.00       9.0        1    7    0       1        0"
      ]
     },
     "execution_count": 2,
     "metadata": {},
     "output_type": "execute_result"
    }
   ],
   "source": [
    "data = pd.read_excel ('Fitness Club Data.xlsx')\n",
    "\n",
    "data.head(10)"
   ]
  },
  {
   "cell_type": "markdown",
   "metadata": {},
   "source": [
    "### Modify the data: change \"enrolldt\" to datetime "
   ]
  },
  {
   "cell_type": "code",
   "execution_count": 3,
   "metadata": {},
   "outputs": [
    {
     "name": "stdout",
     "output_type": "stream",
     "text": [
      "enrolldt    datetime64[ns]\n",
      "price              float64\n",
      "downpmt            float64\n",
      "monthdue           float64\n",
      "pmttype              int64\n",
      "use                  int64\n",
      "age                  int64\n",
      "gender               int64\n",
      "default              int64\n",
      "dtype: object\n"
     ]
    }
   ],
   "source": [
    "data['enrolldt'] = pd.to_datetime(data['enrolldt'], format='%Y%m%d')\n",
    "print (data.dtypes)"
   ]
  },
  {
   "cell_type": "markdown",
   "metadata": {},
   "source": [
    "### 1. Calculate basic stats descriptive statistics (mean, median, min, max, standard deviation) for each field "
   ]
  },
  {
   "cell_type": "code",
   "execution_count": 4,
   "metadata": {},
   "outputs": [
    {
     "data": {
      "text/html": [
       "<div>\n",
       "<style scoped>\n",
       "    .dataframe tbody tr th:only-of-type {\n",
       "        vertical-align: middle;\n",
       "    }\n",
       "\n",
       "    .dataframe tbody tr th {\n",
       "        vertical-align: top;\n",
       "    }\n",
       "\n",
       "    .dataframe thead th {\n",
       "        text-align: right;\n",
       "    }\n",
       "</style>\n",
       "<table border=\"1\" class=\"dataframe\">\n",
       "  <thead>\n",
       "    <tr style=\"text-align: right;\">\n",
       "      <th></th>\n",
       "      <th>price</th>\n",
       "      <th>downpmt</th>\n",
       "      <th>monthdue</th>\n",
       "      <th>pmttype</th>\n",
       "      <th>use</th>\n",
       "      <th>age</th>\n",
       "      <th>gender</th>\n",
       "      <th>default</th>\n",
       "    </tr>\n",
       "  </thead>\n",
       "  <tbody>\n",
       "    <tr>\n",
       "      <th>count</th>\n",
       "      <td>24843.000000</td>\n",
       "      <td>24843.000000</td>\n",
       "      <td>24843.000000</td>\n",
       "      <td>24843.000000</td>\n",
       "      <td>24843.000000</td>\n",
       "      <td>24843.000000</td>\n",
       "      <td>24843.000000</td>\n",
       "      <td>24843.000000</td>\n",
       "    </tr>\n",
       "    <tr>\n",
       "      <th>mean</th>\n",
       "      <td>1003.658899</td>\n",
       "      <td>199.824535</td>\n",
       "      <td>8.287290</td>\n",
       "      <td>3.093225</td>\n",
       "      <td>1.944371</td>\n",
       "      <td>29.203317</td>\n",
       "      <td>1.498007</td>\n",
       "      <td>0.115042</td>\n",
       "    </tr>\n",
       "    <tr>\n",
       "      <th>std</th>\n",
       "      <td>439.224768</td>\n",
       "      <td>335.437237</td>\n",
       "      <td>7.108381</td>\n",
       "      <td>1.560034</td>\n",
       "      <td>2.315550</td>\n",
       "      <td>13.277721</td>\n",
       "      <td>0.500006</td>\n",
       "      <td>0.319080</td>\n",
       "    </tr>\n",
       "    <tr>\n",
       "      <th>min</th>\n",
       "      <td>0.000000</td>\n",
       "      <td>0.000000</td>\n",
       "      <td>0.000000</td>\n",
       "      <td>1.000000</td>\n",
       "      <td>0.000000</td>\n",
       "      <td>0.000000</td>\n",
       "      <td>1.000000</td>\n",
       "      <td>0.000000</td>\n",
       "    </tr>\n",
       "    <tr>\n",
       "      <th>25%</th>\n",
       "      <td>699.000000</td>\n",
       "      <td>49.000000</td>\n",
       "      <td>5.500000</td>\n",
       "      <td>1.000000</td>\n",
       "      <td>0.000000</td>\n",
       "      <td>22.000000</td>\n",
       "      <td>1.000000</td>\n",
       "      <td>0.000000</td>\n",
       "    </tr>\n",
       "    <tr>\n",
       "      <th>50%</th>\n",
       "      <td>999.000000</td>\n",
       "      <td>100.000000</td>\n",
       "      <td>6.000000</td>\n",
       "      <td>3.000000</td>\n",
       "      <td>1.000000</td>\n",
       "      <td>28.000000</td>\n",
       "      <td>1.000000</td>\n",
       "      <td>0.000000</td>\n",
       "    </tr>\n",
       "    <tr>\n",
       "      <th>75%</th>\n",
       "      <td>1249.000000</td>\n",
       "      <td>175.000000</td>\n",
       "      <td>9.000000</td>\n",
       "      <td>4.000000</td>\n",
       "      <td>3.000000</td>\n",
       "      <td>36.000000</td>\n",
       "      <td>2.000000</td>\n",
       "      <td>0.000000</td>\n",
       "    </tr>\n",
       "    <tr>\n",
       "      <th>max</th>\n",
       "      <td>9371.250000</td>\n",
       "      <td>9371.250000</td>\n",
       "      <td>120.000000</td>\n",
       "      <td>5.000000</td>\n",
       "      <td>8.000000</td>\n",
       "      <td>99.000000</td>\n",
       "      <td>2.000000</td>\n",
       "      <td>1.000000</td>\n",
       "    </tr>\n",
       "  </tbody>\n",
       "</table>\n",
       "</div>"
      ],
      "text/plain": [
       "              price       downpmt      monthdue       pmttype           use  \\\n",
       "count  24843.000000  24843.000000  24843.000000  24843.000000  24843.000000   \n",
       "mean    1003.658899    199.824535      8.287290      3.093225      1.944371   \n",
       "std      439.224768    335.437237      7.108381      1.560034      2.315550   \n",
       "min        0.000000      0.000000      0.000000      1.000000      0.000000   \n",
       "25%      699.000000     49.000000      5.500000      1.000000      0.000000   \n",
       "50%      999.000000    100.000000      6.000000      3.000000      1.000000   \n",
       "75%     1249.000000    175.000000      9.000000      4.000000      3.000000   \n",
       "max     9371.250000   9371.250000    120.000000      5.000000      8.000000   \n",
       "\n",
       "                age        gender       default  \n",
       "count  24843.000000  24843.000000  24843.000000  \n",
       "mean      29.203317      1.498007      0.115042  \n",
       "std       13.277721      0.500006      0.319080  \n",
       "min        0.000000      1.000000      0.000000  \n",
       "25%       22.000000      1.000000      0.000000  \n",
       "50%       28.000000      1.000000      0.000000  \n",
       "75%       36.000000      2.000000      0.000000  \n",
       "max       99.000000      2.000000      1.000000  "
      ]
     },
     "execution_count": 4,
     "metadata": {},
     "output_type": "execute_result"
    }
   ],
   "source": [
    "data.describe()"
   ]
  },
  {
   "cell_type": "code",
   "execution_count": 5,
   "metadata": {},
   "outputs": [
    {
     "data": {
      "text/html": [
       "<div>\n",
       "<style scoped>\n",
       "    .dataframe tbody tr th:only-of-type {\n",
       "        vertical-align: middle;\n",
       "    }\n",
       "\n",
       "    .dataframe tbody tr th {\n",
       "        vertical-align: top;\n",
       "    }\n",
       "\n",
       "    .dataframe thead tr th {\n",
       "        text-align: left;\n",
       "    }\n",
       "\n",
       "    .dataframe thead tr:last-of-type th {\n",
       "        text-align: right;\n",
       "    }\n",
       "</style>\n",
       "<table border=\"1\" class=\"dataframe\">\n",
       "  <thead>\n",
       "    <tr>\n",
       "      <th></th>\n",
       "      <th colspan=\"8\" halign=\"left\">price</th>\n",
       "      <th colspan=\"2\" halign=\"left\">downpmt</th>\n",
       "      <th>...</th>\n",
       "      <th colspan=\"2\" halign=\"left\">gender</th>\n",
       "      <th colspan=\"8\" halign=\"left\">default</th>\n",
       "    </tr>\n",
       "    <tr>\n",
       "      <th></th>\n",
       "      <th>count</th>\n",
       "      <th>mean</th>\n",
       "      <th>std</th>\n",
       "      <th>min</th>\n",
       "      <th>25%</th>\n",
       "      <th>50%</th>\n",
       "      <th>75%</th>\n",
       "      <th>max</th>\n",
       "      <th>count</th>\n",
       "      <th>mean</th>\n",
       "      <th>...</th>\n",
       "      <th>75%</th>\n",
       "      <th>max</th>\n",
       "      <th>count</th>\n",
       "      <th>mean</th>\n",
       "      <th>std</th>\n",
       "      <th>min</th>\n",
       "      <th>25%</th>\n",
       "      <th>50%</th>\n",
       "      <th>75%</th>\n",
       "      <th>max</th>\n",
       "    </tr>\n",
       "    <tr>\n",
       "      <th>pmttype</th>\n",
       "      <th></th>\n",
       "      <th></th>\n",
       "      <th></th>\n",
       "      <th></th>\n",
       "      <th></th>\n",
       "      <th></th>\n",
       "      <th></th>\n",
       "      <th></th>\n",
       "      <th></th>\n",
       "      <th></th>\n",
       "      <th></th>\n",
       "      <th></th>\n",
       "      <th></th>\n",
       "      <th></th>\n",
       "      <th></th>\n",
       "      <th></th>\n",
       "      <th></th>\n",
       "      <th></th>\n",
       "      <th></th>\n",
       "      <th></th>\n",
       "      <th></th>\n",
       "    </tr>\n",
       "  </thead>\n",
       "  <tbody>\n",
       "    <tr>\n",
       "      <th>1</th>\n",
       "      <td>7760.0</td>\n",
       "      <td>885.725160</td>\n",
       "      <td>496.465988</td>\n",
       "      <td>0.0</td>\n",
       "      <td>523.2300</td>\n",
       "      <td>879.00</td>\n",
       "      <td>1154.1325</td>\n",
       "      <td>9371.25</td>\n",
       "      <td>7760.0</td>\n",
       "      <td>340.317137</td>\n",
       "      <td>...</td>\n",
       "      <td>2.0</td>\n",
       "      <td>2.0</td>\n",
       "      <td>7760.0</td>\n",
       "      <td>0.239948</td>\n",
       "      <td>0.427079</td>\n",
       "      <td>0.0</td>\n",
       "      <td>0.0</td>\n",
       "      <td>0.0</td>\n",
       "      <td>0.0</td>\n",
       "      <td>1.0</td>\n",
       "    </tr>\n",
       "    <tr>\n",
       "      <th>3</th>\n",
       "      <td>5146.0</td>\n",
       "      <td>1055.670725</td>\n",
       "      <td>416.975606</td>\n",
       "      <td>0.0</td>\n",
       "      <td>787.5300</td>\n",
       "      <td>1048.00</td>\n",
       "      <td>1294.8000</td>\n",
       "      <td>4455.00</td>\n",
       "      <td>5146.0</td>\n",
       "      <td>149.833290</td>\n",
       "      <td>...</td>\n",
       "      <td>2.0</td>\n",
       "      <td>2.0</td>\n",
       "      <td>5146.0</td>\n",
       "      <td>0.160902</td>\n",
       "      <td>0.367476</td>\n",
       "      <td>0.0</td>\n",
       "      <td>0.0</td>\n",
       "      <td>0.0</td>\n",
       "      <td>0.0</td>\n",
       "      <td>1.0</td>\n",
       "    </tr>\n",
       "    <tr>\n",
       "      <th>4</th>\n",
       "      <td>6038.0</td>\n",
       "      <td>1030.787854</td>\n",
       "      <td>385.222821</td>\n",
       "      <td>0.0</td>\n",
       "      <td>764.5475</td>\n",
       "      <td>999.00</td>\n",
       "      <td>1253.5100</td>\n",
       "      <td>3295.17</td>\n",
       "      <td>6038.0</td>\n",
       "      <td>108.871298</td>\n",
       "      <td>...</td>\n",
       "      <td>2.0</td>\n",
       "      <td>2.0</td>\n",
       "      <td>6038.0</td>\n",
       "      <td>0.009440</td>\n",
       "      <td>0.096709</td>\n",
       "      <td>0.0</td>\n",
       "      <td>0.0</td>\n",
       "      <td>0.0</td>\n",
       "      <td>0.0</td>\n",
       "      <td>1.0</td>\n",
       "    </tr>\n",
       "    <tr>\n",
       "      <th>5</th>\n",
       "      <td>5899.0</td>\n",
       "      <td>1085.657259</td>\n",
       "      <td>395.736541</td>\n",
       "      <td>0.0</td>\n",
       "      <td>849.0000</td>\n",
       "      <td>1068.48</td>\n",
       "      <td>1304.0000</td>\n",
       "      <td>3774.00</td>\n",
       "      <td>5899.0</td>\n",
       "      <td>151.716042</td>\n",
       "      <td>...</td>\n",
       "      <td>2.0</td>\n",
       "      <td>2.0</td>\n",
       "      <td>5899.0</td>\n",
       "      <td>0.018817</td>\n",
       "      <td>0.135889</td>\n",
       "      <td>0.0</td>\n",
       "      <td>0.0</td>\n",
       "      <td>0.0</td>\n",
       "      <td>0.0</td>\n",
       "      <td>1.0</td>\n",
       "    </tr>\n",
       "  </tbody>\n",
       "</table>\n",
       "<p>4 rows × 56 columns</p>\n",
       "</div>"
      ],
      "text/plain": [
       "          price                                                              \\\n",
       "          count         mean         std  min       25%      50%        75%   \n",
       "pmttype                                                                       \n",
       "1        7760.0   885.725160  496.465988  0.0  523.2300   879.00  1154.1325   \n",
       "3        5146.0  1055.670725  416.975606  0.0  787.5300  1048.00  1294.8000   \n",
       "4        6038.0  1030.787854  385.222821  0.0  764.5475   999.00  1253.5100   \n",
       "5        5899.0  1085.657259  395.736541  0.0  849.0000  1068.48  1304.0000   \n",
       "\n",
       "                 downpmt              ... gender      default            \\\n",
       "             max   count        mean  ...    75%  max   count      mean   \n",
       "pmttype                               ...                                 \n",
       "1        9371.25  7760.0  340.317137  ...    2.0  2.0  7760.0  0.239948   \n",
       "3        4455.00  5146.0  149.833290  ...    2.0  2.0  5146.0  0.160902   \n",
       "4        3295.17  6038.0  108.871298  ...    2.0  2.0  6038.0  0.009440   \n",
       "5        3774.00  5899.0  151.716042  ...    2.0  2.0  5899.0  0.018817   \n",
       "\n",
       "                                            \n",
       "              std  min  25%  50%  75%  max  \n",
       "pmttype                                     \n",
       "1        0.427079  0.0  0.0  0.0  0.0  1.0  \n",
       "3        0.367476  0.0  0.0  0.0  0.0  1.0  \n",
       "4        0.096709  0.0  0.0  0.0  0.0  1.0  \n",
       "5        0.135889  0.0  0.0  0.0  0.0  1.0  \n",
       "\n",
       "[4 rows x 56 columns]"
      ]
     },
     "execution_count": 5,
     "metadata": {},
     "output_type": "execute_result"
    }
   ],
   "source": [
    "# calculate categorical means -- pmttype\n",
    "data.groupby('pmttype').describe()"
   ]
  },
  {
   "cell_type": "code",
   "execution_count": 6,
   "metadata": {},
   "outputs": [
    {
     "data": {
      "text/html": [
       "<div>\n",
       "<style scoped>\n",
       "    .dataframe tbody tr th:only-of-type {\n",
       "        vertical-align: middle;\n",
       "    }\n",
       "\n",
       "    .dataframe tbody tr th {\n",
       "        vertical-align: top;\n",
       "    }\n",
       "\n",
       "    .dataframe thead tr th {\n",
       "        text-align: left;\n",
       "    }\n",
       "\n",
       "    .dataframe thead tr:last-of-type th {\n",
       "        text-align: right;\n",
       "    }\n",
       "</style>\n",
       "<table border=\"1\" class=\"dataframe\">\n",
       "  <thead>\n",
       "    <tr>\n",
       "      <th></th>\n",
       "      <th colspan=\"8\" halign=\"left\">price</th>\n",
       "      <th colspan=\"2\" halign=\"left\">downpmt</th>\n",
       "      <th>...</th>\n",
       "      <th colspan=\"2\" halign=\"left\">gender</th>\n",
       "      <th colspan=\"8\" halign=\"left\">default</th>\n",
       "    </tr>\n",
       "    <tr>\n",
       "      <th></th>\n",
       "      <th>count</th>\n",
       "      <th>mean</th>\n",
       "      <th>std</th>\n",
       "      <th>min</th>\n",
       "      <th>25%</th>\n",
       "      <th>50%</th>\n",
       "      <th>75%</th>\n",
       "      <th>max</th>\n",
       "      <th>count</th>\n",
       "      <th>mean</th>\n",
       "      <th>...</th>\n",
       "      <th>75%</th>\n",
       "      <th>max</th>\n",
       "      <th>count</th>\n",
       "      <th>mean</th>\n",
       "      <th>std</th>\n",
       "      <th>min</th>\n",
       "      <th>25%</th>\n",
       "      <th>50%</th>\n",
       "      <th>75%</th>\n",
       "      <th>max</th>\n",
       "    </tr>\n",
       "    <tr>\n",
       "      <th>use</th>\n",
       "      <th></th>\n",
       "      <th></th>\n",
       "      <th></th>\n",
       "      <th></th>\n",
       "      <th></th>\n",
       "      <th></th>\n",
       "      <th></th>\n",
       "      <th></th>\n",
       "      <th></th>\n",
       "      <th></th>\n",
       "      <th></th>\n",
       "      <th></th>\n",
       "      <th></th>\n",
       "      <th></th>\n",
       "      <th></th>\n",
       "      <th></th>\n",
       "      <th></th>\n",
       "      <th></th>\n",
       "      <th></th>\n",
       "      <th></th>\n",
       "      <th></th>\n",
       "    </tr>\n",
       "  </thead>\n",
       "  <tbody>\n",
       "    <tr>\n",
       "      <th>0</th>\n",
       "      <td>9919.0</td>\n",
       "      <td>1012.562000</td>\n",
       "      <td>457.217663</td>\n",
       "      <td>0.0</td>\n",
       "      <td>699.0000</td>\n",
       "      <td>999.00</td>\n",
       "      <td>1249.00</td>\n",
       "      <td>9371.25</td>\n",
       "      <td>9919.0</td>\n",
       "      <td>210.240363</td>\n",
       "      <td>...</td>\n",
       "      <td>2.0</td>\n",
       "      <td>2.0</td>\n",
       "      <td>9919.0</td>\n",
       "      <td>0.210606</td>\n",
       "      <td>0.407760</td>\n",
       "      <td>0.0</td>\n",
       "      <td>0.0</td>\n",
       "      <td>0.0</td>\n",
       "      <td>0.0</td>\n",
       "      <td>1.0</td>\n",
       "    </tr>\n",
       "    <tr>\n",
       "      <th>1</th>\n",
       "      <td>5776.0</td>\n",
       "      <td>1036.200466</td>\n",
       "      <td>434.362380</td>\n",
       "      <td>0.0</td>\n",
       "      <td>744.0000</td>\n",
       "      <td>1024.00</td>\n",
       "      <td>1279.00</td>\n",
       "      <td>9000.00</td>\n",
       "      <td>5776.0</td>\n",
       "      <td>181.326389</td>\n",
       "      <td>...</td>\n",
       "      <td>2.0</td>\n",
       "      <td>2.0</td>\n",
       "      <td>5776.0</td>\n",
       "      <td>0.107514</td>\n",
       "      <td>0.309792</td>\n",
       "      <td>0.0</td>\n",
       "      <td>0.0</td>\n",
       "      <td>0.0</td>\n",
       "      <td>0.0</td>\n",
       "      <td>1.0</td>\n",
       "    </tr>\n",
       "    <tr>\n",
       "      <th>2</th>\n",
       "      <td>618.0</td>\n",
       "      <td>1010.534191</td>\n",
       "      <td>447.039263</td>\n",
       "      <td>99.0</td>\n",
       "      <td>720.1075</td>\n",
       "      <td>999.00</td>\n",
       "      <td>1248.00</td>\n",
       "      <td>5724.00</td>\n",
       "      <td>618.0</td>\n",
       "      <td>181.140647</td>\n",
       "      <td>...</td>\n",
       "      <td>2.0</td>\n",
       "      <td>2.0</td>\n",
       "      <td>618.0</td>\n",
       "      <td>0.061489</td>\n",
       "      <td>0.240419</td>\n",
       "      <td>0.0</td>\n",
       "      <td>0.0</td>\n",
       "      <td>0.0</td>\n",
       "      <td>0.0</td>\n",
       "      <td>1.0</td>\n",
       "    </tr>\n",
       "    <tr>\n",
       "      <th>3</th>\n",
       "      <td>2385.0</td>\n",
       "      <td>995.610323</td>\n",
       "      <td>424.950230</td>\n",
       "      <td>0.0</td>\n",
       "      <td>684.0000</td>\n",
       "      <td>999.00</td>\n",
       "      <td>1254.00</td>\n",
       "      <td>3774.00</td>\n",
       "      <td>2385.0</td>\n",
       "      <td>184.711388</td>\n",
       "      <td>...</td>\n",
       "      <td>2.0</td>\n",
       "      <td>2.0</td>\n",
       "      <td>2385.0</td>\n",
       "      <td>0.035220</td>\n",
       "      <td>0.184374</td>\n",
       "      <td>0.0</td>\n",
       "      <td>0.0</td>\n",
       "      <td>0.0</td>\n",
       "      <td>0.0</td>\n",
       "      <td>1.0</td>\n",
       "    </tr>\n",
       "    <tr>\n",
       "      <th>4</th>\n",
       "      <td>1483.0</td>\n",
       "      <td>992.343965</td>\n",
       "      <td>406.977977</td>\n",
       "      <td>0.0</td>\n",
       "      <td>699.0000</td>\n",
       "      <td>998.00</td>\n",
       "      <td>1250.34</td>\n",
       "      <td>3375.84</td>\n",
       "      <td>1483.0</td>\n",
       "      <td>193.918658</td>\n",
       "      <td>...</td>\n",
       "      <td>2.0</td>\n",
       "      <td>2.0</td>\n",
       "      <td>1483.0</td>\n",
       "      <td>0.010115</td>\n",
       "      <td>0.100095</td>\n",
       "      <td>0.0</td>\n",
       "      <td>0.0</td>\n",
       "      <td>0.0</td>\n",
       "      <td>0.0</td>\n",
       "      <td>1.0</td>\n",
       "    </tr>\n",
       "    <tr>\n",
       "      <th>5</th>\n",
       "      <td>1125.0</td>\n",
       "      <td>979.205938</td>\n",
       "      <td>406.105883</td>\n",
       "      <td>70.0</td>\n",
       "      <td>656.1400</td>\n",
       "      <td>979.00</td>\n",
       "      <td>1248.00</td>\n",
       "      <td>2380.42</td>\n",
       "      <td>1125.0</td>\n",
       "      <td>206.693804</td>\n",
       "      <td>...</td>\n",
       "      <td>2.0</td>\n",
       "      <td>2.0</td>\n",
       "      <td>1125.0</td>\n",
       "      <td>0.004444</td>\n",
       "      <td>0.066548</td>\n",
       "      <td>0.0</td>\n",
       "      <td>0.0</td>\n",
       "      <td>0.0</td>\n",
       "      <td>0.0</td>\n",
       "      <td>1.0</td>\n",
       "    </tr>\n",
       "    <tr>\n",
       "      <th>6</th>\n",
       "      <td>2462.0</td>\n",
       "      <td>955.726300</td>\n",
       "      <td>423.181752</td>\n",
       "      <td>0.0</td>\n",
       "      <td>656.1400</td>\n",
       "      <td>966.16</td>\n",
       "      <td>1200.16</td>\n",
       "      <td>9000.00</td>\n",
       "      <td>2462.0</td>\n",
       "      <td>208.966552</td>\n",
       "      <td>...</td>\n",
       "      <td>2.0</td>\n",
       "      <td>2.0</td>\n",
       "      <td>2462.0</td>\n",
       "      <td>0.002031</td>\n",
       "      <td>0.045029</td>\n",
       "      <td>0.0</td>\n",
       "      <td>0.0</td>\n",
       "      <td>0.0</td>\n",
       "      <td>0.0</td>\n",
       "      <td>1.0</td>\n",
       "    </tr>\n",
       "    <tr>\n",
       "      <th>7</th>\n",
       "      <td>792.0</td>\n",
       "      <td>913.261452</td>\n",
       "      <td>416.249437</td>\n",
       "      <td>0.0</td>\n",
       "      <td>599.0000</td>\n",
       "      <td>921.50</td>\n",
       "      <td>1149.50</td>\n",
       "      <td>4200.00</td>\n",
       "      <td>792.0</td>\n",
       "      <td>219.389634</td>\n",
       "      <td>...</td>\n",
       "      <td>2.0</td>\n",
       "      <td>2.0</td>\n",
       "      <td>792.0</td>\n",
       "      <td>0.001263</td>\n",
       "      <td>0.035533</td>\n",
       "      <td>0.0</td>\n",
       "      <td>0.0</td>\n",
       "      <td>0.0</td>\n",
       "      <td>0.0</td>\n",
       "      <td>1.0</td>\n",
       "    </tr>\n",
       "    <tr>\n",
       "      <th>8</th>\n",
       "      <td>283.0</td>\n",
       "      <td>906.738163</td>\n",
       "      <td>396.826821</td>\n",
       "      <td>0.0</td>\n",
       "      <td>609.0000</td>\n",
       "      <td>929.00</td>\n",
       "      <td>1148.00</td>\n",
       "      <td>2285.92</td>\n",
       "      <td>283.0</td>\n",
       "      <td>249.822686</td>\n",
       "      <td>...</td>\n",
       "      <td>2.0</td>\n",
       "      <td>2.0</td>\n",
       "      <td>283.0</td>\n",
       "      <td>0.000000</td>\n",
       "      <td>0.000000</td>\n",
       "      <td>0.0</td>\n",
       "      <td>0.0</td>\n",
       "      <td>0.0</td>\n",
       "      <td>0.0</td>\n",
       "      <td>0.0</td>\n",
       "    </tr>\n",
       "  </tbody>\n",
       "</table>\n",
       "<p>9 rows × 56 columns</p>\n",
       "</div>"
      ],
      "text/plain": [
       "      price                                                             \\\n",
       "      count         mean         std   min       25%      50%      75%   \n",
       "use                                                                      \n",
       "0    9919.0  1012.562000  457.217663   0.0  699.0000   999.00  1249.00   \n",
       "1    5776.0  1036.200466  434.362380   0.0  744.0000  1024.00  1279.00   \n",
       "2     618.0  1010.534191  447.039263  99.0  720.1075   999.00  1248.00   \n",
       "3    2385.0   995.610323  424.950230   0.0  684.0000   999.00  1254.00   \n",
       "4    1483.0   992.343965  406.977977   0.0  699.0000   998.00  1250.34   \n",
       "5    1125.0   979.205938  406.105883  70.0  656.1400   979.00  1248.00   \n",
       "6    2462.0   955.726300  423.181752   0.0  656.1400   966.16  1200.16   \n",
       "7     792.0   913.261452  416.249437   0.0  599.0000   921.50  1149.50   \n",
       "8     283.0   906.738163  396.826821   0.0  609.0000   929.00  1148.00   \n",
       "\n",
       "             downpmt              ... gender      default                      \\\n",
       "         max   count        mean  ...    75%  max   count      mean       std   \n",
       "use                               ...                                           \n",
       "0    9371.25  9919.0  210.240363  ...    2.0  2.0  9919.0  0.210606  0.407760   \n",
       "1    9000.00  5776.0  181.326389  ...    2.0  2.0  5776.0  0.107514  0.309792   \n",
       "2    5724.00   618.0  181.140647  ...    2.0  2.0   618.0  0.061489  0.240419   \n",
       "3    3774.00  2385.0  184.711388  ...    2.0  2.0  2385.0  0.035220  0.184374   \n",
       "4    3375.84  1483.0  193.918658  ...    2.0  2.0  1483.0  0.010115  0.100095   \n",
       "5    2380.42  1125.0  206.693804  ...    2.0  2.0  1125.0  0.004444  0.066548   \n",
       "6    9000.00  2462.0  208.966552  ...    2.0  2.0  2462.0  0.002031  0.045029   \n",
       "7    4200.00   792.0  219.389634  ...    2.0  2.0   792.0  0.001263  0.035533   \n",
       "8    2285.92   283.0  249.822686  ...    2.0  2.0   283.0  0.000000  0.000000   \n",
       "\n",
       "                              \n",
       "     min  25%  50%  75%  max  \n",
       "use                           \n",
       "0    0.0  0.0  0.0  0.0  1.0  \n",
       "1    0.0  0.0  0.0  0.0  1.0  \n",
       "2    0.0  0.0  0.0  0.0  1.0  \n",
       "3    0.0  0.0  0.0  0.0  1.0  \n",
       "4    0.0  0.0  0.0  0.0  1.0  \n",
       "5    0.0  0.0  0.0  0.0  1.0  \n",
       "6    0.0  0.0  0.0  0.0  1.0  \n",
       "7    0.0  0.0  0.0  0.0  1.0  \n",
       "8    0.0  0.0  0.0  0.0  0.0  \n",
       "\n",
       "[9 rows x 56 columns]"
      ]
     },
     "execution_count": 6,
     "metadata": {},
     "output_type": "execute_result"
    }
   ],
   "source": [
    "# calculate categorical means -- use\n",
    "data.groupby('use').describe()"
   ]
  },
  {
   "cell_type": "code",
   "execution_count": 7,
   "metadata": {},
   "outputs": [
    {
     "data": {
      "text/html": [
       "<div>\n",
       "<style scoped>\n",
       "    .dataframe tbody tr th:only-of-type {\n",
       "        vertical-align: middle;\n",
       "    }\n",
       "\n",
       "    .dataframe tbody tr th {\n",
       "        vertical-align: top;\n",
       "    }\n",
       "\n",
       "    .dataframe thead tr th {\n",
       "        text-align: left;\n",
       "    }\n",
       "\n",
       "    .dataframe thead tr:last-of-type th {\n",
       "        text-align: right;\n",
       "    }\n",
       "</style>\n",
       "<table border=\"1\" class=\"dataframe\">\n",
       "  <thead>\n",
       "    <tr>\n",
       "      <th></th>\n",
       "      <th colspan=\"8\" halign=\"left\">price</th>\n",
       "      <th colspan=\"2\" halign=\"left\">downpmt</th>\n",
       "      <th>...</th>\n",
       "      <th colspan=\"2\" halign=\"left\">age</th>\n",
       "      <th colspan=\"8\" halign=\"left\">default</th>\n",
       "    </tr>\n",
       "    <tr>\n",
       "      <th></th>\n",
       "      <th>count</th>\n",
       "      <th>mean</th>\n",
       "      <th>std</th>\n",
       "      <th>min</th>\n",
       "      <th>25%</th>\n",
       "      <th>50%</th>\n",
       "      <th>75%</th>\n",
       "      <th>max</th>\n",
       "      <th>count</th>\n",
       "      <th>mean</th>\n",
       "      <th>...</th>\n",
       "      <th>75%</th>\n",
       "      <th>max</th>\n",
       "      <th>count</th>\n",
       "      <th>mean</th>\n",
       "      <th>std</th>\n",
       "      <th>min</th>\n",
       "      <th>25%</th>\n",
       "      <th>50%</th>\n",
       "      <th>75%</th>\n",
       "      <th>max</th>\n",
       "    </tr>\n",
       "    <tr>\n",
       "      <th>gender</th>\n",
       "      <th></th>\n",
       "      <th></th>\n",
       "      <th></th>\n",
       "      <th></th>\n",
       "      <th></th>\n",
       "      <th></th>\n",
       "      <th></th>\n",
       "      <th></th>\n",
       "      <th></th>\n",
       "      <th></th>\n",
       "      <th></th>\n",
       "      <th></th>\n",
       "      <th></th>\n",
       "      <th></th>\n",
       "      <th></th>\n",
       "      <th></th>\n",
       "      <th></th>\n",
       "      <th></th>\n",
       "      <th></th>\n",
       "      <th></th>\n",
       "      <th></th>\n",
       "    </tr>\n",
       "  </thead>\n",
       "  <tbody>\n",
       "    <tr>\n",
       "      <th>1</th>\n",
       "      <td>12471.0</td>\n",
       "      <td>996.748019</td>\n",
       "      <td>446.263872</td>\n",
       "      <td>0.0</td>\n",
       "      <td>699.0</td>\n",
       "      <td>999.0</td>\n",
       "      <td>1248.00</td>\n",
       "      <td>9371.25</td>\n",
       "      <td>12471.0</td>\n",
       "      <td>201.781223</td>\n",
       "      <td>...</td>\n",
       "      <td>36.0</td>\n",
       "      <td>99.0</td>\n",
       "      <td>12471.0</td>\n",
       "      <td>0.127255</td>\n",
       "      <td>0.333272</td>\n",
       "      <td>0.0</td>\n",
       "      <td>0.0</td>\n",
       "      <td>0.0</td>\n",
       "      <td>0.0</td>\n",
       "      <td>1.0</td>\n",
       "    </tr>\n",
       "    <tr>\n",
       "      <th>2</th>\n",
       "      <td>12372.0</td>\n",
       "      <td>1010.625079</td>\n",
       "      <td>431.919422</td>\n",
       "      <td>0.0</td>\n",
       "      <td>699.0</td>\n",
       "      <td>999.0</td>\n",
       "      <td>1269.88</td>\n",
       "      <td>5980.00</td>\n",
       "      <td>12372.0</td>\n",
       "      <td>197.852190</td>\n",
       "      <td>...</td>\n",
       "      <td>36.0</td>\n",
       "      <td>99.0</td>\n",
       "      <td>12372.0</td>\n",
       "      <td>0.102732</td>\n",
       "      <td>0.303621</td>\n",
       "      <td>0.0</td>\n",
       "      <td>0.0</td>\n",
       "      <td>0.0</td>\n",
       "      <td>0.0</td>\n",
       "      <td>1.0</td>\n",
       "    </tr>\n",
       "  </tbody>\n",
       "</table>\n",
       "<p>2 rows × 56 columns</p>\n",
       "</div>"
      ],
      "text/plain": [
       "          price                                                                \\\n",
       "          count         mean         std  min    25%    50%      75%      max   \n",
       "gender                                                                          \n",
       "1       12471.0   996.748019  446.263872  0.0  699.0  999.0  1248.00  9371.25   \n",
       "2       12372.0  1010.625079  431.919422  0.0  699.0  999.0  1269.88  5980.00   \n",
       "\n",
       "        downpmt              ...   age        default                      \\\n",
       "          count        mean  ...   75%   max    count      mean       std   \n",
       "gender                       ...                                            \n",
       "1       12471.0  201.781223  ...  36.0  99.0  12471.0  0.127255  0.333272   \n",
       "2       12372.0  197.852190  ...  36.0  99.0  12372.0  0.102732  0.303621   \n",
       "\n",
       "                                 \n",
       "        min  25%  50%  75%  max  \n",
       "gender                           \n",
       "1       0.0  0.0  0.0  0.0  1.0  \n",
       "2       0.0  0.0  0.0  0.0  1.0  \n",
       "\n",
       "[2 rows x 56 columns]"
      ]
     },
     "execution_count": 7,
     "metadata": {},
     "output_type": "execute_result"
    }
   ],
   "source": [
    "# calculate categorical means -- gender\n",
    "data.groupby('gender').describe()"
   ]
  },
  {
   "cell_type": "markdown",
   "metadata": {},
   "source": [
    "### 2. Visualize distributions of data elements using histograms for key variables and predict which variables you expect to be most correlated with default/churn. "
   ]
  },
  {
   "cell_type": "code",
   "execution_count": 8,
   "metadata": {},
   "outputs": [
    {
     "data": {
      "text/plain": [
       "array([[<matplotlib.axes._subplots.AxesSubplot object at 0x119e9dcd0>,\n",
       "        <matplotlib.axes._subplots.AxesSubplot object at 0x11a4b9220>,\n",
       "        <matplotlib.axes._subplots.AxesSubplot object at 0x103839520>],\n",
       "       [<matplotlib.axes._subplots.AxesSubplot object at 0x1185e89a0>,\n",
       "        <matplotlib.axes._subplots.AxesSubplot object at 0x1185d8df0>,\n",
       "        <matplotlib.axes._subplots.AxesSubplot object at 0x11a4d81c0>],\n",
       "       [<matplotlib.axes._subplots.AxesSubplot object at 0x11a4d82b0>,\n",
       "        <matplotlib.axes._subplots.AxesSubplot object at 0x11a4f6760>,\n",
       "        <matplotlib.axes._subplots.AxesSubplot object at 0x103887040>]],\n",
       "      dtype=object)"
      ]
     },
     "execution_count": 8,
     "metadata": {},
     "output_type": "execute_result"
    },
    {
     "data": {
      "image/png": "[encoded data removed]",
      "text/plain": [
       "<Figure size 432x288 with 9 Axes>"
      ]
     },
     "metadata": {
      "needs_background": "light"
     },
     "output_type": "display_data"
    }
   ],
   "source": [
    "data.hist(column=['price','downpmt','monthdue','pmttype','use','age','gender','default'])"
   ]
  },
  {
   "cell_type": "code",
   "execution_count": 9,
   "metadata": {},
   "outputs": [
    {
     "data": {
      "text/plain": [
       "Text(0, 0.5, 'default')"
      ]
     },
     "execution_count": 9,
     "metadata": {},
     "output_type": "execute_result"
    },
    {
     "data": {
      "image/png": "[encoded data removed]",
      "text/plain": [
       "<Figure size 432x288 with 1 Axes>"
      ]
     },
     "metadata": {
      "needs_background": "light"
     },
     "output_type": "display_data"
    }
   ],
   "source": [
    "# pmttype with default\n",
    "pd.crosstab(data.pmttype,data.default).plot(kind='bar')\n",
    "plt.title('Relationship between pmttype and default')\n",
    "plt.xlabel('pmttype')\n",
    "plt.ylabel('default')"
   ]
  },
  {
   "cell_type": "code",
   "execution_count": 10,
   "metadata": {},
   "outputs": [
    {
     "data": {
      "text/plain": [
       "Text(0, 0.5, 'default')"
      ]
     },
     "execution_count": 10,
     "metadata": {},
     "output_type": "execute_result"
    },
    {
     "data": {
      "image/png": "[encoded data removed]",
      "text/plain": [
       "<Figure size 432x288 with 1 Axes>"
      ]
     },
     "metadata": {
      "needs_background": "light"
     },
     "output_type": "display_data"
    }
   ],
   "source": [
    "# use with default\n",
    "pd.crosstab(data.use,data.default).plot(kind='bar')\n",
    "plt.title('Relationship between use and default')\n",
    "plt.xlabel('use')\n",
    "plt.ylabel('default')"
   ]
  },
  {
   "cell_type": "code",
   "execution_count": 11,
   "metadata": {},
   "outputs": [
    {
     "data": {
      "text/plain": [
       "Text(0, 0.5, 'default')"
      ]
     },
     "execution_count": 11,
     "metadata": {},
     "output_type": "execute_result"
    },
    {
     "data": {
      "image/png": "[encoded data removed]",
      "text/plain": [
       "<Figure size 432x288 with 1 Axes>"
      ]
     },
     "metadata": {
      "needs_background": "light"
     },
     "output_type": "display_data"
    }
   ],
   "source": [
    "# gender with default\n",
    "pd.crosstab(data.gender,data.default).plot(kind='bar')\n",
    "plt.title('Relationship between gender and default')\n",
    "plt.xlabel('gender')\n",
    "plt.ylabel('default')"
   ]
  },
  {
   "cell_type": "markdown",
   "metadata": {},
   "source": [
    "#### According to the graphs above, \"payment type\" and \"use\" have relatively strong relationship with \"default\"."
   ]
  },
  {
   "cell_type": "markdown",
   "metadata": {},
   "source": [
    "### 3. Calculate Linear and/or Logistic Regression Models to Predict Churn/Retention, you may choose to identify groups within the data to narrow your focus on. (The \"default\" variable = churn, you may choose to only use age and payment type to build a model to predict \"default\" = churn) \n",
    "\n",
    "### and \n",
    "\n",
    "### 4. Display the output visually using charts of your choosing and explain your choice. (Confusion Matrix) "
   ]
  },
  {
   "cell_type": "code",
   "execution_count": 12,
   "metadata": {},
   "outputs": [],
   "source": [
    "X = data[['use','pmttype']]\n",
    "y = data['default']\n",
    "X_train,X_test,y_train,y_test = train_test_split(X,y,test_size=0.25,random_state=0)"
   ]
  },
  {
   "cell_type": "code",
   "execution_count": 13,
   "metadata": {},
   "outputs": [
    {
     "name": "stdout",
     "output_type": "stream",
     "text": [
      "[0.18716191 0.00784681 0.01928669 0.03999187 0.         0.02554455\n",
      " 0.35979395 0.00784681 0.03999187 0.01928669]\n"
     ]
    }
   ],
   "source": [
    "# RandomForest\n",
    "rf = RandomForestRegressor(n_estimators= 100).fit(X_train, y_train)\n",
    "rf_prediction = rf.predict(X_test)\n",
    "print(rf_prediction[:10])"
   ]
  },
  {
   "cell_type": "code",
   "execution_count": 14,
   "metadata": {},
   "outputs": [
    {
     "data": {
      "text/plain": [
       "<matplotlib.axes._subplots.AxesSubplot at 0x11964b5b0>"
      ]
     },
     "execution_count": 14,
     "metadata": {},
     "output_type": "execute_result"
    },
    {
     "data": {
      "image/png": "[encoded data removed]",
      "text/plain": [
       "<Figure size 432x288 with 2 Axes>"
      ]
     },
     "metadata": {
      "needs_background": "light"
     },
     "output_type": "display_data"
    }
   ],
   "source": [
    "rf_confusion_matrix = pd.crosstab(y_test, rf_prediction, rownames=['Actual'], colnames=['Predicted'])\n",
    "sns.heatmap(rf_confusion_matrix, annot=True)"
   ]
  },
  {
   "cell_type": "code",
   "execution_count": 18,
   "metadata": {},
   "outputs": [],
   "source": [
    "# logistic regression\n",
    "lr = LogisticRegression().fit(X_train,y_train)\n",
    "lr_prediction=lr.predict(X_test)"
   ]
  },
  {
   "cell_type": "code",
   "execution_count": 19,
   "metadata": {},
   "outputs": [
    {
     "data": {
      "text/plain": [
       "<matplotlib.axes._subplots.AxesSubplot at 0x11935ecd0>"
      ]
     },
     "execution_count": 19,
     "metadata": {},
     "output_type": "execute_result"
    },
    {
     "data": {
      "image/png": "[encoded data removed]",
      "text/plain": [
       "<Figure size 432x288 with 2 Axes>"
      ]
     },
     "metadata": {
      "needs_background": "light"
     },
     "output_type": "display_data"
    }
   ],
   "source": [
    "lr_confusion_matrix = pd.crosstab(y_test, lr_prediction, rownames=['Actual'], colnames=['Predicted'])\n",
    "sns.heatmap(lr_confusion_matrix, annot=True)"
   ]
  },
  {
   "cell_type": "code",
   "execution_count": 20,
   "metadata": {},
   "outputs": [
    {
     "name": "stdout",
     "output_type": "stream",
     "text": [
      "Logistic regression Accuracy:  0.883915633553373\n"
     ]
    }
   ],
   "source": [
    "print('Logistic regression Accuracy: ',metrics.accuracy_score(y_test, lr_prediction))\n",
    "plt.show()"
   ]
  },
  {
   "cell_type": "code",
   "execution_count": 21,
   "metadata": {},
   "outputs": [],
   "source": [
    "# Linear Regression for use and default\n",
    "X1 = data[['use']]\n",
    "y1 = data['default']\n",
    "X_train1,X_test1,y_train1,y_test1 = train_test_split(X1,y1,test_size=0.25,random_state=0)\n",
    "reg1 = LinearRegression().fit(X1,y1)"
   ]
  },
  {
   "cell_type": "code",
   "execution_count": 22,
   "metadata": {},
   "outputs": [
    {
     "data": {
      "text/plain": [
       "0.05973670147300569"
      ]
     },
     "execution_count": 22,
     "metadata": {},
     "output_type": "execute_result"
    }
   ],
   "source": [
    "reg1.score(X1,y1)"
   ]
  },
  {
   "cell_type": "code",
   "execution_count": 23,
   "metadata": {},
   "outputs": [
    {
     "data": {
      "image/png": "[encoded data removed]",
      "text/plain": [
       "<Figure size 432x288 with 1 Axes>"
      ]
     },
     "metadata": {
      "needs_background": "light"
     },
     "output_type": "display_data"
    }
   ],
   "source": [
    "y_pred1 = reg1.predict(X_test1)\n",
    "plt.scatter(X_test1,y_test1,color='b')\n",
    "plt.plot(X_test1,y_pred1,color = 'k')\n",
    "plt.show()"
   ]
  },
  {
   "cell_type": "code",
   "execution_count": 24,
   "metadata": {},
   "outputs": [],
   "source": [
    "# Linear Regression for gender and default\n",
    "X2 = data[['gender']]\n",
    "y2 = data['default']\n",
    "X_train2,X_test2,y_train2,y_test2 = train_test_split(X2,y2,test_size=0.25,random_state=0)\n",
    "reg2 = LinearRegression().fit(X2,y2)"
   ]
  },
  {
   "cell_type": "code",
   "execution_count": 25,
   "metadata": {},
   "outputs": [
    {
     "data": {
      "text/plain": [
       "0.001476756138826807"
      ]
     },
     "execution_count": 25,
     "metadata": {},
     "output_type": "execute_result"
    }
   ],
   "source": [
    "reg2.score(X2,y2)"
   ]
  },
  {
   "cell_type": "code",
   "execution_count": 26,
   "metadata": {},
   "outputs": [
    {
     "data": {
      "image/png": "[encoded data removed]",
      "text/plain": [
       "<Figure size 432x288 with 1 Axes>"
      ]
     },
     "metadata": {
      "needs_background": "light"
     },
     "output_type": "display_data"
    }
   ],
   "source": [
    "y_pred2 = reg2.predict(X_test2)\n",
    "plt.scatter(X_test2,y_test2,color='b')\n",
    "plt.plot(X_test2,y_pred2,color = 'k')\n",
    "plt.show()"
   ]
  },
  {
   "cell_type": "code",
   "execution_count": 27,
   "metadata": {},
   "outputs": [],
   "source": [
    "# Linear Regression for pmttype and default\n",
    "X3 = data[['pmttype']]\n",
    "y3 = data['default']\n",
    "X_train3,X_test3,y_train3,y_test3 = train_test_split(X3,y3,test_size=0.25,random_state=0)\n",
    "reg3 = LinearRegression().fit(X3,y3)"
   ]
  },
  {
   "cell_type": "code",
   "execution_count": 28,
   "metadata": {},
   "outputs": [
    {
     "data": {
      "text/plain": [
       "0.09008353619343434"
      ]
     },
     "execution_count": 28,
     "metadata": {},
     "output_type": "execute_result"
    }
   ],
   "source": [
    "reg3.score(X3,y3)"
   ]
  },
  {
   "cell_type": "code",
   "execution_count": 29,
   "metadata": {},
   "outputs": [
    {
     "data": {
      "image/png": "[encoded data removed]",
      "text/plain": [
       "<Figure size 432x288 with 1 Axes>"
      ]
     },
     "metadata": {
      "needs_background": "light"
     },
     "output_type": "display_data"
    }
   ],
   "source": [
    "y_pred3 = reg3.predict(X_test3)\n",
    "plt.scatter(X_test3,y_test3,color='b')\n",
    "plt.plot(X_test3,y_pred3,color = 'k')\n",
    "plt.show()"
   ]
  },
  {
   "cell_type": "code",
   "execution_count": null,
   "metadata": {},
   "outputs": [],
   "source": []
  }
 ],
 "metadata": {
  "kernelspec": {
   "display_name": "Python 3",
   "language": "python",
   "name": "python3"
  },
  "language_info": {
   "codemirror_mode": {
    "name": "ipython",
    "version": 3
   },
   "file_extension": ".py",
   "mimetype": "text/x-python",
   "name": "python",
   "nbconvert_exporter": "python",
   "pygments_lexer": "ipython3",
   "version": "3.8.3"
  }
 },
 "nbformat": 4,
 "nbformat_minor": 4
}

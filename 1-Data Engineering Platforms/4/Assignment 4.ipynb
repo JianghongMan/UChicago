{
 "cells": [
  {
   "cell_type": "markdown",
   "metadata": {},
   "source": [
    "### MangoDB"
   ]
  },
  {
   "cell_type": "code",
   "execution_count": 4,
   "metadata": {},
   "outputs": [],
   "source": [
    "#import libraries\n",
    "import pymongo\n",
    "import json\n",
    "from pymongo import MongoClient"
   ]
  },
  {
   "cell_type": "code",
   "execution_count": 5,
   "metadata": {},
   "outputs": [],
   "source": [
    "#connect to local database server\n",
    "client = MongoClient()\n",
    "\n",
    "#switch to test DB\n",
    "db = client.sakila"
   ]
  },
  {
   "cell_type": "code",
   "execution_count": 6,
   "metadata": {},
   "outputs": [],
   "source": [
    "# function to print only first n documents (to avoid perf/memory issues)\n",
    "def printhead(cursor, n):\n",
    "    for idx,document in enumerate(cursor):\n",
    "        if idx <= n: \n",
    "            print(document)\n",
    "        else:\n",
    "            break"
   ]
  },
  {
   "cell_type": "markdown",
   "metadata": {},
   "source": [
    "1. List total number of customers living in California"
   ]
  },
  {
   "cell_type": "code",
   "execution_count": null,
   "metadata": {},
   "outputs": [],
   "source": [
    "db.customers.find({ \"District\": \"California\" }).count()"
   ]
  },
  {
   "cell_type": "markdown",
   "metadata": {},
   "source": [
    "2. List all movies that are rated NC-17"
   ]
  },
  {
   "cell_type": "code",
   "execution_count": null,
   "metadata": {},
   "outputs": [],
   "source": [
    "db.films.find({\"Rating\": \"NC-17\"})"
   ]
  },
  {
   "cell_type": "markdown",
   "metadata": {},
   "source": [
    "3. List the count of movies by category"
   ]
  },
  {
   "cell_type": "code",
   "execution_count": null,
   "metadata": {},
   "outputs": [],
   "source": [
    "db.films.aggregate([{\"$group\" : {_id:\"$Category\", count:{$sum:1}}}])"
   ]
  },
  {
   "cell_type": "markdown",
   "metadata": {},
   "source": [
    "4. Find the top 2 movies with movie length greater than 25mins OR which has commentaries as a special feature"
   ]
  },
  {
   "cell_type": "code",
   "execution_count": null,
   "metadata": {},
   "outputs": [],
   "source": [
    "db.films.aggregate([{$sort: {Length: -1}},{$limit: 2},{$match: {$or: [ { 'Special Features' : \"Commentaries\" }, { Length: { $gt: 25 } }]}}])"
   ]
  },
  {
   "cell_type": "markdown",
   "metadata": {},
   "source": [
    "5. Find the top 10 customers based on number of rentals"
   ]
  },
  {
   "cell_type": "code",
   "execution_count": null,
   "metadata": {},
   "outputs": [],
   "source": [
    "db.customers.aggregate({$unwind: \"$Rentals\"}, {$group: {_id:\"$_id\", ct:{$sum:1}}}, { $sort :{ ct: -1}}, {$limit:10})"
   ]
  },
  {
   "cell_type": "markdown",
   "metadata": {},
   "source": [
    "6. Provide 5 additional queries and indicate the specific business use cases they address\n",
    " - Note: Insights should not be a flavor of the previously addressed queries within Assignment 4."
   ]
  },
  {
   "cell_type": "markdown",
   "metadata": {},
   "source": [
    "* 6.1 Retrieve all movies from the films collection whose rating equals either \"G\" or \"PG-13\""
   ]
  },
  {
   "cell_type": "code",
   "execution_count": null,
   "metadata": {},
   "outputs": [],
   "source": [
    "db.films.find( { Rating: { $in: [ \"G\", \"PG-13\" ] } } )"
   ]
  },
  {
   "cell_type": "markdown",
   "metadata": {},
   "source": [
    "* 6.2 Retrive all movies in the films collection where the category is \"Family\" and either length is greater than 100 or Rating starts with the character P"
   ]
  },
  {
   "cell_type": "code",
   "execution_count": null,
   "metadata": {},
   "outputs": [],
   "source": [
    "db.films.find( {\n",
    "     Category: \"Family\",\n",
    "     $or: [ { length: { $gt: 100 } }, { Rating: /^P/ } ]\n",
    "} )"
   ]
  },
  {
   "cell_type": "markdown",
   "metadata": {},
   "source": [
    "* 6.3 Retrive all films where contains actors Lucilie Tracy"
   ]
  },
  {
   "cell_type": "code",
   "execution_count": null,
   "metadata": {},
   "outputs": [],
   "source": [
    "db.films.find( { \"Actors\": {   \"First name\": \"LUCILLE\", \"Last name\": \"TRACY\", \"actorId\": 20 } } )"
   ]
  },
  {
   "cell_type": "markdown",
   "metadata": {},
   "source": [
    "* 6.4 Retrive all stores where the Inventory array has contains the filmId whose value is less than or equal to 5"
   ]
  },
  {
   "cell_type": "code",
   "execution_count": null,
   "metadata": {},
   "outputs": [],
   "source": [
    "db.stores.find( { 'Inventory.filmId': { $lte: 5 } } )"
   ]
  },
  {
   "cell_type": "markdown",
   "metadata": {},
   "source": [
    "* 6.5 Retrive films where any actorId nested in the Actors array has the field greater than 1 and less than or equal to 10"
   ]
  },
  {
   "cell_type": "code",
   "execution_count": null,
   "metadata": {},
   "outputs": [],
   "source": [
    "db.films.find( { \"Actors.actorId\": { $gt: 1,  $lte: 10 } } )"
   ]
  },
  {
   "cell_type": "markdown",
   "metadata": {},
   "source": [
    "### Neo4j"
   ]
  },
  {
   "cell_type": "markdown",
   "metadata": {},
   "source": [
    "1. Find all Producers that produced the movie When Harry Met Sally"
   ]
  },
  {
   "cell_type": "code",
   "execution_count": null,
   "metadata": {},
   "outputs": [],
   "source": [
    "MATCH (p:Person)-[:PRODUCED]->(m:Movie)\n",
    "WHERE m.title ='When Harry Met Sally'\n",
    "RETURN p.name as producer, m.title as movie"
   ]
  },
  {
   "cell_type": "markdown",
   "metadata": {},
   "source": [
    "2. Find directors who have directed more than 2 movies"
   ]
  },
  {
   "cell_type": "code",
   "execution_count": null,
   "metadata": {},
   "outputs": [],
   "source": [
    "MATCH (d:Person)-[:DIRECTED]->(m:Movie)\n",
    "WITH  d, count(m) AS numMovies, collect(m.title) AS movies\n",
    "WHERE numMovies > 2\n",
    "RETURN d.name, movies"
   ]
  },
  {
   "cell_type": "markdown",
   "metadata": {},
   "source": [
    "3. Find the actors with 5+ movies, and the movies in which they acted"
   ]
  },
  {
   "cell_type": "code",
   "execution_count": null,
   "metadata": {},
   "outputs": [],
   "source": [
    "MATCH (a:Person)-[:ACTED_IN]->(m:Movie)\n",
    "WITH a, count(m) AS numMovies, collect(m.title) AS movies\n",
    "WHERE numMovies  > 5\n",
    "RETURN a.name, movies"
   ]
  },
  {
   "cell_type": "markdown",
   "metadata": {},
   "source": [
    "4. Movies and actors exactly 3 \"hops\" away from the movie Hoffa"
   ]
  },
  {
   "cell_type": "code",
   "execution_count": null,
   "metadata": {},
   "outputs": [],
   "source": [
    "MATCH (Hoffa:Movie {title:\"Hoffa\"})-[*3]-(person:Person)-[:ACTED_IN]->(movie:Movie)\n",
    "RETURN distinct person.name as name, movie.title as title"
   ]
  },
  {
   "cell_type": "markdown",
   "metadata": {},
   "source": [
    "5. Find all actors who have also directed movies and the movies that they\n",
    "directed"
   ]
  },
  {
   "cell_type": "code",
   "execution_count": null,
   "metadata": {},
   "outputs": [],
   "source": [
    "MATCH (m:Movie)<-[:DIRECTED]-(a2:Person)\n",
    "WHERE (m)<-[:ACTED_IN]-(a2)\n",
    "WITH m, collect(a2.name) as directors\n",
    "WITH m, directors, [(m)<-[:ACTED_IN]-(a1) WHERE NOT a1 IN directors | a1.name] as actors\n",
    "RETURN directors as `Actor/Director(s)`, m.title as Movie"
   ]
  },
  {
   "cell_type": "markdown",
   "metadata": {},
   "source": [
    "6. Provide 5 additional queries and indicate the specific business use cases they\n",
    "address\n",
    " - Note: Insights should not be a flavor of the previously addressed queries within\n",
    "Assignment 4."
   ]
  },
  {
   "cell_type": "markdown",
   "metadata": {},
   "source": [
    "* 6.1 Retrieve all Movie nodes."
   ]
  },
  {
   "cell_type": "code",
   "execution_count": null,
   "metadata": {},
   "outputs": [],
   "source": [
    "MATCH (m:Movie) RETURN m"
   ]
  },
  {
   "cell_type": "markdown",
   "metadata": {},
   "source": [
    "* 6.2 Retrieve all movies that Tom Hanks has acted in and the co-actors that acted in the same movie, returning the movie title and the list of co-actors that Tom Hanks worked with."
   ]
  },
  {
   "cell_type": "code",
   "execution_count": null,
   "metadata": {},
   "outputs": [],
   "source": [
    "MATCH (p:Person)-[:ACTED_IN]->(m:Movie)<-[:ACTED_IN]-(p2:Person)\n",
    "WHERE p.name ='Tom Hanks'\n",
    "RETURN m.title as movie, collect(p2.name) AS `co-actors`"
   ]
  },
  {
   "cell_type": "markdown",
   "metadata": {},
   "source": [
    "* 6.3 Retrieve all people who reviewed a movie, returning the list of reviewers and how many reviewers reviewed the movie."
   ]
  },
  {
   "cell_type": "code",
   "execution_count": null,
   "metadata": {},
   "outputs": [],
   "source": [
    "MATCH (p:Person)-[:REVIEWED]->(m:Movie)\n",
    "RETURN m.title as movie, count(p) as numReviews, collect(p.name) as reviewers"
   ]
  },
  {
   "cell_type": "markdown",
   "metadata": {},
   "source": [
    "* 6.4 Retrieve all movies that Tom Cruise acted in, returning the title of the movie, the year the movie was released, the number of years ago that the movie was released, and the age of Tom when the movie was released."
   ]
  },
  {
   "cell_type": "code",
   "execution_count": null,
   "metadata": {},
   "outputs": [],
   "source": [
    "MATCH (a:Person)-[:ACTED_IN]->(m:Movie)\n",
    "WHERE a.name = 'Tom Cruise'\n",
    "RETURN  m.title, m.released, date().year  - m.released as yearsAgoReleased, m.released  - a.born AS `age of Tom`\n",
    "ORDER BY yearsAgoReleased"
   ]
  },
  {
   "cell_type": "markdown",
   "metadata": {},
   "source": [
    "* 6.5 Retrieve all actors that acted in movies, and also retrieves the producers for those movies. Make sure there is no duplication of data and order the results based on the size of the list of actors."
   ]
  },
  {
   "cell_type": "code",
   "execution_count": null,
   "metadata": {},
   "outputs": [],
   "source": [
    "MATCH (a:Person)-[:ACTED_IN]->(m:Movie),\n",
    "      (m)<-[:PRODUCED]-(p:Person)\n",
    "WITH  m, collect(DISTINCT a.name) AS actors, collect(DISTINCT p.name) AS producers\n",
    "RETURN DISTINCT m.title, actors, producers\n",
    "ORDER BY size(actors)"
   ]
  },
  {
   "cell_type": "code",
   "execution_count": null,
   "metadata": {},
   "outputs": [],
   "source": []
  }
 ],
 "metadata": {
  "kernelspec": {
   "display_name": "Python 3",
   "language": "python",
   "name": "python3"
  },
  "language_info": {
   "codemirror_mode": {
    "name": "ipython",
    "version": 3
   },
   "file_extension": ".py",
   "mimetype": "text/x-python",
   "name": "python",
   "nbconvert_exporter": "python",
   "pygments_lexer": "ipython3",
   "version": "3.8.3"
  }
 },
 "nbformat": 4,
 "nbformat_minor": 4
}

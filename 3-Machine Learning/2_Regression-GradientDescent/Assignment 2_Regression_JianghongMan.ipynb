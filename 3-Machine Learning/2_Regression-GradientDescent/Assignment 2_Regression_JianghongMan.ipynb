{
 "cells": [
  {
   "cell_type": "code",
   "execution_count": 42,
   "metadata": {},
   "outputs": [],
   "source": [
    "import pandas as pd\n",
    "import seaborn as sns\n",
    "import numpy as np\n",
    "import matplotlib as mpl\n",
    "import matplotlib.pyplot as plt\n",
    "import warnings\n",
    "warnings.filterwarnings(\"ignore\")\n",
    "%matplotlib inline\n",
    "\n",
    "import sklearn\n",
    "from sklearn.model_selection import train_test_split\n",
    "from sklearn.preprocessing import StandardScaler\n",
    "from sklearn.metrics import mean_squared_error\n",
    "from sklearn.metrics import r2_score\n",
    "from sklearn.metrics import explained_variance_score"
   ]
  },
  {
   "cell_type": "markdown",
   "metadata": {},
   "source": [
    "### Part A: Data Cleaning"
   ]
  },
  {
   "cell_type": "code",
   "execution_count": 43,
   "metadata": {},
   "outputs": [
    {
     "data": {
      "text/plain": [
       "(864863, 74)"
      ]
     },
     "execution_count": 43,
     "metadata": {},
     "output_type": "execute_result"
    }
   ],
   "source": [
    "# Import full data set using Pandas and verify the shape\n",
    "df = pd.read_csv('bottle.csv')\n",
    "df.shape"
   ]
  },
  {
   "cell_type": "code",
   "execution_count": 44,
   "metadata": {},
   "outputs": [],
   "source": [
    "# Limit the dataset to specific columns\n",
    "df = df[['T_degC', 'Salnty', 'STheta', 'O2ml_L', 'Depthm']]"
   ]
  },
  {
   "cell_type": "code",
   "execution_count": 45,
   "metadata": {},
   "outputs": [
    {
     "data": {
      "text/plain": [
       "(661268, 5)"
      ]
     },
     "execution_count": 45,
     "metadata": {},
     "output_type": "execute_result"
    }
   ],
   "source": [
    "# Remove NaN / NA values from dataset\n",
    "df = df.dropna()\n",
    "df.shape"
   ]
  },
  {
   "cell_type": "code",
   "execution_count": 46,
   "metadata": {},
   "outputs": [
    {
     "data": {
      "image/png": "[encoded data removed]",
      "text/plain": [
       "<Figure size 432x288 with 1 Axes>"
      ]
     },
     "metadata": {
      "needs_background": "light"
     },
     "output_type": "display_data"
    }
   ],
   "source": [
    "# Scatter: STheta (density of water) vs T_degC\n",
    "df.plot.scatter(x='STheta', y='T_degC', color=\"b\")\n",
    "plt.xlabel('STheta (density of water)', fontsize=18)\n",
    "plt.ylabel('T_degC',fontsize=18)\n",
    "plt.show()"
   ]
  },
  {
   "cell_type": "code",
   "execution_count": 47,
   "metadata": {},
   "outputs": [
    {
     "data": {
      "text/plain": [
       "(661268, 5)"
      ]
     },
     "execution_count": 47,
     "metadata": {},
     "output_type": "execute_result"
    }
   ],
   "source": [
    "# Remove obvious outliers\n",
    "df = df.loc[(df['STheta'] < 100)]\n",
    "df.shape"
   ]
  },
  {
   "cell_type": "markdown",
   "metadata": {},
   "source": [
    "### Part B: Train / Test Split & Scaling"
   ]
  },
  {
   "cell_type": "code",
   "execution_count": 48,
   "metadata": {},
   "outputs": [
    {
     "data": {
      "text/html": [
       "<div>\n",
       "<style scoped>\n",
       "    .dataframe tbody tr th:only-of-type {\n",
       "        vertical-align: middle;\n",
       "    }\n",
       "\n",
       "    .dataframe tbody tr th {\n",
       "        vertical-align: top;\n",
       "    }\n",
       "\n",
       "    .dataframe thead th {\n",
       "        text-align: right;\n",
       "    }\n",
       "</style>\n",
       "<table border=\"1\" class=\"dataframe\">\n",
       "  <thead>\n",
       "    <tr style=\"text-align: right;\">\n",
       "      <th></th>\n",
       "      <th>T_degC</th>\n",
       "      <th>Salnty</th>\n",
       "      <th>STheta</th>\n",
       "      <th>O2ml_L</th>\n",
       "      <th>Depthm</th>\n",
       "    </tr>\n",
       "  </thead>\n",
       "  <tbody>\n",
       "    <tr>\n",
       "      <th>2160</th>\n",
       "      <td>10.30</td>\n",
       "      <td>33.030</td>\n",
       "      <td>25.364</td>\n",
       "      <td>5.90</td>\n",
       "      <td>0</td>\n",
       "    </tr>\n",
       "    <tr>\n",
       "      <th>2161</th>\n",
       "      <td>18.46</td>\n",
       "      <td>32.920</td>\n",
       "      <td>23.568</td>\n",
       "      <td>6.02</td>\n",
       "      <td>6</td>\n",
       "    </tr>\n",
       "    <tr>\n",
       "      <th>2162</th>\n",
       "      <td>10.29</td>\n",
       "      <td>32.951</td>\n",
       "      <td>25.304</td>\n",
       "      <td>6.04</td>\n",
       "      <td>10</td>\n",
       "    </tr>\n",
       "    <tr>\n",
       "      <th>2163</th>\n",
       "      <td>10.29</td>\n",
       "      <td>32.990</td>\n",
       "      <td>25.335</td>\n",
       "      <td>6.06</td>\n",
       "      <td>15</td>\n",
       "    </tr>\n",
       "    <tr>\n",
       "      <th>2164</th>\n",
       "      <td>10.33</td>\n",
       "      <td>33.005</td>\n",
       "      <td>25.339</td>\n",
       "      <td>6.04</td>\n",
       "      <td>20</td>\n",
       "    </tr>\n",
       "  </tbody>\n",
       "</table>\n",
       "</div>"
      ],
      "text/plain": [
       "      T_degC  Salnty  STheta  O2ml_L  Depthm\n",
       "2160   10.30  33.030  25.364    5.90       0\n",
       "2161   18.46  32.920  23.568    6.02       6\n",
       "2162   10.29  32.951  25.304    6.04      10\n",
       "2163   10.29  32.990  25.335    6.06      15\n",
       "2164   10.33  33.005  25.339    6.04      20"
      ]
     },
     "execution_count": 48,
     "metadata": {},
     "output_type": "execute_result"
    }
   ],
   "source": [
    "df.head()"
   ]
  },
  {
   "cell_type": "code",
   "execution_count": 49,
   "metadata": {},
   "outputs": [],
   "source": [
    "# Create X & y objects and reshape y\n",
    "cols = list(df.columns.values) \n",
    "cols.pop(cols.index('T_degC')) \n",
    "X = df[cols] \n",
    "y = df[\"T_degC\"]\n",
    "\n",
    "y = y.values.reshape(661268, 1)"
   ]
  },
  {
   "cell_type": "code",
   "execution_count": 50,
   "metadata": {},
   "outputs": [
    {
     "name": "stdout",
     "output_type": "stream",
     "text": [
      "(661268, 4) (661268, 1)\n"
     ]
    }
   ],
   "source": [
    "print(X.shape, y.shape)"
   ]
  },
  {
   "cell_type": "code",
   "execution_count": 51,
   "metadata": {},
   "outputs": [],
   "source": [
    "# Generate X_train, X_test, y_train & y_test. Use 80% for train & 20% for test\n",
    "np.random.seed(42)\n",
    "X_train, X_test, y_train, y_test = train_test_split(X, y, test_size=0.2, random_state=42)"
   ]
  },
  {
   "cell_type": "code",
   "execution_count": 52,
   "metadata": {},
   "outputs": [],
   "source": [
    "# Scale all features to improve convergence in Gradient Descent\n",
    "scaler = StandardScaler()\n",
    "X_train_scaled = scaler.fit(X_train).transform(X_train)\n",
    "X_test_scaled = scaler.fit(X_test).transform(X_test)"
   ]
  },
  {
   "cell_type": "code",
   "execution_count": 53,
   "metadata": {},
   "outputs": [
    {
     "name": "stdout",
     "output_type": "stream",
     "text": [
      "(529014, 4) (132254, 4)\n"
     ]
    }
   ],
   "source": [
    "print(X_train_scaled.shape, X_test_scaled.shape)"
   ]
  },
  {
   "cell_type": "markdown",
   "metadata": {},
   "source": [
    "### Part C: Linear Regression with sklearn"
   ]
  },
  {
   "cell_type": "code",
   "execution_count": 54,
   "metadata": {},
   "outputs": [
    {
     "data": {
      "text/plain": [
       "LinearRegression()"
      ]
     },
     "execution_count": 54,
     "metadata": {},
     "output_type": "execute_result"
    }
   ],
   "source": [
    "# Create an instance of the LinearRegression class called \"lin_reg\". Fit lin_reg using X_train_scaled & y_train\n",
    "from sklearn.linear_model import LinearRegression\n",
    "lin_reg = LinearRegression()\n",
    "lin_reg.fit(X_train_scaled,y_train)"
   ]
  },
  {
   "cell_type": "code",
   "execution_count": 55,
   "metadata": {},
   "outputs": [
    {
     "name": "stdout",
     "output_type": "stream",
     "text": [
      "the intercept is: [10.91541795]\n",
      "the four coefficients are: [[ 1.63046569 -4.6345913   0.3020677  -0.47495536]]\n"
     ]
    }
   ],
   "source": [
    "# Print out the coefficients and the intercept\n",
    "print('the intercept is:', lin_reg.intercept_)\n",
    "print('the four coefficients are:', lin_reg.coef_)"
   ]
  },
  {
   "cell_type": "code",
   "execution_count": 56,
   "metadata": {},
   "outputs": [
    {
     "name": "stdout",
     "output_type": "stream",
     "text": [
      "[[16.68757262 16.76      ]\n",
      " [ 8.62255144  8.2       ]\n",
      " [10.69854382 10.94      ]\n",
      " ...\n",
      " [ 6.16833123  6.1       ]\n",
      " [10.94458735 11.1       ]\n",
      " [16.36913142 16.5       ]]\n"
     ]
    }
   ],
   "source": [
    "# Predict T_degC for the test data using the fitted values in b\n",
    "y_pred_sklearn = lin_reg.predict(X_test_scaled)\n",
    "print(np.concatenate((y_pred_sklearn.reshape(len(y_pred_sklearn),1), y_test.reshape(len(y_test),1)),1))"
   ]
  },
  {
   "cell_type": "code",
   "execution_count": 57,
   "metadata": {},
   "outputs": [
    {
     "name": "stdout",
     "output_type": "stream",
     "text": [
      "mean squared error: 0.11121967155279679\n",
      "r-squared: 0.99375654598565\n",
      "explained variance: 0.9937629850032851\n"
     ]
    }
   ],
   "source": [
    "# Calculate the parameters for the test data\n",
    "print('mean squared error:', mean_squared_error(y_test,y_pred_sklearn))\n",
    "print('r-squared:', r2_score(y_test,y_pred_sklearn))\n",
    "print('explained variance:', explained_variance_score(y_test,y_pred_sklearn))"
   ]
  },
  {
   "cell_type": "code",
   "execution_count": 58,
   "metadata": {},
   "outputs": [
    {
     "data": {
      "text/plain": [
       "<matplotlib.collections.PathCollection at 0x1413caf70>"
      ]
     },
     "execution_count": 58,
     "metadata": {},
     "output_type": "execute_result"
    },
    {
     "data": {
      "image/png": "[encoded data removed]",
      "text/plain": [
       "<Figure size 432x288 with 1 Axes>"
      ]
     },
     "metadata": {
      "needs_background": "light"
     },
     "output_type": "display_data"
    }
   ],
   "source": [
    "# Create a scatterplot that shows actual versus predicted values for the T_degC\n",
    "plt.scatter(y_test,y_pred_sklearn)"
   ]
  },
  {
   "cell_type": "markdown",
   "metadata": {},
   "source": [
    "### Part D: Gradient Descent Mini-Batch"
   ]
  },
  {
   "cell_type": "markdown",
   "metadata": {},
   "source": [
    "#### Batch Size: 50"
   ]
  },
  {
   "cell_type": "code",
   "execution_count": 59,
   "metadata": {},
   "outputs": [
    {
     "name": "stdout",
     "output_type": "stream",
     "text": [
      "X_train_scaled shape is: (529014, 4)\n",
      "new X_train_scaled is:\n",
      " [[ 1.         -0.94801805 -0.33072186  0.80884944 -0.22441603]\n",
      " [ 1.          0.62640206  0.87719897 -0.85837645  0.31487462]\n",
      " [ 1.         -1.39537053 -0.99210802  1.19062    -0.61604377]\n",
      " ...\n",
      " [ 1.         -1.05659875 -1.19705852  1.15195969 -0.6481444 ]\n",
      " [ 1.          1.45595859  1.4712584  -1.53009935  1.86212518]\n",
      " [ 1.         -1.39537053  0.18511974  1.11329938 -0.30787768]]\n",
      "X_test_scaled shape is: (132254, 4)\n",
      "new X_test_scaled is:\n",
      " [[ 1.         -1.58960295 -1.66688778  1.15429535 -0.61043374]\n",
      " [ 1.          0.1744444   0.59194681  0.22489227 -0.20677048]\n",
      " [ 1.         -0.13877732  0.0334383  -0.07038683 -0.39084093]\n",
      " ...\n",
      " [ 1.          1.05755565  1.20204048 -1.49837594  0.9428625 ]\n",
      " [ 1.         -0.44764874 -0.10346076  0.64602804 -0.17770672]\n",
      " [ 1.         -1.58960295 -1.60637443  1.13009215 -0.54584762]]\n"
     ]
    }
   ],
   "source": [
    "# Add a column of 1s to X_train_scaled and X_test_scaled\n",
    "print('X_train_scaled shape is:', X_train_scaled.shape)\n",
    "X_train_scaled_shape = X_train_scaled.shape[0]\n",
    "X_train_scaled_b = np.c_[np.ones((X_train_scaled_shape, 1)), X_train_scaled]\n",
    "print('new X_train_scaled is:\\n', X_train_scaled_b)\n",
    "\n",
    "print('X_test_scaled shape is:', X_test_scaled.shape)\n",
    "X_test_scaled_shape = X_test_scaled.shape[0]\n",
    "X_test_scaled_b = np.c_[np.ones((X_test_scaled_shape, 1)), X_test_scaled]\n",
    "print('new X_test_scaled is:\\n', X_test_scaled_b)"
   ]
  },
  {
   "cell_type": "code",
   "execution_count": 60,
   "metadata": {},
   "outputs": [],
   "source": [
    "# The cost function we will use for Gradient Descent is MSE\n",
    "def MSE_cal(X,y,theta):\n",
    "    MSE = (1/len(y))*sum((X.dot(theta) - y)**2)\n",
    "    return MSE"
   ]
  },
  {
   "cell_type": "code",
   "execution_count": 61,
   "metadata": {},
   "outputs": [],
   "source": [
    "# Feel free to use any value for eta and epochs, but 0.1 eta and 100 epochs should work fine for this HW.\n",
    "def mini_batch_gradient_descent(X, y, batch_size, n_epochs = 100, eta = 0.1):\n",
    "\n",
    "    total_samples = len(X_train_scaled_b)\n",
    "    number_of_features = X.shape[1]\n",
    "    minibatch_size = batch_size\n",
    "\n",
    "    np.random.seed(42)\n",
    "    theta = np.random.randn(number_of_features,1)  # random initialization\n",
    "\n",
    "    for epoch in range(n_epochs):\n",
    "        shuffled_indices = np.random.permutation(total_samples)\n",
    "        X_tmp = X[shuffled_indices]\n",
    "        y_tmp = y[shuffled_indices]\n",
    "        for i in range(0, total_samples, minibatch_size):\n",
    "            xi = X_tmp[i:i+minibatch_size]\n",
    "            yi = y_tmp[i:i+minibatch_size]\n",
    "            gradients = 2/minibatch_size * xi.T.dot(xi.dot(theta) - yi)\n",
    "            theta = theta - eta * gradients\n",
    "    return theta"
   ]
  },
  {
   "cell_type": "code",
   "execution_count": 62,
   "metadata": {},
   "outputs": [
    {
     "data": {
      "text/plain": [
       "array([[10.94831182],\n",
       "       [ 1.66596957],\n",
       "       [-4.69795046],\n",
       "       [ 0.34369036],\n",
       "       [-0.37783529]])"
      ]
     },
     "execution_count": 62,
     "metadata": {},
     "output_type": "execute_result"
    }
   ],
   "source": [
    "'''Order of the output: \n",
    "intercept\n",
    "'Salnty' \n",
    "'STheta' \n",
    "'O2ml_L' \n",
    "'Depthm\n",
    "'''\n",
    "theta_batch50 = mini_batch_gradient_descent(X_train_scaled_b, y_train, batch_size=50)\n",
    "theta_batch50"
   ]
  },
  {
   "cell_type": "code",
   "execution_count": 63,
   "metadata": {},
   "outputs": [],
   "source": [
    "# Calculate the parameters\n",
    "def pred_mse_r2_evs(X,y,theta):\n",
    "    y_pred = X.dot(theta)\n",
    "    mse = mean_squared_error(y, y_pred)\n",
    "    r2 = r2_score(y, y_pred)\n",
    "    evs = explained_variance_score(y, y_pred)\n",
    "    return y_pred, mse, r2, evs"
   ]
  },
  {
   "cell_type": "code",
   "execution_count": 64,
   "metadata": {},
   "outputs": [],
   "source": [
    "y_pred_batch50, mse_batch50, r2_batch50, evs_batch50 = pred_mse_r2_evs(X_test_scaled_b,y_test,theta_batch50)"
   ]
  },
  {
   "cell_type": "code",
   "execution_count": 65,
   "metadata": {},
   "outputs": [
    {
     "name": "stdout",
     "output_type": "stream",
     "text": [
      "MSE: 0.11816292000137646\n",
      "R2_score: 0.9933667781343906\n",
      "Explained variance: 0.9933944042336643\n"
     ]
    }
   ],
   "source": [
    "print(f'MSE: {mse_batch50}')\n",
    "print(f'R2_score: {r2_batch50}')\n",
    "print(f'Explained variance: {evs_batch50}')"
   ]
  },
  {
   "cell_type": "code",
   "execution_count": 66,
   "metadata": {},
   "outputs": [
    {
     "data": {
      "image/png": "[encoded data removed]",
      "text/plain": [
       "<Figure size 432x288 with 1 Axes>"
      ]
     },
     "metadata": {
      "needs_background": "light"
     },
     "output_type": "display_data"
    }
   ],
   "source": [
    "# Create a scatterplot that shows actual versus predicted values for the T_degC for the test data\n",
    "plt.scatter(y_test, y_pred_batch50)\n",
    "plt.show()"
   ]
  },
  {
   "cell_type": "code",
   "execution_count": 68,
   "metadata": {},
   "outputs": [],
   "source": [
    "# Check how our error metrics look for training data\n",
    "y_train_pred_batch50, train_mse_batch50, train_r2_batch50, train_evs_batch50 = pred_mse_r2_evs(X_train_scaled_b,y_train,theta_batch50)"
   ]
  },
  {
   "cell_type": "code",
   "execution_count": 69,
   "metadata": {},
   "outputs": [
    {
     "name": "stdout",
     "output_type": "stream",
     "text": [
      "MSE: 0.11816655068263593\n",
      "R2_score: 0.9933818028460155\n",
      "Explained variance: 0.9934424032236259\n"
     ]
    }
   ],
   "source": [
    "print(f'MSE: {train_mse_batch50}')\n",
    "print(f'R2_score: {train_r2_batch50}')\n",
    "print(f'Explained variance: {train_evs_batch50}')"
   ]
  },
  {
   "cell_type": "markdown",
   "metadata": {},
   "source": [
    "#### Batch Size: 250"
   ]
  },
  {
   "cell_type": "code",
   "execution_count": 71,
   "metadata": {},
   "outputs": [
    {
     "data": {
      "text/plain": [
       "array([[10.93058366],\n",
       "       [ 1.64538769],\n",
       "       [-4.65645869],\n",
       "       [ 0.31138468],\n",
       "       [-0.43051971]])"
      ]
     },
     "execution_count": 71,
     "metadata": {},
     "output_type": "execute_result"
    }
   ],
   "source": [
    "'''Order of the output: \n",
    "intercept\n",
    "'Salnty' \n",
    "'STheta' \n",
    "'O2ml_L' \n",
    "'Depthm\n",
    "'''\n",
    "theta_batch250 = mini_batch_gradient_descent(X_train_scaled_b, y_train, batch_size=250)\n",
    "theta_batch250"
   ]
  },
  {
   "cell_type": "code",
   "execution_count": 72,
   "metadata": {},
   "outputs": [],
   "source": [
    "y_pred_batch250, mse_batch250, r2_batch250, evs_batch250 = pred_mse_r2_evs(X_test_scaled_b,y_test,theta_batch250)"
   ]
  },
  {
   "cell_type": "code",
   "execution_count": 73,
   "metadata": {},
   "outputs": [
    {
     "name": "stdout",
     "output_type": "stream",
     "text": [
      "MSE: 0.11225340656483469\n",
      "R2_score: 0.993698515990411\n",
      "Explained variance: 0.993699630500322\n"
     ]
    }
   ],
   "source": [
    "print(f'MSE: {mse_batch250}')\n",
    "print(f'R2_score: {r2_batch250}')\n",
    "print(f'Explained variance: {evs_batch250}')"
   ]
  },
  {
   "cell_type": "code",
   "execution_count": 74,
   "metadata": {},
   "outputs": [
    {
     "data": {
      "image/png": "[encoded data removed]",
      "text/plain": [
       "<Figure size 432x288 with 1 Axes>"
      ]
     },
     "metadata": {
      "needs_background": "light"
     },
     "output_type": "display_data"
    }
   ],
   "source": [
    "plt.scatter(y_test, y_pred_batch250)\n",
    "plt.show()"
   ]
  },
  {
   "cell_type": "code",
   "execution_count": 75,
   "metadata": {},
   "outputs": [],
   "source": [
    "y_train_pred_batch250, train_mse_batch250, train_r2_batch250, train_evs_batch250 = pred_mse_r2_evs(X_train_scaled_b,y_train,theta_batch250)"
   ]
  },
  {
   "cell_type": "code",
   "execution_count": 76,
   "metadata": {},
   "outputs": [
    {
     "name": "stdout",
     "output_type": "stream",
     "text": [
      "MSE: 0.11223316404030885\n",
      "R2_score: 0.993714116198338\n",
      "Explained variance: 0.9937269978268318\n"
     ]
    }
   ],
   "source": [
    "print(f'MSE: {train_mse_batch250}')\n",
    "print(f'R2_score: {train_r2_batch250}')\n",
    "print(f'Explained variance: {train_evs_batch250}')"
   ]
  },
  {
   "cell_type": "markdown",
   "metadata": {},
   "source": [
    "#### Batch Size: 2000"
   ]
  },
  {
   "cell_type": "code",
   "execution_count": 78,
   "metadata": {},
   "outputs": [
    {
     "data": {
      "text/plain": [
       "array([[10.91728431],\n",
       "       [ 1.63566517],\n",
       "       [-4.63842578],\n",
       "       [ 0.29970095],\n",
       "       [-0.46759502]])"
      ]
     },
     "execution_count": 78,
     "metadata": {},
     "output_type": "execute_result"
    }
   ],
   "source": [
    "'''Order of the output: \n",
    "intercept\n",
    "'Salnty' \n",
    "'STheta' \n",
    "'O2ml_L' \n",
    "'Depthm\n",
    "'''\n",
    "theta_batch2000 = mini_batch_gradient_descent(X_train_scaled_b, y_train, batch_size=2000)\n",
    "theta_batch2000"
   ]
  },
  {
   "cell_type": "code",
   "execution_count": 79,
   "metadata": {},
   "outputs": [],
   "source": [
    "y_pred_batch2000, mse_batch2000, r2_batch2000, evs_batch2000 = pred_mse_r2_evs(X_test_scaled_b,y_test,theta_batch2000)"
   ]
  },
  {
   "cell_type": "code",
   "execution_count": 80,
   "metadata": {},
   "outputs": [
    {
     "name": "stdout",
     "output_type": "stream",
     "text": [
      "MSE: 0.11112202732331851\n",
      "R2_score: 0.9937620273654095\n",
      "Explained variance: 0.9937664177423069\n"
     ]
    }
   ],
   "source": [
    "print(f'MSE: {mse_batch2000}')\n",
    "print(f'R2_score: {r2_batch2000}')\n",
    "print(f'Explained variance: {evs_batch2000}')"
   ]
  },
  {
   "cell_type": "code",
   "execution_count": 81,
   "metadata": {},
   "outputs": [
    {
     "data": {
      "image/png": "[encoded data removed]",
      "text/plain": [
       "<Figure size 432x288 with 1 Axes>"
      ]
     },
     "metadata": {
      "needs_background": "light"
     },
     "output_type": "display_data"
    }
   ],
   "source": [
    "plt.scatter(y_test, y_pred_batch2000)\n",
    "plt.show()"
   ]
  },
  {
   "cell_type": "code",
   "execution_count": 82,
   "metadata": {},
   "outputs": [],
   "source": [
    "y_train_pred_batch2000, train_mse_batch2000, train_r2_batch2000, train_evs_batch2000 = pred_mse_r2_evs(X_train_scaled_b,y_train,theta_batch2000)"
   ]
  },
  {
   "cell_type": "code",
   "execution_count": 83,
   "metadata": {},
   "outputs": [
    {
     "name": "stdout",
     "output_type": "stream",
     "text": [
      "MSE: 0.1107041812493561\n",
      "R2_score: 0.9937997504958369\n",
      "Explained variance: 0.9937999455871723\n"
     ]
    }
   ],
   "source": [
    "print(f'MSE: {train_mse_batch2000}')\n",
    "print(f'R2_score: {train_r2_batch2000}')\n",
    "print(f'Explained variance: {train_evs_batch2000}')"
   ]
  },
  {
   "cell_type": "markdown",
   "metadata": {},
   "source": [
    "### Part E: Conceptual Questions"
   ]
  },
  {
   "cell_type": "markdown",
   "metadata": {},
   "source": [
    "1. Describe how parameter estimation in Gradient Descent differs from using the normal equation.\n",
    "\n",
    "---- Gradient descent is an optimization algorithm used to find the values of parameters of a function that minimizes a cost function. It is an iterative algorithm. \n",
    "\n",
    "---- However, normal equation performs minimization without iteration. Those are equations obtained by setting equal to zero the partial derivatives of the sum of squared errors or cost function. "
   ]
  },
  {
   "cell_type": "markdown",
   "metadata": {},
   "source": [
    "2. We used Mini-Batch Gradient descent here, but there are a variety of options for Gradient Descent. How is Mini-Batch Gradient Descent different from Stochastic Gradient Descent?\n",
    "\n",
    "---- Stochastic Gradient Descent calculates the error and updates the model for each example in the training dataset. It computes gradient using a single Training sample. \n",
    "\n",
    "---- Mini-batch gradient descent is a variation of the gradient descent algorithm that splits the training dataset into small batches that are used to calculate model error and update model coefficients."
   ]
  },
  {
   "cell_type": "markdown",
   "metadata": {},
   "source": [
    "3. Identify your best-performing version of Gradient Descent and compare the error metrics for test data vs training data. Does this version of gradient descent show signs of overfitting? Explain"
   ]
  },
  {
   "cell_type": "code",
   "execution_count": 84,
   "metadata": {},
   "outputs": [
    {
     "data": {
      "text/html": [
       "<div>\n",
       "<style scoped>\n",
       "    .dataframe tbody tr th:only-of-type {\n",
       "        vertical-align: middle;\n",
       "    }\n",
       "\n",
       "    .dataframe tbody tr th {\n",
       "        vertical-align: top;\n",
       "    }\n",
       "\n",
       "    .dataframe thead th {\n",
       "        text-align: right;\n",
       "    }\n",
       "</style>\n",
       "<table border=\"1\" class=\"dataframe\">\n",
       "  <thead>\n",
       "    <tr style=\"text-align: right;\">\n",
       "      <th></th>\n",
       "      <th>Test Data MSE</th>\n",
       "      <th>Train Data MSE</th>\n",
       "    </tr>\n",
       "  </thead>\n",
       "  <tbody>\n",
       "    <tr>\n",
       "      <th>Batch 50</th>\n",
       "      <td>0.118163</td>\n",
       "      <td>0.118167</td>\n",
       "    </tr>\n",
       "    <tr>\n",
       "      <th>Batch 250</th>\n",
       "      <td>0.112253</td>\n",
       "      <td>0.112233</td>\n",
       "    </tr>\n",
       "    <tr>\n",
       "      <th>Batch2000</th>\n",
       "      <td>0.111122</td>\n",
       "      <td>0.110704</td>\n",
       "    </tr>\n",
       "  </tbody>\n",
       "</table>\n",
       "</div>"
      ],
      "text/plain": [
       "           Test Data MSE  Train Data MSE\n",
       "Batch 50        0.118163        0.118167\n",
       "Batch 250       0.112253        0.112233\n",
       "Batch2000       0.111122        0.110704"
      ]
     },
     "execution_count": 84,
     "metadata": {},
     "output_type": "execute_result"
    }
   ],
   "source": [
    "pd.DataFrame([[mse_batch50,train_mse_batch50],[mse_batch250,train_mse_batch250],[mse_batch2000,train_mse_batch2000]],columns=['Test Data MSE','Train Data MSE'],index=['Batch 50','Batch 250','Batch2000'])"
   ]
  },
  {
   "cell_type": "markdown",
   "metadata": {},
   "source": [
    "---- The best-performing version of Mini-Batch Gradient Descent is with mini-batch size of 2000.\n",
    "\n",
    "This version of gradient descent does have lower MSE in the training data compared with the test data, which means there is a sign of overfitting here. However, since the error metrics are very similar for test data and traning data, I would say that there might be a tiny issue of overfitting but not very serious. "
   ]
  },
  {
   "cell_type": "markdown",
   "metadata": {},
   "source": [
    "4. Explain what the learning rate is for. Even though we did not, why might it be helpful to change the learning rate over time?\n",
    "\n",
    "---- Learning rate is a parameter that controls how much we are adjusting the weights of the network with respect the loss gradient. In other words, the lower the value, the slower we \"travel along\" the downward slope. It also affects how quickly our model can converge to a local minima. If the learning rate is low, then training is more reliable, but optimization will take a lot of time because steps towards the minimum of the loss function are tiny.\n",
    "If the learning rate is high, then training may not converge or even diverge. Weight changes can be so big that the optimizer overshoots the minimum and makes the loss worse. Thus, the training we performs should start from a relatively large learning rate and decrease during training to allow more fine-grained weight updates. "
   ]
  },
  {
   "cell_type": "markdown",
   "metadata": {},
   "source": [
    "5. Why would a data scientist want to use early stopping in gradient descent? \n",
    "\n",
    "---- Early stopping is a form of regularization used to avoid overfitting when training a model with an iterative method. Such methods update the model to make it better fit the training data with each iteration. It ensures the model not to have generalization error because of overfitting problems."
   ]
  },
  {
   "cell_type": "code",
   "execution_count": null,
   "metadata": {},
   "outputs": [],
   "source": []
  }
 ],
 "metadata": {
  "kernelspec": {
   "display_name": "Python 3",
   "language": "python",
   "name": "python3"
  },
  "language_info": {
   "codemirror_mode": {
    "name": "ipython",
    "version": 3
   },
   "file_extension": ".py",
   "mimetype": "text/x-python",
   "name": "python",
   "nbconvert_exporter": "python",
   "pygments_lexer": "ipython3",
   "version": "3.8.3"
  }
 },
 "nbformat": 4,
 "nbformat_minor": 4
}

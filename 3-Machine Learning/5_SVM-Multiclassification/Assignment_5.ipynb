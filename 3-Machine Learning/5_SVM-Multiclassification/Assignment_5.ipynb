{
 "cells": [
  {
   "cell_type": "code",
   "execution_count": 18,
   "metadata": {},
   "outputs": [],
   "source": [
    "import pandas as pd\n",
    "import seaborn as sns\n",
    "import numpy as np\n",
    "import matplotlib as mpl\n",
    "import matplotlib.pyplot as plt\n",
    "from pprint import pprint\n",
    "import warnings\n",
    "warnings.filterwarnings(\"ignore\")\n",
    "%matplotlib inline\n",
    "\n",
    "import sklearn\n",
    "from sklearn.model_selection import train_test_split\n",
    "from sklearn.preprocessing import StandardScaler\n",
    "from sklearn.metrics import classification_report\n",
    "from sklearn.metrics import confusion_matrix\n",
    "from sklearn.metrics import roc_auc_score\n",
    "from sklearn.ensemble import RandomForestClassifier\n",
    "from sklearn.model_selection import RandomizedSearchCV\n",
    "from sklearn.model_selection import GridSearchCV\n",
    "from sklearn.datasets import make_classification\n",
    "from sklearn.ensemble import ExtraTreesClassifier\n",
    "\n",
    "from sklearn.ensemble import AdaBoostClassifier\n",
    "from sklearn.ensemble import GradientBoostingClassifier\n",
    "import xgboost as xgb\n",
    "from xgboost import XGBClassifier\n",
    "from sklearn.datasets import make_classification"
   ]
  },
  {
   "cell_type": "markdown",
   "metadata": {},
   "source": [
    "### 1. Data Processing"
   ]
  },
  {
   "cell_type": "code",
   "execution_count": 19,
   "metadata": {},
   "outputs": [
    {
     "name": "stdout",
     "output_type": "stream",
     "text": [
      "(507, 148) (168, 148)\n"
     ]
    }
   ],
   "source": [
    "# Import the data\n",
    "train = pd.read_csv('train_data.csv')\n",
    "test = pd.read_csv('test_data.csv')\n",
    "print(train.shape, test.shape)"
   ]
  },
  {
   "cell_type": "code",
   "execution_count": 20,
   "metadata": {},
   "outputs": [
    {
     "name": "stdout",
     "output_type": "stream",
     "text": [
      "(507, 148) (168, 148)\n"
     ]
    }
   ],
   "source": [
    "# Remove any rows that have missing data across both sets of data\n",
    "train.dropna(inplace=True)\n",
    "test.dropna(inplace=True)\n",
    "print(train.shape, test.shape)"
   ]
  },
  {
   "cell_type": "code",
   "execution_count": 21,
   "metadata": {},
   "outputs": [
    {
     "data": {
      "text/html": [
       "<div>\n",
       "<style scoped>\n",
       "    .dataframe tbody tr th:only-of-type {\n",
       "        vertical-align: middle;\n",
       "    }\n",
       "\n",
       "    .dataframe tbody tr th {\n",
       "        vertical-align: top;\n",
       "    }\n",
       "\n",
       "    .dataframe thead th {\n",
       "        text-align: right;\n",
       "    }\n",
       "</style>\n",
       "<table border=\"1\" class=\"dataframe\">\n",
       "  <thead>\n",
       "    <tr style=\"text-align: right;\">\n",
       "      <th></th>\n",
       "      <th>class</th>\n",
       "      <th>BrdIndx</th>\n",
       "      <th>Area</th>\n",
       "      <th>Round</th>\n",
       "      <th>Bright</th>\n",
       "      <th>Compact</th>\n",
       "      <th>ShpIndx</th>\n",
       "      <th>Mean_G</th>\n",
       "      <th>Mean_R</th>\n",
       "      <th>Mean_NIR</th>\n",
       "      <th>...</th>\n",
       "      <th>SD_NIR_140</th>\n",
       "      <th>LW_140</th>\n",
       "      <th>GLCM1_140</th>\n",
       "      <th>Rect_140</th>\n",
       "      <th>GLCM2_140</th>\n",
       "      <th>Dens_140</th>\n",
       "      <th>Assym_140</th>\n",
       "      <th>NDVI_140</th>\n",
       "      <th>BordLngth_140</th>\n",
       "      <th>GLCM3_140</th>\n",
       "    </tr>\n",
       "  </thead>\n",
       "  <tbody>\n",
       "    <tr>\n",
       "      <th>0</th>\n",
       "      <td>car</td>\n",
       "      <td>1.27</td>\n",
       "      <td>91</td>\n",
       "      <td>0.97</td>\n",
       "      <td>231.38</td>\n",
       "      <td>1.39</td>\n",
       "      <td>1.47</td>\n",
       "      <td>207.92</td>\n",
       "      <td>241.74</td>\n",
       "      <td>244.48</td>\n",
       "      <td>...</td>\n",
       "      <td>26.18</td>\n",
       "      <td>2.00</td>\n",
       "      <td>0.50</td>\n",
       "      <td>0.85</td>\n",
       "      <td>6.29</td>\n",
       "      <td>1.67</td>\n",
       "      <td>0.70</td>\n",
       "      <td>-0.08</td>\n",
       "      <td>56</td>\n",
       "      <td>3806.36</td>\n",
       "    </tr>\n",
       "    <tr>\n",
       "      <th>1</th>\n",
       "      <td>concrete</td>\n",
       "      <td>2.36</td>\n",
       "      <td>241</td>\n",
       "      <td>1.56</td>\n",
       "      <td>216.15</td>\n",
       "      <td>2.46</td>\n",
       "      <td>2.51</td>\n",
       "      <td>187.85</td>\n",
       "      <td>229.39</td>\n",
       "      <td>231.20</td>\n",
       "      <td>...</td>\n",
       "      <td>22.29</td>\n",
       "      <td>2.25</td>\n",
       "      <td>0.79</td>\n",
       "      <td>0.55</td>\n",
       "      <td>8.42</td>\n",
       "      <td>1.38</td>\n",
       "      <td>0.81</td>\n",
       "      <td>-0.09</td>\n",
       "      <td>1746</td>\n",
       "      <td>1450.14</td>\n",
       "    </tr>\n",
       "    <tr>\n",
       "      <th>2</th>\n",
       "      <td>concrete</td>\n",
       "      <td>2.12</td>\n",
       "      <td>266</td>\n",
       "      <td>1.47</td>\n",
       "      <td>232.18</td>\n",
       "      <td>2.07</td>\n",
       "      <td>2.21</td>\n",
       "      <td>206.54</td>\n",
       "      <td>244.22</td>\n",
       "      <td>245.79</td>\n",
       "      <td>...</td>\n",
       "      <td>15.59</td>\n",
       "      <td>2.19</td>\n",
       "      <td>0.76</td>\n",
       "      <td>0.74</td>\n",
       "      <td>7.24</td>\n",
       "      <td>1.68</td>\n",
       "      <td>0.81</td>\n",
       "      <td>-0.07</td>\n",
       "      <td>566</td>\n",
       "      <td>1094.04</td>\n",
       "    </tr>\n",
       "    <tr>\n",
       "      <th>3</th>\n",
       "      <td>concrete</td>\n",
       "      <td>2.42</td>\n",
       "      <td>399</td>\n",
       "      <td>1.28</td>\n",
       "      <td>230.40</td>\n",
       "      <td>2.49</td>\n",
       "      <td>2.73</td>\n",
       "      <td>204.60</td>\n",
       "      <td>243.27</td>\n",
       "      <td>243.32</td>\n",
       "      <td>...</td>\n",
       "      <td>13.51</td>\n",
       "      <td>3.34</td>\n",
       "      <td>0.82</td>\n",
       "      <td>0.74</td>\n",
       "      <td>7.44</td>\n",
       "      <td>1.36</td>\n",
       "      <td>0.92</td>\n",
       "      <td>-0.09</td>\n",
       "      <td>1178</td>\n",
       "      <td>1125.38</td>\n",
       "    </tr>\n",
       "    <tr>\n",
       "      <th>4</th>\n",
       "      <td>concrete</td>\n",
       "      <td>2.15</td>\n",
       "      <td>944</td>\n",
       "      <td>1.73</td>\n",
       "      <td>193.18</td>\n",
       "      <td>2.28</td>\n",
       "      <td>4.10</td>\n",
       "      <td>165.98</td>\n",
       "      <td>205.55</td>\n",
       "      <td>208.00</td>\n",
       "      <td>...</td>\n",
       "      <td>15.65</td>\n",
       "      <td>50.08</td>\n",
       "      <td>0.85</td>\n",
       "      <td>0.49</td>\n",
       "      <td>8.15</td>\n",
       "      <td>0.23</td>\n",
       "      <td>1.00</td>\n",
       "      <td>-0.08</td>\n",
       "      <td>6232</td>\n",
       "      <td>1146.38</td>\n",
       "    </tr>\n",
       "  </tbody>\n",
       "</table>\n",
       "<p>5 rows × 148 columns</p>\n",
       "</div>"
      ],
      "text/plain": [
       "       class  BrdIndx  Area  Round  Bright  Compact  ShpIndx  Mean_G  Mean_R  \\\n",
       "0       car      1.27    91   0.97  231.38     1.39     1.47  207.92  241.74   \n",
       "1  concrete      2.36   241   1.56  216.15     2.46     2.51  187.85  229.39   \n",
       "2  concrete      2.12   266   1.47  232.18     2.07     2.21  206.54  244.22   \n",
       "3  concrete      2.42   399   1.28  230.40     2.49     2.73  204.60  243.27   \n",
       "4  concrete      2.15   944   1.73  193.18     2.28     4.10  165.98  205.55   \n",
       "\n",
       "   Mean_NIR  ...  SD_NIR_140  LW_140  GLCM1_140  Rect_140  GLCM2_140  \\\n",
       "0    244.48  ...       26.18    2.00       0.50      0.85       6.29   \n",
       "1    231.20  ...       22.29    2.25       0.79      0.55       8.42   \n",
       "2    245.79  ...       15.59    2.19       0.76      0.74       7.24   \n",
       "3    243.32  ...       13.51    3.34       0.82      0.74       7.44   \n",
       "4    208.00  ...       15.65   50.08       0.85      0.49       8.15   \n",
       "\n",
       "   Dens_140  Assym_140  NDVI_140  BordLngth_140  GLCM3_140  \n",
       "0      1.67       0.70     -0.08             56    3806.36  \n",
       "1      1.38       0.81     -0.09           1746    1450.14  \n",
       "2      1.68       0.81     -0.07            566    1094.04  \n",
       "3      1.36       0.92     -0.09           1178    1125.38  \n",
       "4      0.23       1.00     -0.08           6232    1146.38  \n",
       "\n",
       "[5 rows x 148 columns]"
      ]
     },
     "execution_count": 21,
     "metadata": {},
     "output_type": "execute_result"
    }
   ],
   "source": [
    "test.head()"
   ]
  },
  {
   "cell_type": "code",
   "execution_count": 22,
   "metadata": {},
   "outputs": [
    {
     "name": "stdout",
     "output_type": "stream",
     "text": [
      "(507, 147) (507,) (168, 147) (168,)\n"
     ]
    }
   ],
   "source": [
    "# Create X & y objects \n",
    "cols_train = list(train.columns.values) \n",
    "cols_train.pop(cols_train.index('class')) \n",
    "X_train = train[cols_train] \n",
    "y_train = train['class']\n",
    "\n",
    "cols_test = list(test.columns.values) \n",
    "cols_test.pop(cols_test.index('class')) \n",
    "X_test = test[cols_test] \n",
    "y_test = test['class']\n",
    "\n",
    "print(X_train.shape, y_train.shape, X_test.shape, y_test.shape,)"
   ]
  },
  {
   "cell_type": "code",
   "execution_count": 31,
   "metadata": {},
   "outputs": [],
   "source": [
    "# Scale all features / predictors (NOT THE TARGET VARIABLE)\n",
    "scaler = StandardScaler()\n",
    "#print(scaler.fit(data))\n",
    "\n",
    "normalized_X_train = pd.DataFrame(scaler.fit_transform(X_train), columns = X_train.columns)\n",
    "normalized_X_test = pd.DataFrame(scaler.fit_transform(X_test), columns = X_test.columns)"
   ]
  },
  {
   "cell_type": "code",
   "execution_count": 50,
   "metadata": {},
   "outputs": [
    {
     "name": "stdout",
     "output_type": "stream",
     "text": [
      "(507, 147) (168, 147)\n"
     ]
    }
   ],
   "source": [
    "print(normalized_X_train.shape,normalized_X_test.shape)"
   ]
  },
  {
   "cell_type": "markdown",
   "metadata": {},
   "source": [
    "### 2. Random Forest Classifier - Base Model"
   ]
  },
  {
   "cell_type": "code",
   "execution_count": 24,
   "metadata": {},
   "outputs": [
    {
     "data": {
      "text/plain": [
       "RandomForestClassifier(random_state=42)"
      ]
     },
     "execution_count": 24,
     "metadata": {},
     "output_type": "execute_result"
    }
   ],
   "source": [
    "# Fit the RandomForestClassifier model on the training data\n",
    "rf = RandomForestClassifier(random_state=42)\n",
    "rf.fit(X_train, y_train)"
   ]
  },
  {
   "cell_type": "code",
   "execution_count": 25,
   "metadata": {},
   "outputs": [
    {
     "name": "stdout",
     "output_type": "stream",
     "text": [
      "['car ' 'concrete ' 'building ' 'concrete ' 'concrete ' 'grass ' 'car '\n",
      " 'car ' 'building ' 'tree ']\n"
     ]
    }
   ],
   "source": [
    "# Use the fitted model to predict on test data. \n",
    "y_pred = rf.predict(X_test)\n",
    "\n",
    "print(y_pred[:10])"
   ]
  },
  {
   "cell_type": "code",
   "execution_count": 26,
   "metadata": {},
   "outputs": [
    {
     "name": "stdout",
     "output_type": "stream",
     "text": [
      "              precision    recall  f1-score   support\n",
      "\n",
      "    asphalt        0.70      1.00      0.82        14\n",
      "   building        0.76      0.88      0.81        25\n",
      "        car        0.93      0.87      0.90        15\n",
      "   concrete        0.69      0.78      0.73        23\n",
      "      grass        0.86      0.86      0.86        29\n",
      "       pool        1.00      0.87      0.93        15\n",
      "     shadow        1.00      0.81      0.90        16\n",
      "       soil        1.00      0.36      0.53        14\n",
      "       tree        0.79      0.88      0.83        17\n",
      "\n",
      "    accuracy                           0.82       168\n",
      "   macro avg       0.86      0.81      0.81       168\n",
      "weighted avg       0.85      0.82      0.82       168\n",
      "\n",
      "[[14  0  0  0  0  0  0  0  0]\n",
      " [ 1 22  0  2  0  0  0  0  0]\n",
      " [ 1  1 13  0  0  0  0  0  0]\n",
      " [ 0  5  0 18  0  0  0  0  0]\n",
      " [ 0  0  0  0 25  0  0  0  4]\n",
      " [ 1  0  1  0  0 13  0  0  0]\n",
      " [ 3  0  0  0  0  0 13  0  0]\n",
      " [ 0  1  0  5  3  0  0  5  0]\n",
      " [ 0  0  0  1  1  0  0  0 15]]\n"
     ]
    }
   ],
   "source": [
    "# Calculate the confusion matrix and classification report \n",
    "print(classification_report(y_test, y_pred))\n",
    "print(confusion_matrix(y_test, y_pred))"
   ]
  },
  {
   "cell_type": "code",
   "execution_count": 27,
   "metadata": {},
   "outputs": [
    {
     "name": "stdout",
     "output_type": "stream",
     "text": [
      "['concrete ' 'shadow ' 'shadow ' 'tree ' 'asphalt ' 'building ' 'asphalt '\n",
      " 'grass ' 'tree ' 'building ']\n"
     ]
    }
   ],
   "source": [
    "# Calculate predictions for the training data & build the classification report & confusion matrix. \n",
    "y_pred_train = rf.predict(X_train)\n",
    "\n",
    "print(y_pred_train[:10])"
   ]
  },
  {
   "cell_type": "code",
   "execution_count": 28,
   "metadata": {},
   "outputs": [
    {
     "name": "stdout",
     "output_type": "stream",
     "text": [
      "              precision    recall  f1-score   support\n",
      "\n",
      "    asphalt        1.00      1.00      1.00        45\n",
      "   building        1.00      1.00      1.00        97\n",
      "        car        1.00      1.00      1.00        21\n",
      "   concrete        1.00      1.00      1.00        93\n",
      "      grass        1.00      1.00      1.00        83\n",
      "       pool        1.00      1.00      1.00        14\n",
      "     shadow        1.00      1.00      1.00        45\n",
      "       soil        1.00      1.00      1.00        20\n",
      "       tree        1.00      1.00      1.00        89\n",
      "\n",
      "    accuracy                           1.00       507\n",
      "   macro avg       1.00      1.00      1.00       507\n",
      "weighted avg       1.00      1.00      1.00       507\n",
      "\n",
      "[[45  0  0  0  0  0  0  0  0]\n",
      " [ 0 97  0  0  0  0  0  0  0]\n",
      " [ 0  0 21  0  0  0  0  0  0]\n",
      " [ 0  0  0 93  0  0  0  0  0]\n",
      " [ 0  0  0  0 83  0  0  0  0]\n",
      " [ 0  0  0  0  0 14  0  0  0]\n",
      " [ 0  0  0  0  0  0 45  0  0]\n",
      " [ 0  0  0  0  0  0  0 20  0]\n",
      " [ 0  0  0  0  0  0  0  0 89]]\n"
     ]
    }
   ],
   "source": [
    "# Calculate the confusion matrix and classification report \n",
    "# Are there signs of overfitting? Why or why not?\n",
    "print(classification_report(y_train, y_pred_train))\n",
    "print(confusion_matrix(y_train, y_pred_train))\n",
    "\n",
    "# As shown in the chart below, the \"Accuracy\" (measured against the training set) is very good whereas the \"Validation\n",
    "# Accuracy\" (measured against a validation set) is not as good as the previous one. The model is a bit overfitting."
   ]
  },
  {
   "cell_type": "code",
   "execution_count": 29,
   "metadata": {},
   "outputs": [
    {
     "name": "stdout",
     "output_type": "stream",
     "text": [
      "Feature: 0, Score: 0.00150\n",
      "Feature: 1, Score: 0.00488\n",
      "Feature: 2, Score: 0.00187\n",
      "Feature: 3, Score: 0.02359\n",
      "Feature: 4, Score: 0.00196\n",
      "Feature: 5, Score: 0.00298\n",
      "Feature: 6, Score: 0.01737\n",
      "Feature: 7, Score: 0.02488\n",
      "Feature: 8, Score: 0.02937\n",
      "Feature: 9, Score: 0.01187\n",
      "Feature: 10, Score: 0.00491\n",
      "Feature: 11, Score: 0.00605\n",
      "Feature: 12, Score: 0.00162\n",
      "Feature: 13, Score: 0.00223\n",
      "Feature: 14, Score: 0.00208\n",
      "Feature: 15, Score: 0.00167\n",
      "Feature: 16, Score: 0.00163\n",
      "Feature: 17, Score: 0.00240\n",
      "Feature: 18, Score: 0.04275\n",
      "Feature: 19, Score: 0.00706\n",
      "Feature: 20, Score: 0.00229\n",
      "Feature: 21, Score: 0.00287\n",
      "Feature: 22, Score: 0.00419\n",
      "Feature: 23, Score: 0.00193\n",
      "Feature: 24, Score: 0.01786\n",
      "Feature: 25, Score: 0.00205\n",
      "Feature: 26, Score: 0.00393\n",
      "Feature: 27, Score: 0.02178\n",
      "Feature: 28, Score: 0.02897\n",
      "Feature: 29, Score: 0.02598\n",
      "Feature: 30, Score: 0.00614\n",
      "Feature: 31, Score: 0.00484\n",
      "Feature: 32, Score: 0.00525\n",
      "Feature: 33, Score: 0.00211\n",
      "Feature: 34, Score: 0.00453\n",
      "Feature: 35, Score: 0.00127\n",
      "Feature: 36, Score: 0.00251\n",
      "Feature: 37, Score: 0.00119\n",
      "Feature: 38, Score: 0.00218\n",
      "Feature: 39, Score: 0.02524\n",
      "Feature: 40, Score: 0.00500\n",
      "Feature: 41, Score: 0.00213\n",
      "Feature: 42, Score: 0.00266\n",
      "Feature: 43, Score: 0.00562\n",
      "Feature: 44, Score: 0.00193\n",
      "Feature: 45, Score: 0.01502\n",
      "Feature: 46, Score: 0.00186\n",
      "Feature: 47, Score: 0.00452\n",
      "Feature: 48, Score: 0.01332\n",
      "Feature: 49, Score: 0.02505\n",
      "Feature: 50, Score: 0.01333\n",
      "Feature: 51, Score: 0.00683\n",
      "Feature: 52, Score: 0.00448\n",
      "Feature: 53, Score: 0.00715\n",
      "Feature: 54, Score: 0.00218\n",
      "Feature: 55, Score: 0.00174\n",
      "Feature: 56, Score: 0.00128\n",
      "Feature: 57, Score: 0.00283\n",
      "Feature: 58, Score: 0.00389\n",
      "Feature: 59, Score: 0.00295\n",
      "Feature: 60, Score: 0.02779\n",
      "Feature: 61, Score: 0.00427\n",
      "Feature: 62, Score: 0.00221\n",
      "Feature: 63, Score: 0.00268\n",
      "Feature: 64, Score: 0.00553\n",
      "Feature: 65, Score: 0.00131\n",
      "Feature: 66, Score: 0.01739\n",
      "Feature: 67, Score: 0.00328\n",
      "Feature: 68, Score: 0.00926\n",
      "Feature: 69, Score: 0.00876\n",
      "Feature: 70, Score: 0.01628\n",
      "Feature: 71, Score: 0.01064\n",
      "Feature: 72, Score: 0.00459\n",
      "Feature: 73, Score: 0.00429\n",
      "Feature: 74, Score: 0.00400\n",
      "Feature: 75, Score: 0.00201\n",
      "Feature: 76, Score: 0.00269\n",
      "Feature: 77, Score: 0.00170\n",
      "Feature: 78, Score: 0.00150\n",
      "Feature: 79, Score: 0.00461\n",
      "Feature: 80, Score: 0.00143\n",
      "Feature: 81, Score: 0.01272\n",
      "Feature: 82, Score: 0.00713\n",
      "Feature: 83, Score: 0.00194\n",
      "Feature: 84, Score: 0.00592\n",
      "Feature: 85, Score: 0.00426\n",
      "Feature: 86, Score: 0.00321\n",
      "Feature: 87, Score: 0.01262\n",
      "Feature: 88, Score: 0.00797\n",
      "Feature: 89, Score: 0.01213\n",
      "Feature: 90, Score: 0.01181\n",
      "Feature: 91, Score: 0.01807\n",
      "Feature: 92, Score: 0.01140\n",
      "Feature: 93, Score: 0.00789\n",
      "Feature: 94, Score: 0.00424\n",
      "Feature: 95, Score: 0.00424\n",
      "Feature: 96, Score: 0.00278\n",
      "Feature: 97, Score: 0.00197\n",
      "Feature: 98, Score: 0.00318\n",
      "Feature: 99, Score: 0.00418\n",
      "Feature: 100, Score: 0.00782\n",
      "Feature: 101, Score: 0.00120\n",
      "Feature: 102, Score: 0.01491\n",
      "Feature: 103, Score: 0.00869\n",
      "Feature: 104, Score: 0.00232\n",
      "Feature: 105, Score: 0.00632\n",
      "Feature: 106, Score: 0.00337\n",
      "Feature: 107, Score: 0.00508\n",
      "Feature: 108, Score: 0.01074\n",
      "Feature: 109, Score: 0.00318\n",
      "Feature: 110, Score: 0.01030\n",
      "Feature: 111, Score: 0.01012\n",
      "Feature: 112, Score: 0.01028\n",
      "Feature: 113, Score: 0.01238\n",
      "Feature: 114, Score: 0.00343\n",
      "Feature: 115, Score: 0.00379\n",
      "Feature: 116, Score: 0.00263\n",
      "Feature: 117, Score: 0.00126\n",
      "Feature: 118, Score: 0.00259\n",
      "Feature: 119, Score: 0.00304\n",
      "Feature: 120, Score: 0.00471\n",
      "Feature: 121, Score: 0.00540\n",
      "Feature: 122, Score: 0.00187\n",
      "Feature: 123, Score: 0.01086\n",
      "Feature: 124, Score: 0.00647\n",
      "Feature: 125, Score: 0.00261\n",
      "Feature: 126, Score: 0.00776\n",
      "Feature: 127, Score: 0.00196\n",
      "Feature: 128, Score: 0.00175\n",
      "Feature: 129, Score: 0.00586\n",
      "Feature: 130, Score: 0.00304\n",
      "Feature: 131, Score: 0.00967\n",
      "Feature: 132, Score: 0.00664\n",
      "Feature: 133, Score: 0.00872\n",
      "Feature: 134, Score: 0.00743\n",
      "Feature: 135, Score: 0.00262\n",
      "Feature: 136, Score: 0.00238\n",
      "Feature: 137, Score: 0.00358\n",
      "Feature: 138, Score: 0.00230\n",
      "Feature: 139, Score: 0.00122\n",
      "Feature: 140, Score: 0.00184\n",
      "Feature: 141, Score: 0.00077\n",
      "Feature: 142, Score: 0.00332\n",
      "Feature: 143, Score: 0.00162\n",
      "Feature: 144, Score: 0.00732\n",
      "Feature: 145, Score: 0.00574\n",
      "Feature: 146, Score: 0.00163\n"
     ]
    },
    {
     "data": {
      "image/png": "[encoded data removed]",
      "text/plain": [
       "<Figure size 2160x2160 with 1 Axes>"
      ]
     },
     "metadata": {
      "needs_background": "light"
     },
     "output_type": "display_data"
    }
   ],
   "source": [
    "# Identify the top 5 features\n",
    "# get importance\n",
    "importance = rf.feature_importances_\n",
    "\n",
    "features = X_train.columns\n",
    "indices = np.argsort(importance)\n",
    "\n",
    "# summarize feature importance\n",
    "for i,v in enumerate(importance):\n",
    "    print('Feature: %0d, Score: %.5f' % (i,v))\n",
    "    \n",
    "# plot feature importance\n",
    "plt.figure(figsize=(30, 30))\n",
    "plt.barh(range(len(importance)), importance[indices])\n",
    "plt.yticks(range(len(importance)), [features[i] for i in indices])\n",
    "         \n",
    "plt.show()\n",
    "\n",
    "# From the graph below, we know that the top 5 features are:\n",
    "# NDVI, Mean_NIR, Mean_R_40, NDVI_60, and Mean_NIR_40"
   ]
  },
  {
   "cell_type": "markdown",
   "metadata": {},
   "source": [
    "### 3.  LinearSVM Classifier - Base Model"
   ]
  },
  {
   "cell_type": "code",
   "execution_count": 33,
   "metadata": {},
   "outputs": [],
   "source": [
    "# Create a simple LinearSVC Classifier only using default parameters\n",
    "from sklearn.svm import LinearSVC\n",
    "Linearsvc = LinearSVC(random_state=0)"
   ]
  },
  {
   "cell_type": "code",
   "execution_count": 34,
   "metadata": {},
   "outputs": [
    {
     "data": {
      "text/plain": [
       "LinearSVC(random_state=0)"
      ]
     },
     "execution_count": 34,
     "metadata": {},
     "output_type": "execute_result"
    }
   ],
   "source": [
    "# Use the LinearSVC in sklearn. Fit your model on the training data.\n",
    "Linearsvc.fit(normalized_X_train, y_train)"
   ]
  },
  {
   "cell_type": "code",
   "execution_count": 35,
   "metadata": {},
   "outputs": [
    {
     "name": "stdout",
     "output_type": "stream",
     "text": [
      "['car ' 'concrete ' 'building ' 'concrete ' 'asphalt ' 'tree ' 'car '\n",
      " 'car ' 'building ' 'tree ']\n"
     ]
    }
   ],
   "source": [
    "# Use the fitted model to predict on test data. Use the .predict() method to get the predicted classes.\n",
    "y_pred = Linearsvc.predict(normalized_X_test)\n",
    "print(y_pred[:10])"
   ]
  },
  {
   "cell_type": "code",
   "execution_count": 36,
   "metadata": {},
   "outputs": [
    {
     "name": "stdout",
     "output_type": "stream",
     "text": [
      "              precision    recall  f1-score   support\n",
      "\n",
      "    asphalt        0.72      0.93      0.81        14\n",
      "   building        0.68      0.84      0.75        25\n",
      "        car        0.92      0.80      0.86        15\n",
      "   concrete        0.70      0.70      0.70        23\n",
      "      grass        0.75      0.72      0.74        29\n",
      "       pool        1.00      0.80      0.89        15\n",
      "     shadow        0.87      0.81      0.84        16\n",
      "       soil        1.00      0.36      0.53        14\n",
      "       tree        0.61      0.82      0.70        17\n",
      "\n",
      "    accuracy                           0.76       168\n",
      "   macro avg       0.80      0.75      0.76       168\n",
      "weighted avg       0.78      0.76      0.75       168\n",
      "\n",
      "[[13  0  0  0  0  0  1  0  0]\n",
      " [ 0 21  0  2  2  0  0  0  0]\n",
      " [ 0  1 12  1  0  0  0  0  1]\n",
      " [ 1  5  0 16  0  0  0  0  1]\n",
      " [ 1  0  0  1 21  0  0  0  6]\n",
      " [ 1  0  1  0  0 12  1  0  0]\n",
      " [ 2  0  0  0  0  0 13  0  1]\n",
      " [ 0  4  0  2  3  0  0  5  0]\n",
      " [ 0  0  0  1  2  0  0  0 14]]\n"
     ]
    }
   ],
   "source": [
    "# Calculate the confusion matrix and classification report for test data.\n",
    "print(classification_report(y_test, y_pred))\n",
    "print(confusion_matrix(y_test, y_pred))"
   ]
  },
  {
   "cell_type": "code",
   "execution_count": 37,
   "metadata": {},
   "outputs": [
    {
     "name": "stdout",
     "output_type": "stream",
     "text": [
      "['concrete ' 'shadow ' 'shadow ' 'tree ' 'asphalt ' 'building ' 'asphalt '\n",
      " 'grass ' 'tree ' 'building ']\n"
     ]
    }
   ],
   "source": [
    "# Calculate predictions for the training data \n",
    "y_pred_train = Linearsvc.predict(normalized_X_train)\n",
    "print(y_pred_train[:10])"
   ]
  },
  {
   "cell_type": "code",
   "execution_count": 38,
   "metadata": {},
   "outputs": [
    {
     "name": "stdout",
     "output_type": "stream",
     "text": [
      "              precision    recall  f1-score   support\n",
      "\n",
      "    asphalt        1.00      1.00      1.00        45\n",
      "   building        0.99      1.00      0.99        97\n",
      "        car        1.00      1.00      1.00        21\n",
      "   concrete        1.00      1.00      1.00        93\n",
      "      grass        1.00      0.96      0.98        83\n",
      "       pool        1.00      1.00      1.00        14\n",
      "     shadow        1.00      1.00      1.00        45\n",
      "       soil        1.00      1.00      1.00        20\n",
      "       tree        0.98      1.00      0.99        89\n",
      "\n",
      "    accuracy                           0.99       507\n",
      "   macro avg       1.00      1.00      1.00       507\n",
      "weighted avg       0.99      0.99      0.99       507\n",
      "\n",
      "[[45  0  0  0  0  0  0  0  0]\n",
      " [ 0 97  0  0  0  0  0  0  0]\n",
      " [ 0  0 21  0  0  0  0  0  0]\n",
      " [ 0  0  0 93  0  0  0  0  0]\n",
      " [ 0  1  0  0 80  0  0  0  2]\n",
      " [ 0  0  0  0  0 14  0  0  0]\n",
      " [ 0  0  0  0  0  0 45  0  0]\n",
      " [ 0  0  0  0  0  0  0 20  0]\n",
      " [ 0  0  0  0  0  0  0  0 89]]\n"
     ]
    }
   ],
   "source": [
    "# Calculate the confusion matrix and classification report \n",
    "# Are there signs of overfitting? Why or why not?\n",
    "print(classification_report(y_train, y_pred_train))\n",
    "print(confusion_matrix(y_train, y_pred_train))\n",
    "\n",
    "# As shown in the chart below, the \"Accuracy\" (measured against the training set) is very good (0.99) whereas the \n",
    "# \"Validation Accuracy\" (measured against a validation set) is not as good as the previous one (0.76). \n",
    "# The model is overfitting."
   ]
  },
  {
   "cell_type": "markdown",
   "metadata": {},
   "source": [
    "### 4. Support Vector Machine Classifier + Linear Kernel + Grid Search:"
   ]
  },
  {
   "cell_type": "code",
   "execution_count": 39,
   "metadata": {},
   "outputs": [
    {
     "name": "stdout",
     "output_type": "stream",
     "text": [
      "Parameters currently in use:\n",
      "\n",
      "{'C': 1.0,\n",
      " 'break_ties': False,\n",
      " 'cache_size': 200,\n",
      " 'class_weight': None,\n",
      " 'coef0': 0.0,\n",
      " 'decision_function_shape': 'ovr',\n",
      " 'degree': 3,\n",
      " 'gamma': 'scale',\n",
      " 'kernel': 'linear',\n",
      " 'max_iter': -1,\n",
      " 'probability': False,\n",
      " 'random_state': None,\n",
      " 'shrinking': True,\n",
      " 'tol': 0.001,\n",
      " 'verbose': False}\n"
     ]
    }
   ],
   "source": [
    "# We will now use GridSearchCV to try various hyperparameters in a SVM with linear kernel\n",
    "# Use SVC from sklearn with kernel = \"linear\"\n",
    "from sklearn.svm import SVC\n",
    "svm_linear = SVC(kernel='linear')\n",
    "\n",
    "# Look at parameters used by our current model\n",
    "print('Parameters currently in use:\\n')\n",
    "pprint(svm_linear.get_params())"
   ]
  },
  {
   "cell_type": "code",
   "execution_count": 43,
   "metadata": {},
   "outputs": [
    {
     "data": {
      "text/plain": [
       "GridSearchCV(cv=5, estimator=SVC(kernel='linear'),\n",
       "             param_grid={'C': [0.01, 0.21000000000000002, 0.41000000000000003,\n",
       "                               0.6100000000000001, 0.81, 1.01,\n",
       "                               1.2100000000000002, 1.4100000000000001, 1.61,\n",
       "                               1.81, 2.01, 2.21, 2.41, 2.61, 2.81, 3.01, 3.21,\n",
       "                               3.41, 3.61, 3.81, 4.01, 4.21, 4.41, 4.61,\n",
       "                               4.8100000000000005, 5.01, 5.21, 5.41, 5.61,\n",
       "                               5.8100000000000005, ...]})"
      ]
     },
     "execution_count": 43,
     "metadata": {},
     "output_type": "execute_result"
    }
   ],
   "source": [
    "# Run the GridSearchCV using C: 0.01 - 10 in increments of 0.2\n",
    "C = [x for x in np.arange(0.01, 10, 0.2)]\n",
    "    \n",
    "# Create the random grid\n",
    "param_grid = {'C': C}\n",
    "\n",
    "# Use 5 cross-fold and the default scoring. Please set verbose = 0 to reduce the printing\n",
    "svm_linear_Grid = GridSearchCV(svm_linear, param_grid, cv = 5, verbose = 0)\n",
    "\n",
    "svm_linear_Grid.fit(normalized_X_train, y_train)"
   ]
  },
  {
   "cell_type": "code",
   "execution_count": 45,
   "metadata": {},
   "outputs": [
    {
     "name": "stdout",
     "output_type": "stream",
     "text": [
      "{'C': 0.01}\n",
      "SVC(C=0.01, kernel='linear')\n"
     ]
    }
   ],
   "source": [
    "# Identify the best performing model:\n",
    "\n",
    "# .best_params_() : This method outputs to best performing parameters\n",
    "# .best_estimator_() : This method outputs the best performing model, and can be used for predicting on the X_test\n",
    "best_param = svm_linear_Grid.best_params_\n",
    "\n",
    "best_grid = svm_linear_Grid.best_estimator_\n",
    "\n",
    "print(best_param)\n",
    "print(best_grid)"
   ]
  },
  {
   "cell_type": "code",
   "execution_count": 46,
   "metadata": {},
   "outputs": [
    {
     "name": "stdout",
     "output_type": "stream",
     "text": [
      "['car ' 'concrete ' 'building ' 'concrete ' 'concrete ' 'tree ' 'car '\n",
      " 'car ' 'building ' 'tree ']\n"
     ]
    }
   ],
   "source": [
    "# Use the best estimator model to predict on test data. \n",
    "# Use the .predict() method to get the predicted classes.\n",
    "\n",
    "svm_linear_Grid_y_pred = svm_linear_Grid.predict(normalized_X_test)\n",
    "\n",
    "print(svm_linear_Grid_y_pred[:10])"
   ]
  },
  {
   "cell_type": "code",
   "execution_count": 47,
   "metadata": {},
   "outputs": [
    {
     "name": "stdout",
     "output_type": "stream",
     "text": [
      "              precision    recall  f1-score   support\n",
      "\n",
      "    asphalt        0.81      0.93      0.87        14\n",
      "   building        0.79      0.88      0.83        25\n",
      "        car        1.00      0.93      0.97        15\n",
      "   concrete        0.66      0.83      0.73        23\n",
      "      grass        0.86      0.86      0.86        29\n",
      "       pool        1.00      0.87      0.93        15\n",
      "     shadow        0.87      0.81      0.84        16\n",
      "       soil        0.80      0.29      0.42        14\n",
      "       tree        0.84      0.94      0.89        17\n",
      "\n",
      "    accuracy                           0.83       168\n",
      "   macro avg       0.85      0.82      0.81       168\n",
      "weighted avg       0.84      0.83      0.82       168\n",
      "\n",
      "[[13  0  0  0  0  0  1  0  0]\n",
      " [ 0 22  0  2  1  0  0  0  0]\n",
      " [ 0  1 14  0  0  0  0  0  0]\n",
      " [ 0  3  0 19  0  0  0  1  0]\n",
      " [ 0  0  0  1 25  0  0  0  3]\n",
      " [ 0  1  0  0  0 13  1  0  0]\n",
      " [ 3  0  0  0  0  0 13  0  0]\n",
      " [ 0  1  0  6  3  0  0  4  0]\n",
      " [ 0  0  0  1  0  0  0  0 16]]\n"
     ]
    }
   ],
   "source": [
    "# Calculate the confusion matrix and classification report \n",
    "print(classification_report(y_test, svm_linear_Grid_y_pred))\n",
    "print(confusion_matrix(y_test, svm_linear_Grid_y_pred))"
   ]
  },
  {
   "cell_type": "code",
   "execution_count": 48,
   "metadata": {},
   "outputs": [
    {
     "name": "stdout",
     "output_type": "stream",
     "text": [
      "['concrete ' 'shadow ' 'shadow ' 'tree ' 'asphalt ' 'concrete ' 'asphalt '\n",
      " 'grass ' 'grass ' 'asphalt ']\n"
     ]
    }
   ],
   "source": [
    "# Calculate predictions for the training data & build the confusion matrix, classification report & roc_auc_score. \n",
    "svm_linear_Grid_y_pred_train = svm_linear_Grid.predict(normalized_X_train)\n",
    "\n",
    "print(svm_linear_Grid_y_pred_train[:10])"
   ]
  },
  {
   "cell_type": "code",
   "execution_count": 49,
   "metadata": {},
   "outputs": [
    {
     "name": "stdout",
     "output_type": "stream",
     "text": [
      "              precision    recall  f1-score   support\n",
      "\n",
      "    asphalt        0.93      0.89      0.91        45\n",
      "   building        0.85      0.90      0.87        97\n",
      "        car        1.00      0.90      0.95        21\n",
      "   concrete        0.87      0.89      0.88        93\n",
      "      grass        0.91      0.84      0.88        83\n",
      "       pool        1.00      0.86      0.92        14\n",
      "     shadow        0.86      0.96      0.91        45\n",
      "       soil        1.00      0.55      0.71        20\n",
      "       tree        0.87      0.96      0.91        89\n",
      "\n",
      "    accuracy                           0.89       507\n",
      "   macro avg       0.92      0.86      0.88       507\n",
      "weighted avg       0.89      0.89      0.89       507\n",
      "\n",
      "[[40  0  0  0  0  0  5  0  0]\n",
      " [ 2 87  0  7  0  0  1  0  0]\n",
      " [ 0  1 19  1  0  0  0  0  0]\n",
      " [ 0  9  0 83  1  0  0  0  0]\n",
      " [ 0  1  0  0 70  0  0  0 12]\n",
      " [ 0  1  0  0  1 12  0  0  0]\n",
      " [ 1  0  0  0  0  0 43  0  1]\n",
      " [ 0  3  0  4  2  0  0 11  0]\n",
      " [ 0  0  0  0  3  0  1  0 85]]\n"
     ]
    }
   ],
   "source": [
    "print(classification_report(y_train, svm_linear_Grid_y_pred_train))\n",
    "print(confusion_matrix(y_train, svm_linear_Grid_y_pred_train))\n",
    "# Are there signs of overfitting? Why or why not?\n",
    "\n",
    "# There is a sign of overfitting since the training accuracy(0.89) is higher than the testing one(0.83). \n",
    "# However, it is not a big deal since it overcomes a little bit."
   ]
  },
  {
   "cell_type": "markdown",
   "metadata": {},
   "source": [
    "### 5. Support Vector Machine Classifier + Polynomial Kernel + Grid Search"
   ]
  },
  {
   "cell_type": "code",
   "execution_count": 52,
   "metadata": {},
   "outputs": [
    {
     "name": "stdout",
     "output_type": "stream",
     "text": [
      "Parameters currently in use:\n",
      "\n",
      "{'C': 1.0,\n",
      " 'break_ties': False,\n",
      " 'cache_size': 200,\n",
      " 'class_weight': None,\n",
      " 'coef0': 0.0,\n",
      " 'decision_function_shape': 'ovr',\n",
      " 'degree': 3,\n",
      " 'gamma': 'scale',\n",
      " 'kernel': 'poly',\n",
      " 'max_iter': -1,\n",
      " 'probability': False,\n",
      " 'random_state': None,\n",
      " 'shrinking': True,\n",
      " 'tol': 0.001,\n",
      " 'verbose': False}\n"
     ]
    }
   ],
   "source": [
    "# We will now use GridSearchCV to try various hyperparameters in a SVM with a polynomial kernel.\n",
    "# Use SVC from sklearn with kernel = \"poly\"\n",
    "svm_ploy = SVC(kernel='poly')\n",
    "\n",
    "# Look at parameters used by our current model\n",
    "print('Parameters currently in use:\\n')\n",
    "pprint(svm_ploy.get_params())"
   ]
  },
  {
   "cell_type": "code",
   "execution_count": 53,
   "metadata": {},
   "outputs": [
    {
     "data": {
      "text/plain": [
       "GridSearchCV(cv=5, estimator=SVC(kernel='poly'),\n",
       "             param_grid={'C': [0.01, 0.21000000000000002, 0.41000000000000003,\n",
       "                               0.6100000000000001, 0.81, 1.01,\n",
       "                               1.2100000000000002, 1.4100000000000001, 1.61,\n",
       "                               1.81, 2.01, 2.21, 2.41, 2.61, 2.81, 3.01, 3.21,\n",
       "                               3.41, 3.61, 3.81, 4.01, 4.21, 4.41, 4.61,\n",
       "                               4.8100000000000005, 5.01, 5.21, 5.41, 5.61,\n",
       "                               5.8100000000000005, ...],\n",
       "                         'degree': [2, 3, 4, 5, 6]})"
      ]
     },
     "execution_count": 53,
     "metadata": {},
     "output_type": "execute_result"
    }
   ],
   "source": [
    "# Run the GridSearchCV using C: 0.01 - 10 in increments of 0.2, degree: 2, 3, 4, 5, 6\n",
    "C = [x for x in np.arange(0.01, 10, 0.2)]\n",
    "degree = [2, 3, 4, 5, 6]\n",
    "    \n",
    "# Create the random grid\n",
    "param_grid = {'C': C,'degree': degree}\n",
    "\n",
    "# Use 5 cross-fold and the default scoring. Please set verbose = 0 to reduce the printing\n",
    "svm_ploy_Grid = GridSearchCV(svm_ploy, param_grid, cv = 5, verbose = 0)\n",
    "\n",
    "svm_ploy_Grid.fit(normalized_X_train, y_train)"
   ]
  },
  {
   "cell_type": "code",
   "execution_count": 54,
   "metadata": {},
   "outputs": [
    {
     "name": "stdout",
     "output_type": "stream",
     "text": [
      "{'C': 3.81, 'degree': 3}\n",
      "SVC(C=3.81, kernel='poly')\n"
     ]
    }
   ],
   "source": [
    "# Identify the best performing model:\n",
    "best_param = svm_ploy_Grid.best_params_\n",
    "\n",
    "best_grid = svm_ploy_Grid.best_estimator_\n",
    "\n",
    "print(best_param)\n",
    "print(best_grid)"
   ]
  },
  {
   "cell_type": "code",
   "execution_count": 55,
   "metadata": {},
   "outputs": [
    {
     "name": "stdout",
     "output_type": "stream",
     "text": [
      "['soil ' 'concrete ' 'building ' 'concrete ' 'concrete ' 'grass ' 'car '\n",
      " 'car ' 'building ' 'tree ']\n"
     ]
    }
   ],
   "source": [
    "# Use the best estimator model to predict on test data. \n",
    "# Use the .predict() method to get the predicted classes.\n",
    "\n",
    "svm_ploy_Grid_y_pred = svm_ploy_Grid.predict(normalized_X_test)\n",
    "\n",
    "print(svm_ploy_Grid_y_pred[:10])"
   ]
  },
  {
   "cell_type": "code",
   "execution_count": 56,
   "metadata": {},
   "outputs": [
    {
     "name": "stdout",
     "output_type": "stream",
     "text": [
      "              precision    recall  f1-score   support\n",
      "\n",
      "    asphalt        0.93      0.93      0.93        14\n",
      "   building        0.64      0.72      0.68        25\n",
      "        car        1.00      0.73      0.85        15\n",
      "   concrete        0.66      0.83      0.73        23\n",
      "      grass        0.63      0.90      0.74        29\n",
      "       pool        0.91      0.67      0.77        15\n",
      "     shadow        0.88      0.88      0.88        16\n",
      "       soil        0.00      0.00      0.00        14\n",
      "       tree        0.81      0.76      0.79        17\n",
      "\n",
      "    accuracy                           0.74       168\n",
      "   macro avg       0.72      0.71      0.71       168\n",
      "weighted avg       0.71      0.74      0.71       168\n",
      "\n",
      "[[13  0  0  0  0  0  1  0  0]\n",
      " [ 0 18  0  4  3  0  0  0  0]\n",
      " [ 0  2 11  0  0  1  0  1  0]\n",
      " [ 0  3  0 19  1  0  0  0  0]\n",
      " [ 0  0  0  0 26  0  0  1  2]\n",
      " [ 0  4  0  0  0 10  1  0  0]\n",
      " [ 1  0  0  0  0  0 14  0  1]\n",
      " [ 0  1  0  5  8  0  0  0  0]\n",
      " [ 0  0  0  1  3  0  0  0 13]]\n"
     ]
    }
   ],
   "source": [
    "# Calculate the confusion matrix and classification report \n",
    "print(classification_report(y_test, svm_ploy_Grid_y_pred))\n",
    "print(confusion_matrix(y_test, svm_ploy_Grid_y_pred))"
   ]
  },
  {
   "cell_type": "code",
   "execution_count": 57,
   "metadata": {},
   "outputs": [
    {
     "name": "stdout",
     "output_type": "stream",
     "text": [
      "['concrete ' 'shadow ' 'shadow ' 'tree ' 'asphalt ' 'building ' 'asphalt '\n",
      " 'grass ' 'grass ' 'building ']\n"
     ]
    }
   ],
   "source": [
    "# Calculate predictions for the training data & build the confusion matrix, classification report & roc_auc_score. \n",
    "svm_ploy_Grid_y_pred_train = svm_ploy_Grid.predict(normalized_X_train)\n",
    "\n",
    "print(svm_ploy_Grid_y_pred_train[:10])"
   ]
  },
  {
   "cell_type": "code",
   "execution_count": 58,
   "metadata": {},
   "outputs": [
    {
     "name": "stdout",
     "output_type": "stream",
     "text": [
      "              precision    recall  f1-score   support\n",
      "\n",
      "    asphalt        1.00      0.98      0.99        45\n",
      "   building        0.98      0.98      0.98        97\n",
      "        car        1.00      0.95      0.98        21\n",
      "   concrete        0.99      0.98      0.98        93\n",
      "      grass        0.79      0.98      0.88        83\n",
      "       pool        1.00      0.93      0.96        14\n",
      "     shadow        1.00      1.00      1.00        45\n",
      "       soil        1.00      0.45      0.62        20\n",
      "       tree        0.99      0.94      0.97        89\n",
      "\n",
      "    accuracy                           0.95       507\n",
      "   macro avg       0.97      0.91      0.93       507\n",
      "weighted avg       0.96      0.95      0.95       507\n",
      "\n",
      "[[44  0  0  0  1  0  0  0  0]\n",
      " [ 0 95  0  1  1  0  0  0  0]\n",
      " [ 0  0 20  0  1  0  0  0  0]\n",
      " [ 0  1  0 91  1  0  0  0  0]\n",
      " [ 0  1  0  0 81  0  0  0  1]\n",
      " [ 0  0  0  0  1 13  0  0  0]\n",
      " [ 0  0  0  0  0  0 45  0  0]\n",
      " [ 0  0  0  0 11  0  0  9  0]\n",
      " [ 0  0  0  0  5  0  0  0 84]]\n"
     ]
    }
   ],
   "source": [
    "print(classification_report(y_train, svm_ploy_Grid_y_pred_train))\n",
    "print(confusion_matrix(y_train, svm_ploy_Grid_y_pred_train))\n",
    "# Are there signs of overfitting? Why or why not?\n",
    "\n",
    "# There is a sign of overfitting since the training accuracy(0.95) is higher than the testing one(0.74). "
   ]
  },
  {
   "cell_type": "markdown",
   "metadata": {},
   "source": [
    "### 6. Support Vector Machine Classifier + RBF Kernel + Grid Search"
   ]
  },
  {
   "cell_type": "code",
   "execution_count": 59,
   "metadata": {},
   "outputs": [
    {
     "name": "stdout",
     "output_type": "stream",
     "text": [
      "Parameters currently in use:\n",
      "\n",
      "{'C': 1.0,\n",
      " 'break_ties': False,\n",
      " 'cache_size': 200,\n",
      " 'class_weight': None,\n",
      " 'coef0': 0.0,\n",
      " 'decision_function_shape': 'ovr',\n",
      " 'degree': 3,\n",
      " 'gamma': 'scale',\n",
      " 'kernel': 'rbf',\n",
      " 'max_iter': -1,\n",
      " 'probability': False,\n",
      " 'random_state': None,\n",
      " 'shrinking': True,\n",
      " 'tol': 0.001,\n",
      " 'verbose': False}\n"
     ]
    }
   ],
   "source": [
    "# We will now use GridSearchCV to try various hyperparameters in a SVM with a RBF kernel.\n",
    "# Use SVC from sklearn with kernel = \"rbf\"\n",
    "svm_rbf = SVC(kernel='rbf')\n",
    "\n",
    "# Look at parameters used by our current model\n",
    "print('Parameters currently in use:\\n')\n",
    "pprint(svm_rbf.get_params())"
   ]
  },
  {
   "cell_type": "code",
   "execution_count": 60,
   "metadata": {},
   "outputs": [
    {
     "data": {
      "text/plain": [
       "GridSearchCV(cv=5, estimator=SVC(),\n",
       "             param_grid={'C': [0.01, 0.21000000000000002, 0.41000000000000003,\n",
       "                               0.6100000000000001, 0.81, 1.01,\n",
       "                               1.2100000000000002, 1.4100000000000001, 1.61,\n",
       "                               1.81, 2.01, 2.21, 2.41, 2.61, 2.81, 3.01, 3.21,\n",
       "                               3.41, 3.61, 3.81, 4.01, 4.21, 4.41, 4.61,\n",
       "                               4.8100000000000005, 5.01, 5.21, 5.41, 5.61,\n",
       "                               5.8100000000000005, ...],\n",
       "                         'gamma': [0.01, 0.1, 1, 10, 100]})"
      ]
     },
     "execution_count": 60,
     "metadata": {},
     "output_type": "execute_result"
    }
   ],
   "source": [
    "# Run the GridSearchCV using C: 0.01 - 10 in increments of 0.2, gamma: 0.01,  0.1, 1, 10, 100\n",
    "C = [x for x in np.arange(0.01, 10, 0.2)]\n",
    "gamma = [0.01,  0.1, 1, 10, 100]\n",
    "    \n",
    "# Create the random grid\n",
    "param_grid = {'C': C,'gamma': gamma}\n",
    "\n",
    "# Use 5 cross-fold and the default scoring. Please set verbose = 0 to reduce the printing\n",
    "svm_rbf_Grid = GridSearchCV(svm_rbf, param_grid, cv = 5, verbose = 0)\n",
    "\n",
    "svm_rbf_Grid.fit(normalized_X_train, y_train)"
   ]
  },
  {
   "cell_type": "code",
   "execution_count": 61,
   "metadata": {},
   "outputs": [
    {
     "name": "stdout",
     "output_type": "stream",
     "text": [
      "{'C': 2.81, 'gamma': 0.01}\n",
      "SVC(C=2.81, gamma=0.01)\n"
     ]
    }
   ],
   "source": [
    "# Identify the best performing model:\n",
    "best_param = svm_rbf_Grid.best_params_\n",
    "\n",
    "best_grid = svm_rbf_Grid.best_estimator_\n",
    "\n",
    "print(best_param)\n",
    "print(best_grid)"
   ]
  },
  {
   "cell_type": "code",
   "execution_count": 62,
   "metadata": {},
   "outputs": [
    {
     "name": "stdout",
     "output_type": "stream",
     "text": [
      "['car ' 'concrete ' 'building ' 'concrete ' 'concrete ' 'tree ' 'car '\n",
      " 'car ' 'building ' 'tree ']\n"
     ]
    }
   ],
   "source": [
    "# Use the best estimator model to predict on test data. \n",
    "# Use the .predict() method to get the predicted classes.\n",
    "\n",
    "svm_rbf_Grid_y_pred = svm_rbf_Grid.predict(normalized_X_test)\n",
    "\n",
    "print(svm_rbf_Grid_y_pred[:10])"
   ]
  },
  {
   "cell_type": "code",
   "execution_count": 65,
   "metadata": {},
   "outputs": [
    {
     "name": "stdout",
     "output_type": "stream",
     "text": [
      "              precision    recall  f1-score   support\n",
      "\n",
      "    asphalt        0.93      0.93      0.93        14\n",
      "   building        0.79      0.76      0.78        25\n",
      "        car        1.00      0.93      0.97        15\n",
      "   concrete        0.61      0.87      0.71        23\n",
      "      grass        0.86      0.83      0.84        29\n",
      "       pool        1.00      0.93      0.97        15\n",
      "     shadow        0.88      0.88      0.88        16\n",
      "       soil        1.00      0.36      0.53        14\n",
      "       tree        0.80      0.94      0.86        17\n",
      "\n",
      "    accuracy                           0.83       168\n",
      "   macro avg       0.87      0.83      0.83       168\n",
      "weighted avg       0.85      0.83      0.82       168\n",
      "\n",
      "[[13  0  0  0  0  0  1  0  0]\n",
      " [ 0 19  0  5  1  0  0  0  0]\n",
      " [ 0  0 14  1  0  0  0  0  0]\n",
      " [ 0  3  0 20  0  0  0  0  0]\n",
      " [ 0  1  0  0 24  0  0  0  4]\n",
      " [ 0  0  0  0  0 14  1  0  0]\n",
      " [ 1  0  0  1  0  0 14  0  0]\n",
      " [ 0  1  0  5  3  0  0  5  0]\n",
      " [ 0  0  0  1  0  0  0  0 16]]\n"
     ]
    }
   ],
   "source": [
    "# Calculate the confusion matrix and classification report \n",
    "print(classification_report(y_test, svm_rbf_Grid_y_pred))\n",
    "print(confusion_matrix(y_test, svm_rbf_Grid_y_pred))"
   ]
  },
  {
   "cell_type": "code",
   "execution_count": 66,
   "metadata": {},
   "outputs": [
    {
     "name": "stdout",
     "output_type": "stream",
     "text": [
      "['concrete ' 'shadow ' 'shadow ' 'tree ' 'asphalt ' 'building ' 'asphalt '\n",
      " 'grass ' 'grass ' 'building ']\n"
     ]
    }
   ],
   "source": [
    "# Calculate predictions for the training data & build the confusion matrix, classification report & roc_auc_score. \n",
    "svm_rbf_Grid_y_pred_train = svm_rbf_Grid.predict(normalized_X_train)\n",
    "\n",
    "print(svm_rbf_Grid_y_pred_train[:10])"
   ]
  },
  {
   "cell_type": "code",
   "execution_count": 67,
   "metadata": {},
   "outputs": [
    {
     "name": "stdout",
     "output_type": "stream",
     "text": [
      "              precision    recall  f1-score   support\n",
      "\n",
      "    asphalt        1.00      1.00      1.00        45\n",
      "   building        0.97      0.99      0.98        97\n",
      "        car        1.00      1.00      1.00        21\n",
      "   concrete        0.99      0.99      0.99        93\n",
      "      grass        0.99      0.98      0.98        83\n",
      "       pool        1.00      1.00      1.00        14\n",
      "     shadow        1.00      1.00      1.00        45\n",
      "       soil        1.00      0.95      0.97        20\n",
      "       tree        0.99      0.99      0.99        89\n",
      "\n",
      "    accuracy                           0.99       507\n",
      "   macro avg       0.99      0.99      0.99       507\n",
      "weighted avg       0.99      0.99      0.99       507\n",
      "\n",
      "[[45  0  0  0  0  0  0  0  0]\n",
      " [ 0 96  0  1  0  0  0  0  0]\n",
      " [ 0  0 21  0  0  0  0  0  0]\n",
      " [ 0  1  0 92  0  0  0  0  0]\n",
      " [ 0  1  0  0 81  0  0  0  1]\n",
      " [ 0  0  0  0  0 14  0  0  0]\n",
      " [ 0  0  0  0  0  0 45  0  0]\n",
      " [ 0  1  0  0  0  0  0 19  0]\n",
      " [ 0  0  0  0  1  0  0  0 88]]\n"
     ]
    }
   ],
   "source": [
    "print(classification_report(y_train, svm_rbf_Grid_y_pred_train))\n",
    "print(confusion_matrix(y_train, svm_rbf_Grid_y_pred_train))\n",
    "# Are there signs of overfitting? Why or why not?\n",
    "\n",
    "# There is a sign of overfitting since the training accuracy(0.99) is higher than the testing one(0.83). "
   ]
  },
  {
   "cell_type": "markdown",
   "metadata": {},
   "source": [
    "### 5. Conceptual Questions"
   ]
  },
  {
   "cell_type": "markdown",
   "metadata": {},
   "source": [
    "1. From the models run in steps 2-6, which performs the best based on the Classification Report? Support your reasoning with evidence around your test data. \n",
    "\n",
    "---- Overall, the 4th (Support Vector Machine Classifier + Linear Kernel + Grid Search) and 6th (Support Vector Machine Classifier + RBF Kernel + Grid Search) model have the highest accuracy score (0.83) for the test set. However, the 6th (Support Vector Machine Classifier + RBF Kernel + Grid Search) model has much heavy overfitting issue than the 4th model. Thus, I will choose the 4th (Support Vector Machine Classifier + Linear Kernel + Grid Search) as the best performed one. "
   ]
  },
  {
   "cell_type": "markdown",
   "metadata": {},
   "source": [
    "2. Compare models run for steps 4-6 where different kernels were used. What is the benefit of using a polynomial or rbf kernel over a linear kernel? What could be a downside of using a polynomial or rbf kernel? \n",
    "\n",
    "---- Overall, the linear kernel works fine if the dataset is linearly separable; however, if the data is not linearly separable, it doesn't make sense to use a linear classifier. In this case, a RBF / polynomial kernel would make much more sense. To make non-linear data separable, we can add more features to the data since in a higher-dimensional space the probability of the data being linearly separable increases.\n",
    "\n",
    "---- Downside: The polynomial / RBF kernel isn't the parametric models, and the complexity of those models grows with the size of the training set. Not only is it more expensive to train, but the kernel matrix should be paid attention to, and the projection into this \"infinite\" higher dimensional space is more expensive. Furthermore, more hyperparameters need to be tuned, so model selection is more expensive as well. Finally, it's much easier to overfit a complex model. "
   ]
  },
  {
   "cell_type": "markdown",
   "metadata": {},
   "source": [
    "3. Explain the 'C' parameter used in steps 4-6. What does a small C mean versus a large C in sklearn? Why is it important to use the 'C' parameter when fitting a model?  \n",
    "\n",
    "---- The C parameter trades off correct classification of training examples against maximization of the decision function’s margin. For larger values of C, a smaller margin will be accepted if the decision function is better at classifying all training points correctly. A lower C will encourage a larger margin, therefore a simpler decision function, at the cost of training accuracy. In other words C behaves as a regularization parameter in the SVM. "
   ]
  },
  {
   "cell_type": "markdown",
   "metadata": {},
   "source": [
    "4. Scaling our input data does not matter much for Random Forest, but it is a critical step for Support Vector Machines. Explain why this is such a critical step. Also, provide an example of a feature from this data set that could cause issues with our SVMs if not scaled.\n",
    "\n",
    "---- Because Support Vector Machine (SVM) optimization occurs by minimizing the decision vector w, the optimal hyperplane is influenced by the scale of the input features and it's therefore recommended that data be standardized (mean 0, var 1) prior to SVM model training. So the normalization of feature vectors prior to feeding them to the SVM is very important. \n",
    "\n",
    "---- In this case, for instance, the gap between \"NDVI_140\", whose mean is around 0 and \"Mean_NIR\", whose is around 200 is too big. Thus, we need to scale the large values to its appropriate number.  "
   ]
  },
  {
   "cell_type": "markdown",
   "metadata": {},
   "source": [
    "5. Describe conceptually what the purpose of a kernel is for Support Vector Machines.\n",
    "\n",
    "---- Kernel Function is a method used to take data as input and transform into the required form of processing data. “Kernel” is used due to set of mathematical functions used in Support Vector Machine provides the window to manipulate the data. So, Kernel Function generally transforms the training set of data so that a non-linear decision surface is able to transformed to a linear equation in a higher number of dimension spaces. Basically, It returns the inner product between two points in a standard feature dimension."
   ]
  },
  {
   "cell_type": "code",
   "execution_count": null,
   "metadata": {},
   "outputs": [],
   "source": []
  }
 ],
 "metadata": {
  "kernelspec": {
   "display_name": "Python 3",
   "language": "python",
   "name": "python3"
  },
  "language_info": {
   "codemirror_mode": {
    "name": "ipython",
    "version": 3
   },
   "file_extension": ".py",
   "mimetype": "text/x-python",
   "name": "python",
   "nbconvert_exporter": "python",
   "pygments_lexer": "ipython3",
   "version": "3.8.3"
  }
 },
 "nbformat": 4,
 "nbformat_minor": 4
}

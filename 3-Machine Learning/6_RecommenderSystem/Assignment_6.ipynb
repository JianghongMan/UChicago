{
 "cells": [
  {
   "cell_type": "code",
   "execution_count": 1,
   "metadata": {},
   "outputs": [],
   "source": [
    "import pandas as pd\n",
    "import seaborn as sns\n",
    "import numpy as np\n",
    "import matplotlib.pyplot as plt\n",
    "import warnings\n",
    "warnings.filterwarnings(\"ignore\")\n",
    "%matplotlib inline\n",
    "\n",
    "from scipy.spatial.distance import cosine\n",
    "import math\n",
    "from collections import Counter"
   ]
  },
  {
   "cell_type": "code",
   "execution_count": 2,
   "metadata": {},
   "outputs": [
    {
     "name": "stdout",
     "output_type": "stream",
     "text": [
      "(100, 285)\n"
     ]
    },
    {
     "data": {
      "text/html": [
       "<div>\n",
       "<style scoped>\n",
       "    .dataframe tbody tr th:only-of-type {\n",
       "        vertical-align: middle;\n",
       "    }\n",
       "\n",
       "    .dataframe tbody tr th {\n",
       "        vertical-align: top;\n",
       "    }\n",
       "\n",
       "    .dataframe thead th {\n",
       "        text-align: right;\n",
       "    }\n",
       "</style>\n",
       "<table border=\"1\" class=\"dataframe\">\n",
       "  <thead>\n",
       "    <tr style=\"text-align: right;\">\n",
       "      <th></th>\n",
       "      <th>user</th>\n",
       "      <th>abba</th>\n",
       "      <th>ac/dc</th>\n",
       "      <th>adam green</th>\n",
       "      <th>aerosmith</th>\n",
       "      <th>afi</th>\n",
       "      <th>air</th>\n",
       "      <th>alanis morissette</th>\n",
       "      <th>alexisonfire</th>\n",
       "      <th>alicia keys</th>\n",
       "      <th>...</th>\n",
       "      <th>timbaland</th>\n",
       "      <th>tom waits</th>\n",
       "      <th>tool</th>\n",
       "      <th>tori amos</th>\n",
       "      <th>travis</th>\n",
       "      <th>trivium</th>\n",
       "      <th>u2</th>\n",
       "      <th>underoath</th>\n",
       "      <th>volbeat</th>\n",
       "      <th>yann tiersen</th>\n",
       "    </tr>\n",
       "  </thead>\n",
       "  <tbody>\n",
       "    <tr>\n",
       "      <th>0</th>\n",
       "      <td>1</td>\n",
       "      <td>0</td>\n",
       "      <td>0</td>\n",
       "      <td>0</td>\n",
       "      <td>0</td>\n",
       "      <td>0</td>\n",
       "      <td>0</td>\n",
       "      <td>0</td>\n",
       "      <td>0</td>\n",
       "      <td>0</td>\n",
       "      <td>...</td>\n",
       "      <td>0</td>\n",
       "      <td>0</td>\n",
       "      <td>0</td>\n",
       "      <td>0</td>\n",
       "      <td>0</td>\n",
       "      <td>0</td>\n",
       "      <td>0</td>\n",
       "      <td>0</td>\n",
       "      <td>0</td>\n",
       "      <td>0</td>\n",
       "    </tr>\n",
       "    <tr>\n",
       "      <th>1</th>\n",
       "      <td>33</td>\n",
       "      <td>0</td>\n",
       "      <td>0</td>\n",
       "      <td>1</td>\n",
       "      <td>0</td>\n",
       "      <td>0</td>\n",
       "      <td>0</td>\n",
       "      <td>0</td>\n",
       "      <td>0</td>\n",
       "      <td>0</td>\n",
       "      <td>...</td>\n",
       "      <td>0</td>\n",
       "      <td>0</td>\n",
       "      <td>0</td>\n",
       "      <td>0</td>\n",
       "      <td>0</td>\n",
       "      <td>0</td>\n",
       "      <td>0</td>\n",
       "      <td>0</td>\n",
       "      <td>0</td>\n",
       "      <td>0</td>\n",
       "    </tr>\n",
       "    <tr>\n",
       "      <th>2</th>\n",
       "      <td>42</td>\n",
       "      <td>0</td>\n",
       "      <td>0</td>\n",
       "      <td>0</td>\n",
       "      <td>0</td>\n",
       "      <td>0</td>\n",
       "      <td>0</td>\n",
       "      <td>0</td>\n",
       "      <td>0</td>\n",
       "      <td>0</td>\n",
       "      <td>...</td>\n",
       "      <td>0</td>\n",
       "      <td>0</td>\n",
       "      <td>0</td>\n",
       "      <td>0</td>\n",
       "      <td>0</td>\n",
       "      <td>0</td>\n",
       "      <td>0</td>\n",
       "      <td>0</td>\n",
       "      <td>0</td>\n",
       "      <td>0</td>\n",
       "    </tr>\n",
       "    <tr>\n",
       "      <th>3</th>\n",
       "      <td>51</td>\n",
       "      <td>0</td>\n",
       "      <td>0</td>\n",
       "      <td>0</td>\n",
       "      <td>0</td>\n",
       "      <td>0</td>\n",
       "      <td>0</td>\n",
       "      <td>0</td>\n",
       "      <td>0</td>\n",
       "      <td>0</td>\n",
       "      <td>...</td>\n",
       "      <td>0</td>\n",
       "      <td>0</td>\n",
       "      <td>0</td>\n",
       "      <td>0</td>\n",
       "      <td>0</td>\n",
       "      <td>0</td>\n",
       "      <td>0</td>\n",
       "      <td>0</td>\n",
       "      <td>0</td>\n",
       "      <td>0</td>\n",
       "    </tr>\n",
       "    <tr>\n",
       "      <th>4</th>\n",
       "      <td>62</td>\n",
       "      <td>0</td>\n",
       "      <td>0</td>\n",
       "      <td>0</td>\n",
       "      <td>0</td>\n",
       "      <td>0</td>\n",
       "      <td>0</td>\n",
       "      <td>0</td>\n",
       "      <td>0</td>\n",
       "      <td>0</td>\n",
       "      <td>...</td>\n",
       "      <td>0</td>\n",
       "      <td>0</td>\n",
       "      <td>0</td>\n",
       "      <td>0</td>\n",
       "      <td>0</td>\n",
       "      <td>0</td>\n",
       "      <td>0</td>\n",
       "      <td>0</td>\n",
       "      <td>0</td>\n",
       "      <td>0</td>\n",
       "    </tr>\n",
       "  </tbody>\n",
       "</table>\n",
       "<p>5 rows × 285 columns</p>\n",
       "</div>"
      ],
      "text/plain": [
       "   user  abba  ac/dc  adam green  aerosmith  afi  air  alanis morissette  \\\n",
       "0     1     0      0           0          0    0    0                  0   \n",
       "1    33     0      0           1          0    0    0                  0   \n",
       "2    42     0      0           0          0    0    0                  0   \n",
       "3    51     0      0           0          0    0    0                  0   \n",
       "4    62     0      0           0          0    0    0                  0   \n",
       "\n",
       "   alexisonfire  alicia keys  ...  timbaland  tom waits  tool  tori amos  \\\n",
       "0             0            0  ...          0          0     0          0   \n",
       "1             0            0  ...          0          0     0          0   \n",
       "2             0            0  ...          0          0     0          0   \n",
       "3             0            0  ...          0          0     0          0   \n",
       "4             0            0  ...          0          0     0          0   \n",
       "\n",
       "   travis  trivium  u2  underoath  volbeat  yann tiersen  \n",
       "0       0        0   0          0        0             0  \n",
       "1       0        0   0          0        0             0  \n",
       "2       0        0   0          0        0             0  \n",
       "3       0        0   0          0        0             0  \n",
       "4       0        0   0          0        0             0  \n",
       "\n",
       "[5 rows x 285 columns]"
      ]
     },
     "execution_count": 2,
     "metadata": {},
     "output_type": "execute_result"
    }
   ],
   "source": [
    "# Import the data\n",
    "data = pd.read_csv('radio_songs.csv')\n",
    "print(data.shape)\n",
    "data.head()"
   ]
  },
  {
   "cell_type": "markdown",
   "metadata": {},
   "source": [
    "### 1. Collaborative Filtering"
   ]
  },
  {
   "cell_type": "markdown",
   "metadata": {},
   "source": [
    "#### A. Use this user-item matrix to recommend 10 songs to users who have listened to 'u2' and 'pink floyd'. Use item-item collaborative filtering to find songs that are similar using spatial distance with cosine. "
   ]
  },
  {
   "cell_type": "markdown",
   "metadata": {},
   "source": [
    "#### If based on users listening to both 'u2' and 'pink floyd', the ranking will be: "
   ]
  },
  {
   "cell_type": "code",
   "execution_count": 3,
   "metadata": {},
   "outputs": [],
   "source": [
    "song_columns = data.iloc[:, 1:]\n",
    "song_column_names = song_columns.columns\n",
    "cosine_list = {}\n",
    "\n",
    "u2 = data[['u2']]\n",
    "pink_floyd = data[['pink floyd']]\n",
    "\n",
    "for name in song_column_names:\n",
    "    similarity = 1 - cosine(np.array(u2), np.array(data[[name]])) + 1 - cosine(np.array(pink_floyd), np.array(data[[name]]))\n",
    "    if not math.isnan(similarity):\n",
    "        cosine_list[name] = similarity"
   ]
  },
  {
   "cell_type": "code",
   "execution_count": 4,
   "metadata": {},
   "outputs": [
    {
     "data": {
      "text/plain": [
       "['robbie williams',\n",
       " 'genesis',\n",
       " 'johnny cash',\n",
       " 'misfits',\n",
       " 'audioslave',\n",
       " 'foo fighters',\n",
       " 'pearl jam',\n",
       " 'green day',\n",
       " 'david bowie',\n",
       " 'depeche mode']"
      ]
     },
     "execution_count": 4,
     "metadata": {},
     "output_type": "execute_result"
    }
   ],
   "source": [
    "sorted_list = sorted(cosine_list.items(), key = lambda x: x[1], reverse = True)\n",
    "\n",
    "list(list(zip(*sorted_list))[0])[2:12]"
   ]
  },
  {
   "cell_type": "markdown",
   "metadata": {},
   "source": [
    "#### If based on users listening to only 'u2', the ranking will be: "
   ]
  },
  {
   "cell_type": "code",
   "execution_count": 5,
   "metadata": {},
   "outputs": [
    {
     "data": {
      "text/html": [
       "<div>\n",
       "<style scoped>\n",
       "    .dataframe tbody tr th:only-of-type {\n",
       "        vertical-align: middle;\n",
       "    }\n",
       "\n",
       "    .dataframe tbody tr th {\n",
       "        vertical-align: top;\n",
       "    }\n",
       "\n",
       "    .dataframe thead th {\n",
       "        text-align: right;\n",
       "    }\n",
       "</style>\n",
       "<table border=\"1\" class=\"dataframe\">\n",
       "  <thead>\n",
       "    <tr style=\"text-align: right;\">\n",
       "      <th></th>\n",
       "      <th>song</th>\n",
       "      <th>score</th>\n",
       "    </tr>\n",
       "  </thead>\n",
       "  <tbody>\n",
       "    <tr>\n",
       "      <th>221</th>\n",
       "      <td>robbie williams</td>\n",
       "      <td>0.500000</td>\n",
       "    </tr>\n",
       "    <tr>\n",
       "      <th>177</th>\n",
       "      <td>misfits</td>\n",
       "      <td>0.500000</td>\n",
       "    </tr>\n",
       "    <tr>\n",
       "      <th>112</th>\n",
       "      <td>green day</td>\n",
       "      <td>0.433013</td>\n",
       "    </tr>\n",
       "    <tr>\n",
       "      <th>72</th>\n",
       "      <td>depeche mode</td>\n",
       "      <td>0.408248</td>\n",
       "    </tr>\n",
       "    <tr>\n",
       "      <th>202</th>\n",
       "      <td>peter fox</td>\n",
       "      <td>0.377964</td>\n",
       "    </tr>\n",
       "    <tr>\n",
       "      <th>78</th>\n",
       "      <td>dire straits</td>\n",
       "      <td>0.353553</td>\n",
       "    </tr>\n",
       "    <tr>\n",
       "      <th>149</th>\n",
       "      <td>kelly clarkson</td>\n",
       "      <td>0.353553</td>\n",
       "    </tr>\n",
       "    <tr>\n",
       "      <th>165</th>\n",
       "      <td>madonna</td>\n",
       "      <td>0.353553</td>\n",
       "    </tr>\n",
       "    <tr>\n",
       "      <th>91</th>\n",
       "      <td>enter shikari</td>\n",
       "      <td>0.353553</td>\n",
       "    </tr>\n",
       "    <tr>\n",
       "      <th>137</th>\n",
       "      <td>johnny cash</td>\n",
       "      <td>0.353553</td>\n",
       "    </tr>\n",
       "  </tbody>\n",
       "</table>\n",
       "</div>"
      ],
      "text/plain": [
       "                song     score\n",
       "221  robbie williams  0.500000\n",
       "177          misfits  0.500000\n",
       "112        green day  0.433013\n",
       "72      depeche mode  0.408248\n",
       "202        peter fox  0.377964\n",
       "78      dire straits  0.353553\n",
       "149   kelly clarkson  0.353553\n",
       "165          madonna  0.353553\n",
       "91     enter shikari  0.353553\n",
       "137      johnny cash  0.353553"
      ]
     },
     "execution_count": 5,
     "metadata": {},
     "output_type": "execute_result"
    }
   ],
   "source": [
    "rec_u2 = {}\n",
    "for i in data.columns:\n",
    "    rec_u2[i]= 1 - cosine(data['u2'], data[i])\n",
    "\n",
    "df_u2 = pd.DataFrame(list(rec_u2.items()),columns = ['song','score']) \n",
    "sorted_u2 = df_u2.sort_values(['score'], ascending = False)\n",
    "sorted_u2[1:11]"
   ]
  },
  {
   "cell_type": "markdown",
   "metadata": {},
   "source": [
    "#### If based on users listening to only 'pink floyd', the ranking will be: "
   ]
  },
  {
   "cell_type": "code",
   "execution_count": 6,
   "metadata": {},
   "outputs": [
    {
     "data": {
      "text/html": [
       "<div>\n",
       "<style scoped>\n",
       "    .dataframe tbody tr th:only-of-type {\n",
       "        vertical-align: middle;\n",
       "    }\n",
       "\n",
       "    .dataframe tbody tr th {\n",
       "        vertical-align: top;\n",
       "    }\n",
       "\n",
       "    .dataframe thead th {\n",
       "        text-align: right;\n",
       "    }\n",
       "</style>\n",
       "<table border=\"1\" class=\"dataframe\">\n",
       "  <thead>\n",
       "    <tr style=\"text-align: right;\">\n",
       "      <th></th>\n",
       "      <th>song</th>\n",
       "      <th>score</th>\n",
       "    </tr>\n",
       "  </thead>\n",
       "  <tbody>\n",
       "    <tr>\n",
       "      <th>106</th>\n",
       "      <td>genesis</td>\n",
       "      <td>0.577350</td>\n",
       "    </tr>\n",
       "    <tr>\n",
       "      <th>117</th>\n",
       "      <td>hans zimmer</td>\n",
       "      <td>0.408248</td>\n",
       "    </tr>\n",
       "    <tr>\n",
       "      <th>66</th>\n",
       "      <td>david bowie</td>\n",
       "      <td>0.408248</td>\n",
       "    </tr>\n",
       "    <tr>\n",
       "      <th>208</th>\n",
       "      <td>queen</td>\n",
       "      <td>0.408248</td>\n",
       "    </tr>\n",
       "    <tr>\n",
       "      <th>157</th>\n",
       "      <td>led zeppelin</td>\n",
       "      <td>0.408248</td>\n",
       "    </tr>\n",
       "    <tr>\n",
       "      <th>234</th>\n",
       "      <td>sonic syndicate</td>\n",
       "      <td>0.408248</td>\n",
       "    </tr>\n",
       "    <tr>\n",
       "      <th>105</th>\n",
       "      <td>funeral for a friend</td>\n",
       "      <td>0.408248</td>\n",
       "    </tr>\n",
       "    <tr>\n",
       "      <th>60</th>\n",
       "      <td>coldplay</td>\n",
       "      <td>0.348155</td>\n",
       "    </tr>\n",
       "    <tr>\n",
       "      <th>262</th>\n",
       "      <td>the rolling stones</td>\n",
       "      <td>0.333333</td>\n",
       "    </tr>\n",
       "    <tr>\n",
       "      <th>169</th>\n",
       "      <td>maria mena</td>\n",
       "      <td>0.333333</td>\n",
       "    </tr>\n",
       "  </tbody>\n",
       "</table>\n",
       "</div>"
      ],
      "text/plain": [
       "                     song     score\n",
       "106               genesis  0.577350\n",
       "117           hans zimmer  0.408248\n",
       "66            david bowie  0.408248\n",
       "208                 queen  0.408248\n",
       "157          led zeppelin  0.408248\n",
       "234       sonic syndicate  0.408248\n",
       "105  funeral for a friend  0.408248\n",
       "60               coldplay  0.348155\n",
       "262    the rolling stones  0.333333\n",
       "169            maria mena  0.333333"
      ]
     },
     "execution_count": 6,
     "metadata": {},
     "output_type": "execute_result"
    }
   ],
   "source": [
    "rec_pink_floyd = {}\n",
    "for i in data.columns:\n",
    "    rec_pink_floyd[i]= 1 - cosine(data['pink floyd'], data[i])\n",
    "\n",
    "df_pink_floyd = pd.DataFrame(list(rec_pink_floyd.items()),columns = ['song','score']) \n",
    "sorted_pink_floyd = df_pink_floyd.sort_values(['score'], ascending = False)\n",
    "sorted_pink_floyd[1:11]"
   ]
  },
  {
   "cell_type": "markdown",
   "metadata": {},
   "source": [
    "#### B. Find user most similar to user 1606. Use user-user collaborative filtering with cosine similarity. List the recommended songs for user 1606 (Hint: find the songs listened to by the most similar user)."
   ]
  },
  {
   "cell_type": "code",
   "execution_count": 7,
   "metadata": {},
   "outputs": [
    {
     "data": {
      "text/html": [
       "<div>\n",
       "<style scoped>\n",
       "    .dataframe tbody tr th:only-of-type {\n",
       "        vertical-align: middle;\n",
       "    }\n",
       "\n",
       "    .dataframe tbody tr th {\n",
       "        vertical-align: top;\n",
       "    }\n",
       "\n",
       "    .dataframe thead th {\n",
       "        text-align: right;\n",
       "    }\n",
       "</style>\n",
       "<table border=\"1\" class=\"dataframe\">\n",
       "  <thead>\n",
       "    <tr style=\"text-align: right;\">\n",
       "      <th></th>\n",
       "      <th>user</th>\n",
       "      <th>score</th>\n",
       "    </tr>\n",
       "  </thead>\n",
       "  <tbody>\n",
       "    <tr>\n",
       "      <th>65</th>\n",
       "      <td>1144</td>\n",
       "      <td>0.277350</td>\n",
       "    </tr>\n",
       "    <tr>\n",
       "      <th>8</th>\n",
       "      <td>144</td>\n",
       "      <td>0.223607</td>\n",
       "    </tr>\n",
       "    <tr>\n",
       "      <th>79</th>\n",
       "      <td>1334</td>\n",
       "      <td>0.150756</td>\n",
       "    </tr>\n",
       "    <tr>\n",
       "      <th>89</th>\n",
       "      <td>1509</td>\n",
       "      <td>0.144338</td>\n",
       "    </tr>\n",
       "    <tr>\n",
       "      <th>45</th>\n",
       "      <td>890</td>\n",
       "      <td>0.129099</td>\n",
       "    </tr>\n",
       "  </tbody>\n",
       "</table>\n",
       "</div>"
      ],
      "text/plain": [
       "    user     score\n",
       "65  1144  0.277350\n",
       "8    144  0.223607\n",
       "79  1334  0.150756\n",
       "89  1509  0.144338\n",
       "45   890  0.129099"
      ]
     },
     "execution_count": 7,
     "metadata": {},
     "output_type": "execute_result"
    }
   ],
   "source": [
    "new_header = data.T.iloc[0] \n",
    "df_trans = data.T[1:] \n",
    "df_trans.columns = new_header \n",
    "\n",
    "rec_1606 = {}\n",
    "for i in df_trans.columns:\n",
    "    rec_1606[i]= 1 - cosine(df_trans[1606], df_trans[i])\n",
    "\n",
    "df_1606 = pd.DataFrame(list(rec_1606.items()),columns = ['user','score']) \n",
    "sorted_1606 = df_1606.sort_values(['score'], ascending = False)\n",
    "sorted_1606[1:6]"
   ]
  },
  {
   "cell_type": "code",
   "execution_count": 8,
   "metadata": {},
   "outputs": [
    {
     "data": {
      "text/plain": [
       "Index(['beastie boys', 'bob dylan', 'bob marley & the wailers', 'david bowie',\n",
       "       'elvis presley', 'eric clapton', 'johnny cash', 'pearl jam',\n",
       "       'pink floyd', 'the beatles', 'the doors', 'the rolling stones',\n",
       "       'tom waits'],\n",
       "      dtype='object')"
      ]
     },
     "execution_count": 8,
     "metadata": {},
     "output_type": "execute_result"
    }
   ],
   "source": [
    "user1144 = data[data['user'] == 1144]\n",
    "user1144.drop(user1144.columns[[0]], axis=1, inplace=True)\n",
    "song_1144 = (user1144 != 0).any()\n",
    "\n",
    "rec_song_1144 = song_1144.index[song_1144]\n",
    "rec_song_1144"
   ]
  },
  {
   "cell_type": "markdown",
   "metadata": {},
   "source": [
    "#### C. How many of the recommended songs has already been listened to by user 1606?"
   ]
  },
  {
   "cell_type": "code",
   "execution_count": 9,
   "metadata": {},
   "outputs": [
    {
     "data": {
      "text/plain": [
       "Index(['elvis presley', 'the beatles'], dtype='object')"
      ]
     },
     "execution_count": 9,
     "metadata": {},
     "output_type": "execute_result"
    }
   ],
   "source": [
    "user1606 = data[data['user'] == 1606]\n",
    "user1606.drop(user1606.columns[[0]], axis=1, inplace=True)\n",
    "song_1606 = (user1606 != 0).any()\n",
    "\n",
    "song_11441606 = song_1606.index[song_1144 & song_1606]\n",
    "song_11441606"
   ]
  },
  {
   "cell_type": "markdown",
   "metadata": {},
   "source": [
    "Thus, 2 songs that user 1606 has listened to are recommended."
   ]
  },
  {
   "cell_type": "markdown",
   "metadata": {},
   "source": [
    "#### D. Use a combination of user-item approach to build a recommendation score for each song for each user using the following steps for each user-"
   ]
  },
  {
   "cell_type": "markdown",
   "metadata": {},
   "source": [
    "1. For each song for the user row, get the top 10 similar songs and their similarity score.\n",
    "2. For each of the top 10 similar songs, get a list of the user purchases\n",
    "3. Calculate a recommendation score as follows: ∑(𝑝𝑢𝑟𝑐ℎ𝑎𝑠𝑒𝐻𝑖𝑠𝑡𝑜𝑟𝑦*𝑠𝑖𝑚𝑖𝑙𝑎𝑟𝑖𝑡𝑦𝑆𝑐𝑜𝑟𝑒) / ∑𝑠𝑖𝑚𝑖𝑙𝑎𝑟𝑖𝑡𝑦𝑆𝑐𝑜𝑟𝑒\n",
    "4. What are the top 5 song recommendations for user 1606?"
   ]
  },
  {
   "cell_type": "code",
   "execution_count": 10,
   "metadata": {},
   "outputs": [],
   "source": [
    "# get the top 10 similar songs and their similarity score\n",
    "def get_10_similar_songs(name, columns):\n",
    "    song_column_names = columns.columns\n",
    "    song_col = data[[name]]\n",
    "    cosine_list = {}\n",
    "    for name in song_column_names:\n",
    "        similarity = 1 - cosine(np.array(song_col), np.array(columns[[name]]))\n",
    "        if not math.isnan(similarity):\n",
    "            cosine_list[name] = similarity\n",
    "    sorted_list = sorted(cosine_list.items(), key = lambda x: x[1], reverse = True)\n",
    "    return sorted_list[1:11]"
   ]
  },
  {
   "cell_type": "code",
   "execution_count": 11,
   "metadata": {},
   "outputs": [],
   "source": [
    "# calculate a recommendation score\n",
    "def recommended_system(user, data):\n",
    "    user = data[data['user'] == user]\n",
    "    columns = data.iloc[:, 1:]\n",
    "    song_column_names = columns.columns\n",
    "    song_scores = {}\n",
    "    for name in song_column_names:\n",
    "        top_10_similar_songs = list(zip(*get_10_similar_songs(name, columns)))\n",
    "        sim_score = 0\n",
    "        if len(top_10_similar_songs) != 0:\n",
    "            song_list = list(top_10_similar_songs[0])\n",
    "            score_list = list(top_10_similar_songs[1])\n",
    "            score_sum = sum(score_list)\n",
    "            for count, each_song in enumerate(song_list):\n",
    "                sim_score += float(user[[each_song]].values[0]) * score_list[count]\n",
    "            song_scores[name] = sim_score / score_sum\n",
    "    sortedlist = sorted(song_scores.items(), key = lambda x: x[1], reverse = True)\n",
    "    return sortedlist"
   ]
  },
  {
   "cell_type": "code",
   "execution_count": 12,
   "metadata": {},
   "outputs": [
    {
     "data": {
      "text/plain": [
       "[('elvis presley', 0.28932783543098956),\n",
       " ('abba', 0.23902308185961818),\n",
       " ('eric clapton', 0.20274011674755033),\n",
       " ('frank sinatra', 0.20113933811458254),\n",
       " ('howard shore', 0.17174865637166115)]"
      ]
     },
     "execution_count": 12,
     "metadata": {},
     "output_type": "execute_result"
    }
   ],
   "source": [
    "# top 5 song recommendations for user 1606\n",
    "recommended_1606 = recommended_system(1606, data)\n",
    "recommended_1606[:5]"
   ]
  },
  {
   "cell_type": "markdown",
   "metadata": {},
   "source": [
    "### 5. Conceptual Questions"
   ]
  },
  {
   "cell_type": "markdown",
   "metadata": {},
   "source": [
    "1. Name 2 other similarity measures that you can use instead of cosine similarity above.\n",
    "\n",
    "---- euclidian distance / pearson similarity / pairwise distances"
   ]
  },
  {
   "cell_type": "markdown",
   "metadata": {},
   "source": [
    "2. What is needed to build a Content-Based Recommender system?\n",
    "\n",
    "---- Content-based recommendation systems recommend items to a user by using the similarity of items. This recommender system recommends products or items based on their description or features. It identifies the similarity between the products based on their descriptions. Popular methods include: Similarity-based Methods, One-class SVMs, Matrix Factorisation, Supervised Learning method. Also. the concepts of Term Frequency (TF) and Inverse Document Frequency (IDF) are used in content based filtering mechanisms (such as a content based recommender). "
   ]
  },
  {
   "cell_type": "markdown",
   "metadata": {},
   "source": [
    "3. Name 2 methods to evaluate your recommender system.\n",
    "\n",
    "---- Decision support accuracy metrics: Reversal rate, Weighted errors, ROC and PRC, Precision, Recall and F-measure. \n",
    "\n",
    "---- Statistical accuracy metrics: Mean Absolute Error (MAE) , Root Mean Square Error (RMSE) and Correlation. \n",
    "\n",
    "---- Metrics: Normalized Discounted Cumulative Gain: Normalized discounted cumulative gain (nDCG)"
   ]
  },
  {
   "cell_type": "code",
   "execution_count": null,
   "metadata": {},
   "outputs": [],
   "source": []
  }
 ],
 "metadata": {
  "kernelspec": {
   "display_name": "Python 3",
   "language": "python",
   "name": "python3"
  },
  "language_info": {
   "codemirror_mode": {
    "name": "ipython",
    "version": 3
   },
   "file_extension": ".py",
   "mimetype": "text/x-python",
   "name": "python",
   "nbconvert_exporter": "python",
   "pygments_lexer": "ipython3",
   "version": "3.8.3"
  }
 },
 "nbformat": 4,
 "nbformat_minor": 4
}

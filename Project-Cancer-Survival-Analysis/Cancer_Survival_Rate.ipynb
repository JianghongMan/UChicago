{
 "cells": [
  {
   "cell_type": "code",
   "execution_count": 1,
   "metadata": {},
   "outputs": [],
   "source": [
    "import pandas as pd\n",
    "import seaborn as sns\n",
    "import numpy as np\n",
    "import matplotlib.pyplot as plt\n",
    "import matplotlib as matplot\n",
    "\n",
    "import re\n",
    "import sklearn\n",
    "import warnings\n",
    "warnings.filterwarnings(\"ignore\")\n",
    "%matplotlib inline\n",
    "\n",
    "from datetime import datetime\n",
    "from lifelines import KaplanMeierFitter\n",
    "from lifelines.plotting import plot_lifetimes \n",
    "from lifelines import CoxPHFitter"
   ]
  },
  {
   "cell_type": "code",
   "execution_count": 2,
   "metadata": {},
   "outputs": [
    {
     "data": {
      "text/plain": [
       "(8468, 14)"
      ]
     },
     "execution_count": 2,
     "metadata": {},
     "output_type": "execute_result"
    }
   ],
   "source": [
    "df = pd.read_excel('Cancer patient data.xlsx')\n",
    "df.shape"
   ]
  },
  {
   "cell_type": "markdown",
   "metadata": {},
   "source": [
    "## 1. Clean the data"
   ]
  },
  {
   "cell_type": "markdown",
   "metadata": {},
   "source": [
    "#### 1.1 Remove all patients who were diagnosed after 8/25/16."
   ]
  },
  {
   "cell_type": "code",
   "execution_count": 3,
   "metadata": {},
   "outputs": [
    {
     "data": {
      "text/plain": [
       "(8463, 14)"
      ]
     },
     "execution_count": 3,
     "metadata": {},
     "output_type": "execute_result"
    }
   ],
   "source": [
    "df.drop(df[df['LUNG DT'] > '2016/08/25'].index, inplace = True)\n",
    "df.drop(df[df['PANCREAS_DT'] > '2016/08/25'].index, inplace = True)\n",
    "df.drop(df[df['THYROID_DT'] > '2016/08/25'].index, inplace = True)\n",
    "df.drop(df[df['COLORECTAL_DT'] > '2016/08/25'].index, inplace = True)\n",
    "df.drop(df[df['MELANOMA_DT'] > '2016/08/25'].index, inplace = True)\n",
    "# 8463\n",
    "df.shape"
   ]
  },
  {
   "cell_type": "markdown",
   "metadata": {},
   "source": [
    "#### 1.2 Keep patients who died after 8/25/16 (you need to censor this data)."
   ]
  },
  {
   "cell_type": "code",
   "execution_count": 4,
   "metadata": {},
   "outputs": [
    {
     "data": {
      "text/plain": [
       "(8463, 14)"
      ]
     },
     "execution_count": 4,
     "metadata": {},
     "output_type": "execute_result"
    }
   ],
   "source": [
    "df.loc[df.DEATH_DATE_off > '2016/08/25', 'DEATH_DATE_off'] = np.nan\n",
    "# 8463\n",
    "df.shape"
   ]
  },
  {
   "cell_type": "markdown",
   "metadata": {},
   "source": [
    "#### 1.3 Remove all patients who do not have a diagnosis date."
   ]
  },
  {
   "cell_type": "code",
   "execution_count": 5,
   "metadata": {},
   "outputs": [
    {
     "data": {
      "text/plain": [
       "(4152, 15)"
      ]
     },
     "execution_count": 5,
     "metadata": {},
     "output_type": "execute_result"
    }
   ],
   "source": [
    "# check how many cancers one patient has \n",
    "df['check'] = df.LUNG + df.PANCREAS + df.THYROID + df.COLORECTAL + df.MELANOMA\n",
    "df.drop(df[df['check'] == 0].index, inplace = True)\n",
    "# 4152\n",
    "df.shape"
   ]
  },
  {
   "cell_type": "markdown",
   "metadata": {},
   "source": [
    "#### 1.4 Categorize race into White, African-American, Asian/Mideast-Indian, and Others."
   ]
  },
  {
   "cell_type": "code",
   "execution_count": 6,
   "metadata": {},
   "outputs": [],
   "source": [
    "# split the original race column to two independant columns\n",
    "df[['first_race','second_race']] = df.race.str.split('/',expand=True,)\n",
    "\n",
    "# 111 \n",
    "Asian = df[df['first_race'] == 'Asian']\n",
    "# 111, same as Asian \n",
    "Mid = df[df['second_race'] == 'Mideast Indian']\n",
    "tf = Asian['race'] == 'Asian/Mideast Indian'\n",
    "# 111, same as Asian.shape, which means that the race indicator for Asian/Mideast Indian is consistant\n",
    "tf[tf==True].count().sum()\n",
    "\n",
    "# 818\n",
    "African = df[df['first_race'] == 'Black']\n",
    "# 818, same as African.shape \n",
    "Af = df[df['second_race'] == 'African-American']\n",
    "\n",
    "# 2683\n",
    "White = df[df['first_race'] == 'White']\n",
    "\n",
    "# Rename original race column \n",
    "df['race'] = df['race'].replace(['Black/African-American'],'African-American')\n",
    "df['race'] = df['race'].replace(['Asian/Mideast Indian'],'Asian/Mideast-Indian')\n",
    "\n",
    "race_col = ['White', 'African-American', 'Asian/Mideast-Indian']\n",
    "df.loc[(~df.race.isin(race_col)),'race']= 'Others'\n",
    "\n",
    "df = df.iloc[:, :-2]"
   ]
  },
  {
   "cell_type": "markdown",
   "metadata": {},
   "source": [
    "## 2. Calculate the age of each patient at the time of cancer diagnosis."
   ]
  },
  {
   "cell_type": "code",
   "execution_count": 7,
   "metadata": {},
   "outputs": [
    {
     "name": "stdout",
     "output_type": "stream",
     "text": [
      "live num: 3855\n",
      "dead num: 297\n",
      "final df: 4152\n"
     ]
    }
   ],
   "source": [
    "df['min_DT'] = df[['LUNG DT','PANCREAS_DT','THYROID_DT','COLORECTAL_DT','MELANOMA_DT']].min(axis=1)\n",
    "df['max_DT'] = df[['LUNG DT','PANCREAS_DT','THYROID_DT','COLORECTAL_DT','MELANOMA_DT']].max(axis=1)\n",
    "\n",
    "# create a 'dead' column indicating whether the patient is dead or not (0: not dead, 1: dead)\n",
    "df['dead'] = np.where(df.DEATH_DATE_off.notnull(), 1, 0)\n",
    "\n",
    "live = df.loc[df['dead'] == 0]\n",
    "print('live num:', live.shape[0])\n",
    "dead = df.loc[df['dead'] == 1]\n",
    "print('dead num:', dead.shape[0])\n",
    "\n",
    "live['diagnosis_days_min'] = (datetime(2016,8,25) - live['min_DT']).astype('timedelta64[D]')\n",
    "live['diagnosis_years_min'] = (datetime(2016,8,25) - live['min_DT']).astype('timedelta64[Y]')\n",
    "live['diagnosis_days_max'] = (datetime(2016,8,25) - live['max_DT']).astype('timedelta64[D]')\n",
    "live['diagnosis_years_max'] = (datetime(2016,8,25) - live['max_DT']).astype('timedelta64[Y]')\n",
    "\n",
    "dead['diagnosis_days_min'] = (dead['DEATH_DATE_off'] - dead['min_DT']).astype('timedelta64[D]')\n",
    "dead['diagnosis_years_min'] = (dead['DEATH_DATE_off'] - dead['min_DT']).astype('timedelta64[Y]')\n",
    "dead['diagnosis_days_max'] = (dead['DEATH_DATE_off'] - dead['max_DT']).astype('timedelta64[D]')\n",
    "dead['diagnosis_years_max'] = (dead['DEATH_DATE_off'] - dead['max_DT']).astype('timedelta64[Y]')\n",
    "\n",
    "df = pd.concat([live,dead])\n",
    "print('final df:',df.shape[0])"
   ]
  },
  {
   "cell_type": "code",
   "execution_count": 8,
   "metadata": {},
   "outputs": [],
   "source": [
    "df_x = df.sort_values(by=['diagnosis_days_min'])\n",
    "df_x.head(1)\n",
    "# change one patient who has negative diagnosis_days_ to 0\n",
    "df.loc[df.diagnosis_days_min < 0, 'DEATH_DATE_off'] = datetime(2016,8,25)\n",
    "df.loc[df.diagnosis_days_min < 0, 'LUNG DT'] = datetime(2016,8,25)\n",
    "df.loc[df.diagnosis_days_min < 0, 'min_DT'] = datetime(2016,8,25)\n",
    "df.loc[df.diagnosis_days_min < 0, 'max_DT'] = datetime(2016,8,25)\n",
    "df.loc[df.diagnosis_days_min < 0, 'diagnosis_years_min'] = 0\n",
    "df.loc[df.diagnosis_days_min < 0, 'diagnosis_years_max'] = 0\n",
    "df.loc[df.diagnosis_days_min < 0, 'diagnosis_days_max'] = 0\n",
    "df.loc[df.diagnosis_days_min < 0, 'diagnosis_days_min'] = 0"
   ]
  },
  {
   "cell_type": "markdown",
   "metadata": {},
   "source": [
    "## 3. Analyze survival rate by gender, race and age group for patients."
   ]
  },
  {
   "cell_type": "markdown",
   "metadata": {},
   "source": [
    "#### 3.0 Organize the data "
   ]
  },
  {
   "cell_type": "code",
   "execution_count": 9,
   "metadata": {},
   "outputs": [
    {
     "name": "stdout",
     "output_type": "stream",
     "text": [
      "BIRTH_DATE_off            0\n",
      "DEATH_DATE_off         3855\n",
      "sex                       0\n",
      "age_min_Group             4\n",
      "age_max_Group             4\n",
      "race                      0\n",
      "LUNG                      0\n",
      "PANCREAS                  0\n",
      "THYROID                   0\n",
      "COLORECTAL                0\n",
      "MELANOMA                  0\n",
      "LUNG DT                2669\n",
      "PANCREAS_DT            3494\n",
      "THYROID_DT             3408\n",
      "COLORECTAL_DT          3206\n",
      "MELANOMA_DT            3806\n",
      "check                     0\n",
      "min_DT                    4\n",
      "max_DT                    4\n",
      "dead                      0\n",
      "diagnosis_days_min        4\n",
      "diagnosis_years_min       4\n",
      "diagnosis_days_max        4\n",
      "diagnosis_years_max       4\n",
      "age_min                   4\n",
      "age_max                   4\n",
      "dtype: int64\n"
     ]
    }
   ],
   "source": [
    "# add age group\n",
    "df['age_min'] = (df['min_DT'] - df['BIRTH_DATE_off']).astype('timedelta64[Y]')\n",
    "df['age_max'] = (df['max_DT'] - df['BIRTH_DATE_off']).astype('timedelta64[Y]')\n",
    "\n",
    "# set 2014-12-21 kid's age to 1\n",
    "df.loc[df.BIRTH_DATE_off == '2014-12-21', 'age_min'] = 1\n",
    "df.loc[df.BIRTH_DATE_off == '2014-12-21', 'age_max'] = 1\n",
    "\n",
    "category1 = pd.cut(df.age_min,bins=[0, 10, 20, 30, 40, 50, 60, 70, 80, 90, 110, np.inf],\n",
    "                  labels=['<=10', '11-20', '21-30', '31-40', '41-50', '51-60', '61-70', '71-80', \n",
    "                          '81-90', '91-100','101-110'])\n",
    "df.insert(3,'age_min_Group',category1)\n",
    "\n",
    "category2 = pd.cut(df.age_max,bins=[0, 10, 20, 30, 40, 50, 60, 70, 80, 90, 110, np.inf],\n",
    "                  labels=['<=10', '11-20', '21-30', '31-40', '41-50', '51-60', '61-70', '71-80', \n",
    "                          '81-90', '91-100','101-110'])\n",
    "df.insert(4,'age_max_Group',category2)\n",
    "\n",
    "# check nan\n",
    "print(df.isnull().sum())\n",
    "df[df[\"age_min_Group\"].isnull()]\n",
    "\n",
    "# drop nan : only 4148 data left \n",
    "df1 = df.dropna(subset=['min_DT'])"
   ]
  },
  {
   "cell_type": "code",
   "execution_count": 10,
   "metadata": {},
   "outputs": [
    {
     "data": {
      "text/html": [
       "<div>\n",
       "<style scoped>\n",
       "    .dataframe tbody tr th:only-of-type {\n",
       "        vertical-align: middle;\n",
       "    }\n",
       "\n",
       "    .dataframe tbody tr th {\n",
       "        vertical-align: top;\n",
       "    }\n",
       "\n",
       "    .dataframe thead th {\n",
       "        text-align: right;\n",
       "    }\n",
       "</style>\n",
       "<table border=\"1\" class=\"dataframe\">\n",
       "  <thead>\n",
       "    <tr style=\"text-align: right;\">\n",
       "      <th></th>\n",
       "      <th>BIRTH_DATE_off</th>\n",
       "      <th>DEATH_DATE_off</th>\n",
       "      <th>sex</th>\n",
       "      <th>age_min_Group</th>\n",
       "      <th>age_max_Group</th>\n",
       "      <th>race</th>\n",
       "      <th>LUNG</th>\n",
       "      <th>PANCREAS</th>\n",
       "      <th>THYROID</th>\n",
       "      <th>COLORECTAL</th>\n",
       "      <th>...</th>\n",
       "      <th>check</th>\n",
       "      <th>min_DT</th>\n",
       "      <th>max_DT</th>\n",
       "      <th>dead</th>\n",
       "      <th>diagnosis_days_min</th>\n",
       "      <th>diagnosis_years_min</th>\n",
       "      <th>diagnosis_days_max</th>\n",
       "      <th>diagnosis_years_max</th>\n",
       "      <th>age_min</th>\n",
       "      <th>age_max</th>\n",
       "    </tr>\n",
       "  </thead>\n",
       "  <tbody>\n",
       "    <tr>\n",
       "      <th>308</th>\n",
       "      <td>1954-04-20</td>\n",
       "      <td>NaT</td>\n",
       "      <td>Female</td>\n",
       "      <td>51-60</td>\n",
       "      <td>61-70</td>\n",
       "      <td>African-American</td>\n",
       "      <td>0</td>\n",
       "      <td>0</td>\n",
       "      <td>1</td>\n",
       "      <td>1</td>\n",
       "      <td>...</td>\n",
       "      <td>2</td>\n",
       "      <td>2010-12-04</td>\n",
       "      <td>2015-05-06</td>\n",
       "      <td>0</td>\n",
       "      <td>2091.0</td>\n",
       "      <td>5.0</td>\n",
       "      <td>477.0</td>\n",
       "      <td>1.0</td>\n",
       "      <td>56.0</td>\n",
       "      <td>61.0</td>\n",
       "    </tr>\n",
       "    <tr>\n",
       "      <th>3513</th>\n",
       "      <td>1944-03-27</td>\n",
       "      <td>NaT</td>\n",
       "      <td>Male</td>\n",
       "      <td>61-70</td>\n",
       "      <td>71-80</td>\n",
       "      <td>White</td>\n",
       "      <td>1</td>\n",
       "      <td>1</td>\n",
       "      <td>0</td>\n",
       "      <td>0</td>\n",
       "      <td>...</td>\n",
       "      <td>2</td>\n",
       "      <td>2013-06-13</td>\n",
       "      <td>2015-10-21</td>\n",
       "      <td>0</td>\n",
       "      <td>1169.0</td>\n",
       "      <td>3.0</td>\n",
       "      <td>309.0</td>\n",
       "      <td>0.0</td>\n",
       "      <td>69.0</td>\n",
       "      <td>71.0</td>\n",
       "    </tr>\n",
       "    <tr>\n",
       "      <th>5679</th>\n",
       "      <td>1943-09-25</td>\n",
       "      <td>NaT</td>\n",
       "      <td>Male</td>\n",
       "      <td>51-60</td>\n",
       "      <td>61-70</td>\n",
       "      <td>White</td>\n",
       "      <td>1</td>\n",
       "      <td>0</td>\n",
       "      <td>0</td>\n",
       "      <td>0</td>\n",
       "      <td>...</td>\n",
       "      <td>2</td>\n",
       "      <td>2002-02-24</td>\n",
       "      <td>2013-02-12</td>\n",
       "      <td>0</td>\n",
       "      <td>5296.0</td>\n",
       "      <td>14.0</td>\n",
       "      <td>1290.0</td>\n",
       "      <td>3.0</td>\n",
       "      <td>58.0</td>\n",
       "      <td>69.0</td>\n",
       "    </tr>\n",
       "    <tr>\n",
       "      <th>6549</th>\n",
       "      <td>1952-07-14</td>\n",
       "      <td>NaT</td>\n",
       "      <td>Male</td>\n",
       "      <td>51-60</td>\n",
       "      <td>61-70</td>\n",
       "      <td>African-American</td>\n",
       "      <td>1</td>\n",
       "      <td>0</td>\n",
       "      <td>0</td>\n",
       "      <td>1</td>\n",
       "      <td>...</td>\n",
       "      <td>2</td>\n",
       "      <td>2013-06-17</td>\n",
       "      <td>2014-03-18</td>\n",
       "      <td>0</td>\n",
       "      <td>1165.0</td>\n",
       "      <td>3.0</td>\n",
       "      <td>891.0</td>\n",
       "      <td>2.0</td>\n",
       "      <td>60.0</td>\n",
       "      <td>61.0</td>\n",
       "    </tr>\n",
       "  </tbody>\n",
       "</table>\n",
       "<p>4 rows × 26 columns</p>\n",
       "</div>"
      ],
      "text/plain": [
       "     BIRTH_DATE_off DEATH_DATE_off     sex age_min_Group age_max_Group  \\\n",
       "308      1954-04-20            NaT  Female         51-60         61-70   \n",
       "3513     1944-03-27            NaT    Male         61-70         71-80   \n",
       "5679     1943-09-25            NaT    Male         51-60         61-70   \n",
       "6549     1952-07-14            NaT    Male         51-60         61-70   \n",
       "\n",
       "                  race  LUNG  PANCREAS  THYROID  COLORECTAL  ...  check  \\\n",
       "308   African-American     0         0        1           1  ...      2   \n",
       "3513             White     1         1        0           0  ...      2   \n",
       "5679             White     1         0        0           0  ...      2   \n",
       "6549  African-American     1         0        0           1  ...      2   \n",
       "\n",
       "         min_DT     max_DT dead diagnosis_days_min diagnosis_years_min  \\\n",
       "308  2010-12-04 2015-05-06    0             2091.0                 5.0   \n",
       "3513 2013-06-13 2015-10-21    0             1169.0                 3.0   \n",
       "5679 2002-02-24 2013-02-12    0             5296.0                14.0   \n",
       "6549 2013-06-17 2014-03-18    0             1165.0                 3.0   \n",
       "\n",
       "      diagnosis_days_max diagnosis_years_max age_min  age_max  \n",
       "308                477.0                 1.0    56.0     61.0  \n",
       "3513               309.0                 0.0    69.0     71.0  \n",
       "5679              1290.0                 3.0    58.0     69.0  \n",
       "6549               891.0                 2.0    60.0     61.0  \n",
       "\n",
       "[4 rows x 26 columns]"
      ]
     },
     "execution_count": 10,
     "metadata": {},
     "output_type": "execute_result"
    }
   ],
   "source": [
    "# only four patients belong to different age groups \n",
    "df1.loc[~(df1['age_min_Group'] == df1['age_max_Group'])]"
   ]
  },
  {
   "cell_type": "code",
   "execution_count": 11,
   "metadata": {},
   "outputs": [
    {
     "name": "stdout",
     "output_type": "stream",
     "text": [
      "Column Name:  sex\n",
      "Female    2190\n",
      "Male      1958\n",
      "Name: sex, dtype: int64\n",
      "-----------------------------\n",
      "Column Name:  age_min_Group\n",
      "61-70      1213\n",
      "51-60       931\n",
      "71-80       814\n",
      "41-50       473\n",
      "81-90       274\n",
      "31-40       241\n",
      "21-30       116\n",
      "11-20        50\n",
      "91-100       29\n",
      "<=10          7\n",
      "101-110       0\n",
      "Name: age_min_Group, dtype: int64\n",
      "-----------------------------\n",
      "Column Name:  race\n",
      "White                   2815\n",
      "African-American         956\n",
      "Others                   260\n",
      "Asian/Mideast-Indian     117\n",
      "Name: race, dtype: int64\n",
      "-----------------------------\n"
     ]
    }
   ],
   "source": [
    "cat_cols= ['sex','age_min_Group','race']\n",
    "for i in cat_cols:\n",
    "    print('Column Name: ',i)\n",
    "    print(df1[i].value_counts())\n",
    "    print('-----------------------------')"
   ]
  },
  {
   "cell_type": "markdown",
   "metadata": {},
   "source": [
    "#### 3.1 By gender "
   ]
  },
  {
   "cell_type": "code",
   "execution_count": 14,
   "metadata": {},
   "outputs": [
    {
     "data": {
      "text/plain": [
       "Text(0.5, 1.0, 'KMF_gender')"
      ]
     },
     "execution_count": 14,
     "metadata": {},
     "output_type": "execute_result"
    },
    {
     "data": {
      "image/png": "[encoded data removed]",
      "text/plain": [
       "<Figure size 432x288 with 1 Axes>"
      ]
     },
     "metadata": {
      "needs_background": "light"
     },
     "output_type": "display_data"
    }
   ],
   "source": [
    "kmf_gender = KaplanMeierFitter() \n",
    "\n",
    "T = df1['diagnosis_days_min']     \n",
    "E = df1['dead']                \n",
    "\n",
    "sex_group = df1['sex']            \n",
    "male = (sex_group == 'Male')  \n",
    "female = (sex_group == 'Female')       \n",
    "\n",
    "kmf_gender.fit(T[male], E[male], label='Male')    \n",
    "ax1 = kmf_gender.plot()\n",
    "\n",
    "kmf_gender.fit(T[female], E[female], label='Female')         \n",
    "ax2 = kmf_gender.plot(ax=ax1)\n",
    "\n",
    "plt.xlabel('Days Passed')\n",
    "plt.ylabel('Survival Probability')\n",
    "plt.title('KMF_gender')"
   ]
  },
  {
   "cell_type": "markdown",
   "metadata": {},
   "source": [
    "#### 3.2 By race"
   ]
  },
  {
   "cell_type": "code",
   "execution_count": 15,
   "metadata": {},
   "outputs": [
    {
     "data": {
      "text/plain": [
       "Text(0.5, 1.0, 'KMF_race')"
      ]
     },
     "execution_count": 15,
     "metadata": {},
     "output_type": "execute_result"
    },
    {
     "data": {
      "image/png": "[encoded data removed]",
      "text/plain": [
       "<Figure size 432x288 with 1 Axes>"
      ]
     },
     "metadata": {
      "needs_background": "light"
     },
     "output_type": "display_data"
    }
   ],
   "source": [
    "kmf_race = KaplanMeierFitter() \n",
    "\n",
    "race_group = df1['race']            \n",
    "White = (race_group == 'White')  \n",
    "African_American = (race_group == 'African-American')\n",
    "Asian_MideastIndian = (race_group == 'Asian/Mideast-Indian')\n",
    "Others = (race_group == 'Others')\n",
    "\n",
    "kmf_race.fit(T[White], E[White], label='White')    \n",
    "ax1 = kmf_race.plot(ci_show=False)\n",
    "\n",
    "kmf_race.fit(T[African_American], E[African_American], label='African_American')    \n",
    "ax2 = kmf_race.plot(ax=ax1,ci_show=False)\n",
    "\n",
    "kmf_race.fit(T[Asian_MideastIndian], E[Asian_MideastIndian], label='Asian_MideastIndian')    \n",
    "ax3 = kmf_race.plot(ax=ax2,ci_show=False)\n",
    "\n",
    "kmf_race.fit(T[Others], E[Others], label='Others')    \n",
    "ax4 = kmf_race.plot(ax=ax3,ci_show=False)\n",
    "\n",
    "plt.xlabel('Days Passed')\n",
    "plt.ylabel('Survival Probability')\n",
    "plt.title('KMF_race')"
   ]
  },
  {
   "cell_type": "markdown",
   "metadata": {},
   "source": [
    "#### 3.3 By age group "
   ]
  },
  {
   "cell_type": "code",
   "execution_count": 15,
   "metadata": {},
   "outputs": [
    {
     "data": {
      "image/png": "[encoded data removed]",
      "text/plain": [
       "<Figure size 432x288 with 1 Axes>"
      ]
     },
     "metadata": {
      "needs_background": "light"
     },
     "output_type": "display_data"
    }
   ],
   "source": [
    "kmf_age = KaplanMeierFitter() \n",
    "\n",
    "age_group = df1['age_Group'] \n",
    "\n",
    "le10 = (age_group == '<=10')  \n",
    "_11to20 = (age_group == '11-20')\n",
    "_21to30 = (age_group == '21-30')\n",
    "_31to40 = (age_group == '31-40')\n",
    "_41to50 = (age_group == '41-50')\n",
    "_51to60 = (age_group == '51-60')\n",
    "_61to70 = (age_group == '61-70')\n",
    "_61to70 = (age_group == '71-80')\n",
    "_61to70 = (age_group == '81-90')\n",
    "_61to70 = (age_group == '91-100')\n",
    "\n",
    "kmf_age.fit(T[le10], E[le10], label='<=10')    \n",
    "ax = kmf_age.plot(ci_show=False,ci_legend=True)\n",
    "\n",
    "kmf_age.fit(T[_11to20], E[_11to20], label='_11to20')    \n",
    "ax1 = kmf_age.plot(ci_show=False,ci_legend=True)\n",
    "\n",
    "kmf_age.fit(T[_21to30], E[_21to30], label='_21to30')    \n",
    "ax2 = kmf_age.plot(ax=ax1,ci_show=False,ci_legend=True)\n",
    "\n",
    "kmf_age.fit(T[_31to40], E[_31to40], label='_31to40')    \n",
    "ax3 = kmf_age.plot(ax=ax2,ci_show=False,ci_legend=True)\n",
    "\n",
    "kmf_age.fit(T[_41to50], E[_41to50], label='_41to50')    \n",
    "ax4 = kmf_age.plot(ax=ax3,ci_show=False,ci_legend=True)\n",
    "\n",
    "kmf_age.fit(T[_51to60], E[_51to60], label='_51to60')    \n",
    "ax5 = kmf_age.plot(ax=ax4,ci_show=False,ci_legend=True)\n",
    "\n",
    "kmf_age.fit(T[_61to70], E[_61to70], label='_61to70')    \n",
    "ax6 = kmf_age.plot(ax=ax5,ci_show=False,ci_legend=True)\n",
    "\n",
    "\n",
    "plt.xlabel('Years Passed')\n",
    "plt.ylabel('Survival Probability')\n",
    "plt.title('KMF_ageGroup')\n",
    "legend = plt.legend([ax1, ax2, ax3, ax4, ax5, ax6], ['_11to20','_21to30','_31to40','_41to50','_51to60','_61to70'])"
   ]
  },
  {
   "cell_type": "markdown",
   "metadata": {},
   "source": [
    "## 4. Questions."
   ]
  },
  {
   "cell_type": "code",
   "execution_count": 16,
   "metadata": {},
   "outputs": [
    {
     "name": "stdout",
     "output_type": "stream",
     "text": [
      "4148\n"
     ]
    },
    {
     "data": {
      "text/plain": [
       "Index(['BIRTH_DATE_off', 'DEATH_DATE_off', 'sex', 'age_min_Group',\n",
       "       'age_max_Group', 'race', 'LUNG', 'PANCREAS', 'THYROID', 'COLORECTAL',\n",
       "       'MELANOMA', 'LUNG DT', 'PANCREAS_DT', 'THYROID_DT', 'COLORECTAL_DT',\n",
       "       'MELANOMA_DT', 'check', 'min_DT', 'max_DT', 'dead',\n",
       "       'diagnosis_days_min', 'diagnosis_years_min', 'diagnosis_days_max',\n",
       "       'diagnosis_years_max', 'age_min', 'age_max'],\n",
       "      dtype='object')"
      ]
     },
     "execution_count": 16,
     "metadata": {},
     "output_type": "execute_result"
    }
   ],
   "source": [
    "print(df1.shape[0])\n",
    "df1.columns"
   ]
  },
  {
   "cell_type": "markdown",
   "metadata": {},
   "source": [
    "### 4.1 which cancer has the highest survival for this cohort?"
   ]
  },
  {
   "cell_type": "code",
   "execution_count": 17,
   "metadata": {},
   "outputs": [
    {
     "data": {
      "text/plain": [
       "<matplotlib.axes._subplots.AxesSubplot at 0x11c034a30>"
      ]
     },
     "execution_count": 17,
     "metadata": {},
     "output_type": "execute_result"
    },
    {
     "data": {
      "image/png": "[encoded data removed]",
      "text/plain": [
       "<Figure size 432x288 with 1 Axes>"
      ]
     },
     "metadata": {
      "needs_background": "light"
     },
     "output_type": "display_data"
    }
   ],
   "source": [
    "lung = df1[df1['LUNG'] == 1]\n",
    "pancreas = df1[df1['PANCREAS'] == 1]\n",
    "thyroid = df1[df1['THYROID'] == 1]\n",
    "colorectal = df1[df1['COLORECTAL'] == 1]\n",
    "melanoma = df1[df1['MELANOMA'] == 1]\n",
    "\n",
    "kmf_l = KaplanMeierFitter() \n",
    "kmf_p = KaplanMeierFitter() \n",
    "kmf_t = KaplanMeierFitter() \n",
    "kmf_c = KaplanMeierFitter() \n",
    "kmf_m = KaplanMeierFitter() \n",
    "\n",
    "kmf_l.fit(durations = lung['diagnosis_days_min'], event_observed = lung['dead'], label = 'lung')\n",
    "kmf_p.fit(durations = pancreas['diagnosis_days_min'], event_observed = pancreas['dead'], label = 'pancreas')\n",
    "kmf_t.fit(durations = thyroid['diagnosis_days_min'], event_observed = thyroid['dead'], label = 'thyroid')\n",
    "kmf_c.fit(durations = colorectal['diagnosis_days_min'], event_observed = colorectal['dead'], label = 'colorectal')\n",
    "kmf_m.fit(durations = melanoma['diagnosis_days_min'], event_observed = melanoma['dead'], label = 'melanoma')\n",
    "\n",
    "kmf_l.plot(ci_show=False)\n",
    "kmf_p.plot(ci_show=False)\n",
    "kmf_t.plot(ci_show=False)\n",
    "kmf_c.plot(ci_show=False)\n",
    "kmf_m.plot(ci_show=False)"
   ]
  },
  {
   "cell_type": "code",
   "execution_count": 18,
   "metadata": {},
   "outputs": [
    {
     "name": "stdout",
     "output_type": "stream",
     "text": [
      "thyroid: 0.9547615361309725\n",
      "pancreas: 0.9429699743228026\n"
     ]
    }
   ],
   "source": [
    "print('thyroid:', kmf_t.predict(10000))\n",
    "print('pancreas:', kmf_p.predict(2500))"
   ]
  },
  {
   "cell_type": "code",
   "execution_count": 19,
   "metadata": {},
   "outputs": [
    {
     "name": "stdout",
     "output_type": "stream",
     "text": [
      "Thyroid cancer has the highest survival.\n"
     ]
    }
   ],
   "source": [
    "print('Thyroid cancer has the highest survival.')"
   ]
  },
  {
   "cell_type": "markdown",
   "metadata": {},
   "source": [
    "### 4.2 which cancer has the lowest survival for this cohort?"
   ]
  },
  {
   "cell_type": "code",
   "execution_count": 20,
   "metadata": {},
   "outputs": [
    {
     "name": "stdout",
     "output_type": "stream",
     "text": [
      "Lung cancer has the lowest survival.\n",
      "The lung cancer drop to 0 because the last patient with the longest days survived died rather than censored.\n"
     ]
    }
   ],
   "source": [
    "print('Lung cancer has the lowest survival.')\n",
    "print('The lung cancer drop to 0 because the last patient with the longest days survived died rather than censored.')"
   ]
  },
  {
   "cell_type": "markdown",
   "metadata": {},
   "source": [
    "### 4.3 how many patients had 2 cancer diagnosis?"
   ]
  },
  {
   "cell_type": "code",
   "execution_count": 21,
   "metadata": {},
   "outputs": [
    {
     "name": "stdout",
     "output_type": "stream",
     "text": [
      "29 patients had 2 cancers diagnosis.\n"
     ]
    }
   ],
   "source": [
    "patients_w2cancers = df.loc[(df['check'] == 2)]\n",
    "# 29 patients have 2 cancers \n",
    "print(patients_w2cancers.shape[0], 'patients had 2 cancers diagnosis.')"
   ]
  },
  {
   "cell_type": "markdown",
   "metadata": {},
   "source": [
    "### 4.4 which age group has the lowest survival after 400 days since cancer diagnosis?"
   ]
  },
  {
   "cell_type": "code",
   "execution_count": 22,
   "metadata": {},
   "outputs": [
    {
     "name": "stdout",
     "output_type": "stream",
     "text": [
      "1.0\n",
      "1.0\n",
      "0.9913793103448278\n",
      "0.9914656432748542\n",
      "0.9849376524213672\n",
      "0.9548117476224486\n",
      "0.9517494266087191\n",
      "0.9243922603790926\n",
      "0.9344247786865005\n",
      "0.7916041979010496\n"
     ]
    }
   ],
   "source": [
    "le10 = df1[df1['age_min_Group'] == '<=10']\n",
    "_11to20 = df1[df1['age_min_Group'] == '11-20']\n",
    "_21to30 = df1[df1['age_min_Group'] == '21-30']\n",
    "_31to40 = df1[df1['age_min_Group'] == '31-40']\n",
    "_41to50 = df1[df1['age_min_Group'] == '41-50']\n",
    "_51to60 = df1[df1['age_min_Group'] == '51-60']\n",
    "_61to70 = df1[df1['age_min_Group'] == '61-70']\n",
    "_71to80 = df1[df1['age_min_Group'] == '71-80']\n",
    "_81to90 = df1[df1['age_min_Group'] == '81-90']\n",
    "_91to100 = df1[df1['age_min_Group'] == '91-100']\n",
    "\n",
    "kmf_0 = KaplanMeierFitter() \n",
    "kmf_1 = KaplanMeierFitter() \n",
    "kmf_2 = KaplanMeierFitter() \n",
    "kmf_3 = KaplanMeierFitter() \n",
    "kmf_4 = KaplanMeierFitter() \n",
    "kmf_5 = KaplanMeierFitter() \n",
    "kmf_6 = KaplanMeierFitter() \n",
    "kmf_7 = KaplanMeierFitter() \n",
    "kmf_8 = KaplanMeierFitter() \n",
    "kmf_9 = KaplanMeierFitter() \n",
    "\n",
    "kmf_0.fit(durations = le10['diagnosis_days_min'], event_observed = le10['dead'], label = 'le10')\n",
    "kmf_1.fit(durations = _11to20['diagnosis_days_min'], event_observed = _11to20['dead'], label = '_11to20')\n",
    "kmf_2.fit(durations = _21to30['diagnosis_days_min'], event_observed = _21to30['dead'], label = '_21to30')\n",
    "kmf_3.fit(durations = _31to40['diagnosis_days_min'], event_observed = _31to40['dead'], label = '_31to40')\n",
    "kmf_4.fit(durations = _41to50['diagnosis_days_min'], event_observed = _41to50['dead'], label = '_41to50')\n",
    "kmf_5.fit(durations = _51to60['diagnosis_days_min'], event_observed = _51to60['dead'], label = '_51to60')\n",
    "kmf_6.fit(durations = _61to70['diagnosis_days_min'], event_observed = _61to70['dead'], label = '_61to70')\n",
    "kmf_7.fit(durations = _71to80['diagnosis_days_min'], event_observed = _71to80['dead'], label = '_71to80')\n",
    "kmf_8.fit(durations = _81to90['diagnosis_days_min'], event_observed = _81to90['dead'], label = '_81to90')\n",
    "kmf_9.fit(durations = _91to100['diagnosis_days_min'], event_observed = _91to100['dead'], label = '_91to100')\n",
    "\n",
    "print(kmf_0.predict(400))\n",
    "print(kmf_1.predict(400))\n",
    "print(kmf_2.predict(400))\n",
    "print(kmf_3.predict(400))\n",
    "print(kmf_4.predict(400))\n",
    "print(kmf_5.predict(400))\n",
    "print(kmf_6.predict(400))\n",
    "print(kmf_7.predict(400))\n",
    "print(kmf_8.predict(400))\n",
    "print(kmf_9.predict(400))"
   ]
  },
  {
   "cell_type": "code",
   "execution_count": 277,
   "metadata": {},
   "outputs": [
    {
     "name": "stdout",
     "output_type": "stream",
     "text": [
      "91-100 age group has the lowest survival after 400 days since cancer diagnosis.\n"
     ]
    }
   ],
   "source": [
    "print('91-100 age group has the lowest survival after 400 days since cancer diagnosis.')"
   ]
  },
  {
   "cell_type": "markdown",
   "metadata": {},
   "source": [
    "### 4.5 what is the survival rate for females with colorectal cancer after 1000 days since diagnosis?"
   ]
  },
  {
   "cell_type": "code",
   "execution_count": 23,
   "metadata": {},
   "outputs": [
    {
     "name": "stdout",
     "output_type": "stream",
     "text": [
      "live num: 398\n",
      "dead num: 25\n",
      "final df: 423\n",
      "The survival rate is: 0.9484362597817692\n"
     ]
    }
   ],
   "source": [
    "df_f_c = df1[(df1['sex'] == 'Female') & (df1['COLORECTAL'] == 1)]\n",
    "\n",
    "df_f_c_live = df_f_c.loc[df_f_c['dead'] == 0]\n",
    "print('live num:', df_f_c_live.shape[0])\n",
    "df_f_c_dead = df_f_c.loc[df_f_c['dead'] == 1]\n",
    "print('dead num:', df_f_c_dead.shape[0])\n",
    "\n",
    "df_f_c_live['diagnosis_days_c'] = (datetime(2016,8,25) - df_f_c_live['COLORECTAL_DT']).astype('timedelta64[D]')\n",
    "df_f_c_dead['diagnosis_days_c'] = (df_f_c_dead['DEATH_DATE_off'] - df_f_c_dead['COLORECTAL_DT']).astype('timedelta64[D]')\n",
    "\n",
    "df_f_co = pd.concat([df_f_c_live,df_f_c_dead])\n",
    "print('final df:',df_f_co.shape[0])\n",
    "\n",
    "kmf_f_co = KaplanMeierFitter()  \n",
    "\n",
    "kmf_f_co.fit(durations = df_f_co['diagnosis_days_c'], event_observed = df_f_co['dead'], label = 'f_colorectal')\n",
    "\n",
    "print('The survival rate is:',kmf_f_co.predict(1000))"
   ]
  },
  {
   "cell_type": "markdown",
   "metadata": {},
   "source": [
    "### 4.6 what is the survival rate for males with lung cancer after 300 days since diagnosis?"
   ]
  },
  {
   "cell_type": "code",
   "execution_count": 24,
   "metadata": {},
   "outputs": [
    {
     "name": "stdout",
     "output_type": "stream",
     "text": [
      "live num: 623\n",
      "dead num: 95\n",
      "final df: 718\n",
      "The survival rate is: 0.9149880203162795\n"
     ]
    }
   ],
   "source": [
    "df_m_l = df1[(df1['sex'] == 'Male') & (df1['LUNG'] == 1)]\n",
    "\n",
    "df_m_l_live = df_m_l.loc[df_m_l['dead'] == 0]\n",
    "print('live num:', df_m_l_live.shape[0])\n",
    "df_m_l_dead = df_m_l.loc[df_m_l['dead'] == 1]\n",
    "print('dead num:', df_m_l_dead.shape[0])\n",
    "\n",
    "df_m_l_live['diagnosis_days_l'] = (datetime(2016,8,25) - df_m_l_live['LUNG DT']).astype('timedelta64[D]')\n",
    "df_m_l_dead['diagnosis_days_l'] = (df_m_l_dead['DEATH_DATE_off'] - df_m_l_dead['LUNG DT']).astype('timedelta64[D]')\n",
    "\n",
    "df_m_lu = pd.concat([df_m_l_live,df_m_l_dead])\n",
    "print('final df:',df_m_lu.shape[0])\n",
    "\n",
    "kmf_m_lu = KaplanMeierFitter()  \n",
    "\n",
    "kmf_m_lu.fit(durations = df_m_lu['diagnosis_days_l'], event_observed = df_m_lu['dead'], label = 'm_lung')\n",
    "\n",
    "print('The survival rate is:',kmf_m_lu.predict(300))"
   ]
  },
  {
   "cell_type": "markdown",
   "metadata": {},
   "source": [
    "### 4.7 what is the survival rate for females with melanoma cancer after 1200 days since diagnosis?"
   ]
  },
  {
   "cell_type": "code",
   "execution_count": 25,
   "metadata": {},
   "outputs": [
    {
     "name": "stdout",
     "output_type": "stream",
     "text": [
      "live num: 152\n",
      "dead num: 8\n",
      "final df: 160\n",
      "The survival rate is: 0.9587861344911673\n"
     ]
    }
   ],
   "source": [
    "df_f_m = df1[(df1['sex'] == 'Female') & (df1['MELANOMA'] == 1)]\n",
    "\n",
    "df_f_m_live = df_f_m.loc[df_f_m['dead'] == 0]\n",
    "print('live num:', df_f_m_live.shape[0])\n",
    "df_f_m_dead = df_f_m.loc[df_f_m['dead'] == 1]\n",
    "print('dead num:', df_f_m_dead.shape[0])\n",
    "\n",
    "df_f_m_live['diagnosis_days_m'] = (datetime(2016,8,25) - df_f_m_live['MELANOMA_DT']).astype('timedelta64[D]')\n",
    "df_f_m_dead['diagnosis_days_m'] = (df_f_m_dead['DEATH_DATE_off'] - df_f_m_dead['MELANOMA_DT']).astype('timedelta64[D]')\n",
    "\n",
    "df_f_me = pd.concat([df_f_m_live,df_f_m_dead])\n",
    "print('final df:',df_f_me.shape[0])\n",
    "\n",
    "kmf_f_me = KaplanMeierFitter()  \n",
    "\n",
    "kmf_f_me.fit(durations = df_f_me['diagnosis_days_m'], event_observed = df_f_me['dead'], label = 'f_melanoma')\n",
    "\n",
    "print('The survival rate is:',kmf_f_me.predict(1200))"
   ]
  },
  {
   "cell_type": "markdown",
   "metadata": {},
   "source": [
    "### 4.8 what is the survival rate for males with thyroid cancer after 1500 days since diagnosis?"
   ]
  },
  {
   "cell_type": "code",
   "execution_count": 26,
   "metadata": {},
   "outputs": [
    {
     "name": "stdout",
     "output_type": "stream",
     "text": [
      "live num: 200\n",
      "dead num: 5\n",
      "final df: 205\n",
      "The survival rate is: 0.9723197357959752\n"
     ]
    }
   ],
   "source": [
    "df_m_t = df1[(df1['sex'] == 'Male') & (df1['THYROID'] == 1)]\n",
    "\n",
    "df_m_t_live = df_m_t.loc[df_m_t['dead'] == 0]\n",
    "print('live num:', df_m_t_live.shape[0])\n",
    "df_m_t_dead = df_m_t.loc[df_m_t['dead'] == 1]\n",
    "print('dead num:', df_m_t_dead.shape[0])\n",
    "\n",
    "df_m_t_live['diagnosis_days_t'] = (datetime(2016,8,25) - df_m_t_live['THYROID_DT']).astype('timedelta64[D]')\n",
    "df_m_t_dead['diagnosis_days_t'] = (df_m_t_dead['DEATH_DATE_off'] - df_m_t_dead['THYROID_DT']).astype('timedelta64[D]')\n",
    "\n",
    "df_m_th = pd.concat([df_m_t_live,df_m_t_dead])\n",
    "print('final df:',df_m_th.shape[0])\n",
    "\n",
    "kmf_m_th = KaplanMeierFitter()  \n",
    "\n",
    "kmf_m_th.fit(durations = df_m_th['diagnosis_days_t'], event_observed = df_m_th['dead'], label = 'm_thyroid')\n",
    "\n",
    "print('The survival rate is:',kmf_m_th.predict(1500))"
   ]
  },
  {
   "cell_type": "markdown",
   "metadata": {},
   "source": [
    "### 4.9 what is the survival rate for males with pancreatic cancer after 2200 days since diagnosis?"
   ]
  },
  {
   "cell_type": "code",
   "execution_count": 27,
   "metadata": {},
   "outputs": [
    {
     "name": "stdout",
     "output_type": "stream",
     "text": [
      "live num: 326\n",
      "dead num: 14\n",
      "final df: 340\n",
      "The survival rate is: 0.9526692572895107\n"
     ]
    }
   ],
   "source": [
    "df_m_p = df1[(df1['sex'] == 'Male') & (df1['PANCREAS'] == 1)]\n",
    "\n",
    "df_m_p_live = df_m_p.loc[df_m_p['dead'] == 0]\n",
    "print('live num:', df_m_p_live.shape[0])\n",
    "df_m_p_dead = df_m_p.loc[df_m_p['dead'] == 1]\n",
    "print('dead num:', df_m_p_dead.shape[0])\n",
    "\n",
    "df_m_p_live['diagnosis_days_p'] = (datetime(2016,8,25) - df_m_p_live['PANCREAS_DT']).astype('timedelta64[D]')\n",
    "df_m_p_dead['diagnosis_days_p'] = (df_m_p_dead['DEATH_DATE_off'] - df_m_p_dead['PANCREAS_DT']).astype('timedelta64[D]')\n",
    "\n",
    "df_m_pa = pd.concat([df_m_p_live,df_m_p_dead])\n",
    "print('final df:',df_m_pa.shape[0])\n",
    "\n",
    "kmf_m_pa = KaplanMeierFitter()  \n",
    "\n",
    "kmf_m_pa.fit(durations = df_m_pa['diagnosis_days_p'], event_observed = df_m_pa['dead'], label = 'm_pancreas')\n",
    "\n",
    "print('The survival rate is:',kmf_m_pa.predict(2200))"
   ]
  },
  {
   "cell_type": "markdown",
   "metadata": {},
   "source": [
    "### 4.10 what is the survival rate for African-Americans with colorectal cancer after 2000 days since diagnosis?"
   ]
  },
  {
   "cell_type": "code",
   "execution_count": 28,
   "metadata": {},
   "outputs": [
    {
     "name": "stdout",
     "output_type": "stream",
     "text": [
      "live num: 233\n",
      "dead num: 30\n",
      "final df: 263\n",
      "The survival rate is: 0.7706150842786863\n"
     ]
    }
   ],
   "source": [
    "African_American = df1[(df1['race'] == 'African-American') & df1['COLORECTAL'] == 1]\n",
    "\n",
    "df_aa_c_live = African_American.loc[African_American['dead'] == 0]\n",
    "print('live num:', df_aa_c_live.shape[0])\n",
    "df_aa_c_dead = African_American.loc[African_American['dead'] == 1]\n",
    "print('dead num:', df_aa_c_dead.shape[0])\n",
    "\n",
    "df_aa_c_live['diagnosis_days_c'] = (datetime(2016,8,25) - df_aa_c_live['COLORECTAL_DT']).astype('timedelta64[D]')\n",
    "df_aa_c_dead['diagnosis_days_c'] = (df_aa_c_dead['DEATH_DATE_off'] - df_aa_c_dead['COLORECTAL_DT']).astype('timedelta64[D]')\n",
    "\n",
    "df_aa_co = pd.concat([df_aa_c_live,df_aa_c_dead])\n",
    "print('final df:',df_aa_co.shape[0])\n",
    "\n",
    "kmf_aa_co = KaplanMeierFitter()  \n",
    "\n",
    "kmf_aa_co.fit(durations = df_aa_co['diagnosis_days_c'], event_observed = df_aa_co['dead'], label = 'African_American')\n",
    "\n",
    "print('The survival rate is:',kmf_aa_co.predict(2000))"
   ]
  },
  {
   "cell_type": "markdown",
   "metadata": {},
   "source": [
    "### 4.11 what is the survival rate for Whites with lung cancer after 1000 days since diagnosis?"
   ]
  },
  {
   "cell_type": "code",
   "execution_count": 29,
   "metadata": {},
   "outputs": [
    {
     "name": "stdout",
     "output_type": "stream",
     "text": [
      "live num: 828\n",
      "dead num: 82\n",
      "final df: 910\n",
      "The survival rate is: 0.9092859116518297\n"
     ]
    }
   ],
   "source": [
    "White = df1[(df1['race'] == 'White') & df1['LUNG'] == 1]\n",
    "\n",
    "df_w_l_live = White.loc[White['dead'] == 0]\n",
    "print('live num:', df_w_l_live.shape[0])\n",
    "df_w_l_dead = White.loc[White['dead'] == 1]\n",
    "print('dead num:', df_w_l_dead.shape[0])\n",
    "\n",
    "df_w_l_live['diagnosis_days_l'] = (datetime(2016,8,25) - df_w_l_live['LUNG DT']).astype('timedelta64[D]')\n",
    "df_w_l_dead['diagnosis_days_l'] = (df_w_l_dead['DEATH_DATE_off'] - df_w_l_dead['LUNG DT']).astype('timedelta64[D]')\n",
    "\n",
    "df_w_lu = pd.concat([df_w_l_live,df_w_l_dead])\n",
    "print('final df:',df_w_lu.shape[0])\n",
    "\n",
    "kmf_w_lu = KaplanMeierFitter()  \n",
    "\n",
    "kmf_w_lu.fit(durations = df_w_lu['diagnosis_days_l'], event_observed = df_w_lu['dead'], label = 'White')\n",
    "\n",
    "print('The survival rate is:',kmf_w_lu.predict(1000))"
   ]
  },
  {
   "cell_type": "markdown",
   "metadata": {},
   "source": [
    "### 4.12 what is the survival rate for African-Americans with melanoma cancer after 2 years since diagnosis?"
   ]
  },
  {
   "cell_type": "code",
   "execution_count": 30,
   "metadata": {},
   "outputs": [
    {
     "name": "stdout",
     "output_type": "stream",
     "text": [
      "live num: 12\n",
      "dead num: 2\n",
      "final df: 14\n",
      "The survival rate is: 0.8253968253968252\n"
     ]
    }
   ],
   "source": [
    "African_American_m = df1[(df1['race'] == 'African-American') & df1['MELANOMA'] == 1]\n",
    "\n",
    "df_aa_m_live = African_American_m.loc[African_American_m['dead'] == 0]\n",
    "print('live num:', df_aa_m_live.shape[0])\n",
    "df_aa_m_dead = African_American_m.loc[African_American_m['dead'] == 1]\n",
    "print('dead num:', df_aa_m_dead.shape[0])\n",
    "\n",
    "df_aa_m_live['diagnosis_days_m'] = (datetime(2016,8,25) - df_aa_m_live['MELANOMA_DT']).astype('timedelta64[D]')\n",
    "df_aa_m_dead['diagnosis_days_m'] = (df_aa_m_dead['DEATH_DATE_off'] - df_aa_m_dead['MELANOMA_DT']).astype('timedelta64[D]')\n",
    "\n",
    "df_aa_me = pd.concat([df_aa_m_live,df_aa_m_dead])\n",
    "print('final df:',df_aa_me.shape[0])\n",
    "\n",
    "kmf_aa_me = KaplanMeierFitter()  \n",
    "\n",
    "kmf_aa_me.fit(durations = df_aa_me['diagnosis_days_m'], event_observed = df_aa_me['dead'], label = 'African_American_m')\n",
    "\n",
    "print('The survival rate is:',kmf_aa_me.predict(730))"
   ]
  },
  {
   "cell_type": "markdown",
   "metadata": {},
   "source": [
    "### 4.13 what is the survival rate for Whites with pancreatic cancer after 3 years since diagnosis?"
   ]
  },
  {
   "cell_type": "code",
   "execution_count": 31,
   "metadata": {},
   "outputs": [
    {
     "name": "stdout",
     "output_type": "stream",
     "text": [
      "live num: 431\n",
      "dead num: 13\n",
      "final df: 444\n",
      "The survival rate is: 0.9653081799604994\n"
     ]
    }
   ],
   "source": [
    "White_p = df1[(df1['race'] == 'White') & df1['PANCREAS'] == 1]\n",
    "\n",
    "df_w_p_live = White_p.loc[White_p['dead'] == 0]\n",
    "print('live num:', df_w_p_live.shape[0])\n",
    "df_w_p_dead = White_p.loc[White_p['dead'] == 1]\n",
    "print('dead num:', df_w_p_dead.shape[0])\n",
    "\n",
    "df_w_p_live['diagnosis_days_p'] = (datetime(2016,8,25) - df_w_p_live['PANCREAS_DT']).astype('timedelta64[D]')\n",
    "df_w_p_dead['diagnosis_days_p'] = (df_w_p_dead['DEATH_DATE_off'] - df_w_p_dead['PANCREAS_DT']).astype('timedelta64[D]')\n",
    "\n",
    "df_w_pa = pd.concat([df_w_p_live,df_w_p_dead])\n",
    "print('final df:',df_w_pa.shape[0])\n",
    "\n",
    "kmf_w_pa = KaplanMeierFitter()  \n",
    "\n",
    "kmf_w_pa.fit(durations = df_w_pa['diagnosis_days_p'], event_observed = df_w_pa['dead'], label = 'White_p')\n",
    "\n",
    "print('The survival rate is:',kmf_w_pa.predict(1095))"
   ]
  },
  {
   "cell_type": "code",
   "execution_count": 32,
   "metadata": {},
   "outputs": [
    {
     "name": "stdout",
     "output_type": "stream",
     "text": [
      "The survival rate is: 0.9653763529000424\n"
     ]
    }
   ],
   "source": [
    "kmf_m_papapa = KaplanMeierFitter()  \n",
    "\n",
    "kmf_m_papapa.fit(durations = White_p['diagnosis_days_min'], event_observed = White_p['dead'], label = 'm_pancreas')\n",
    "\n",
    "print('The survival rate is:',kmf_m_papapa.predict(1095))"
   ]
  },
  {
   "cell_type": "markdown",
   "metadata": {},
   "source": [
    "### 4.14 what is the survival rate for Asians with thyroid cancer after 1500 days since diagnosis?"
   ]
  },
  {
   "cell_type": "code",
   "execution_count": 33,
   "metadata": {},
   "outputs": [
    {
     "name": "stdout",
     "output_type": "stream",
     "text": [
      "live num: 36\n",
      "dead num: 1\n",
      "final df: 37\n",
      "The survival rate is: 0.9285714285714287\n"
     ]
    }
   ],
   "source": [
    "Asian_Mideast_Indian_t = df1[(df1['race'] == 'Asian/Mideast-Indian') & (df1['THYROID']==1)]\n",
    "\n",
    "df_am_t_live = Asian_Mideast_Indian_t.loc[Asian_Mideast_Indian_t['dead'] == 0]\n",
    "print('live num:', df_am_t_live.shape[0])\n",
    "df_am_t_dead = Asian_Mideast_Indian_t.loc[Asian_Mideast_Indian_t['dead'] == 1]\n",
    "print('dead num:', df_am_t_dead.shape[0])\n",
    "\n",
    "df_am_t_live['diagnosis_days_t'] = (datetime(2016,8,25) - df_am_t_live['THYROID_DT']).astype('timedelta64[D]')\n",
    "df_am_t_dead['diagnosis_days_t'] = (df_am_t_dead['DEATH_DATE_off'] - df_am_t_dead['THYROID_DT']).astype('timedelta64[D]')\n",
    "\n",
    "df_am_th = pd.concat([df_am_t_live,df_am_t_dead])\n",
    "print('final df:',df_am_th.shape[0])\n",
    "\n",
    "kmf_am_th = KaplanMeierFitter()  \n",
    "\n",
    "kmf_am_th.fit(durations = df_am_th['diagnosis_days_t'], event_observed = df_am_th['dead'], label = 'Asian/Mideast-Indian_t')\n",
    "\n",
    "print('The survival rate is:',kmf_am_th.predict(1500))"
   ]
  },
  {
   "cell_type": "markdown",
   "metadata": {},
   "source": [
    "### 4.15 which age group has the lowest survival for colorectal cancer at the end of the study?"
   ]
  },
  {
   "cell_type": "code",
   "execution_count": 34,
   "metadata": {},
   "outputs": [
    {
     "name": "stdout",
     "output_type": "stream",
     "text": [
      "1.0\n"
     ]
    },
    {
     "data": {
      "image/png": "[encoded data removed]",
      "text/plain": [
       "<Figure size 432x288 with 1 Axes>"
      ]
     },
     "metadata": {
      "needs_background": "light"
     },
     "output_type": "display_data"
    }
   ],
   "source": [
    "#le10 = df1[(df1['age_min_Group'] == '<=10') & (df1['COLORECTAL']==1)]\n",
    "_11to20 = df1[(df1['age_min_Group'] == '11-20') & (df1['COLORECTAL']==1)]\n",
    "_21to30 = df1[(df1['age_min_Group'] == '21-30') & (df1['COLORECTAL']==1)]\n",
    "_31to40 = df1[(df1['age_min_Group'] == '31-40') & (df1['COLORECTAL']==1)]\n",
    "_41to50 = df1[(df1['age_min_Group'] == '41-50') & (df1['COLORECTAL']==1)]\n",
    "_51to60 = df1[(df1['age_min_Group'] == '51-60') & (df1['COLORECTAL']==1)]\n",
    "_61to70 = df1[(df1['age_min_Group'] == '61-70') & (df1['COLORECTAL']==1)]\n",
    "_71to80 = df1[(df1['age_min_Group'] == '71-80') & (df1['COLORECTAL']==1)]\n",
    "_81to90 = df1[(df1['age_min_Group'] == '81-90') & (df1['COLORECTAL']==1)]\n",
    "_91to100 = df1[(df1['age_min_Group'] == '91-100') & (df1['COLORECTAL']==1)]\n",
    "\n",
    "#kmf_0 = KaplanMeierFitter() \n",
    "kmf_1 = KaplanMeierFitter() \n",
    "kmf_2 = KaplanMeierFitter() \n",
    "kmf_3 = KaplanMeierFitter() \n",
    "kmf_4 = KaplanMeierFitter() \n",
    "kmf_5 = KaplanMeierFitter() \n",
    "kmf_6 = KaplanMeierFitter() \n",
    "kmf_7 = KaplanMeierFitter() \n",
    "kmf_8 = KaplanMeierFitter() \n",
    "kmf_9 = KaplanMeierFitter() \n",
    "\n",
    "#kmf_0.fit(durations = le10['diagnosis_days_min'], event_observed = le10['dead'], label = 'le10')\n",
    "kmf_1.fit(durations = _11to20['diagnosis_days_min'], event_observed = _11to20['dead'], label = '_11to20')\n",
    "kmf_2.fit(durations = _21to30['diagnosis_days_min'], event_observed = _21to30['dead'], label = '_21to30')\n",
    "kmf_3.fit(durations = _31to40['diagnosis_days_min'], event_observed = _31to40['dead'], label = '_31to40')\n",
    "kmf_4.fit(durations = _41to50['diagnosis_days_min'], event_observed = _41to50['dead'], label = '_41to50')\n",
    "kmf_5.fit(durations = _51to60['diagnosis_days_min'], event_observed = _51to60['dead'], label = '_51to60')\n",
    "kmf_6.fit(durations = _61to70['diagnosis_days_min'], event_observed = _61to70['dead'], label = '_61to70')\n",
    "kmf_7.fit(durations = _71to80['diagnosis_days_min'], event_observed = _71to80['dead'], label = '_71to80')\n",
    "kmf_8.fit(durations = _81to90['diagnosis_days_min'], event_observed = _81to90['dead'], label = '_81to90')\n",
    "kmf_9.fit(durations = _91to100['diagnosis_days_min'], event_observed = _91to100['dead'], label = '_91to100')\n",
    "\n",
    "kmf_1.plot(ci_show=False)\n",
    "kmf_2.plot(ci_show=False)\n",
    "kmf_3.plot(ci_show=False)\n",
    "kmf_4.plot(ci_show=False)\n",
    "kmf_5.plot(ci_show=False)\n",
    "kmf_6.plot(ci_show=False)\n",
    "kmf_7.plot(ci_show=False)\n",
    "kmf_8.plot(ci_show=False)\n",
    "kmf_9.plot(ci_show=False)\n",
    "\n",
    "print(kmf_1.predict(5100))"
   ]
  },
  {
   "cell_type": "code",
   "execution_count": 35,
   "metadata": {},
   "outputs": [
    {
     "name": "stdout",
     "output_type": "stream",
     "text": [
      "0.0\n",
      "Thus, 51-60 age group has the lowest survival for colorectal cancer at the end of the study.\n"
     ]
    }
   ],
   "source": [
    "print(kmf_5.predict(5100))\n",
    "print('Thus, 51-60 age group has the lowest survival for colorectal cancer at the end of the study.')"
   ]
  },
  {
   "cell_type": "markdown",
   "metadata": {},
   "source": [
    "### 4.16 which age group has the highest survival for lung cancer at the end of the study?"
   ]
  },
  {
   "cell_type": "code",
   "execution_count": 36,
   "metadata": {},
   "outputs": [
    {
     "data": {
      "text/plain": [
       "<matplotlib.axes._subplots.AxesSubplot at 0x11be25220>"
      ]
     },
     "execution_count": 36,
     "metadata": {},
     "output_type": "execute_result"
    },
    {
     "data": {
      "image/png": "[encoded data removed]",
      "text/plain": [
       "<Figure size 432x288 with 1 Axes>"
      ]
     },
     "metadata": {
      "needs_background": "light"
     },
     "output_type": "display_data"
    }
   ],
   "source": [
    "le10 = df1[(df1['age_min_Group'] == '<=10') & (df1['LUNG']==1)]\n",
    "_11to20 = df1[(df1['age_min_Group'] == '11-20') & (df1['LUNG']==1)]\n",
    "_21to30 = df1[(df1['age_min_Group'] == '21-30') & (df1['LUNG']==1)]\n",
    "_31to40 = df1[(df1['age_min_Group'] == '31-40') & (df1['LUNG']==1)]\n",
    "_41to50 = df1[(df1['age_min_Group'] == '41-50') & (df1['LUNG']==1)]\n",
    "_51to60 = df1[(df1['age_min_Group'] == '51-60') & (df1['LUNG']==1)]\n",
    "_61to70 = df1[(df1['age_min_Group'] == '61-70') & (df1['LUNG']==1)]\n",
    "_71to80 = df1[(df1['age_min_Group'] == '71-80') & (df1['LUNG']==1)]\n",
    "_81to90 = df1[(df1['age_min_Group'] == '81-90') & (df1['LUNG']==1)]\n",
    "_91to100 = df1[(df1['age_min_Group'] == '91-100') & (df1['LUNG']==1)]\n",
    "\n",
    "kmf_0 = KaplanMeierFitter() \n",
    "kmf_1 = KaplanMeierFitter() \n",
    "kmf_2 = KaplanMeierFitter() \n",
    "kmf_3 = KaplanMeierFitter() \n",
    "kmf_4 = KaplanMeierFitter() \n",
    "kmf_5 = KaplanMeierFitter() \n",
    "kmf_6 = KaplanMeierFitter() \n",
    "kmf_7 = KaplanMeierFitter() \n",
    "kmf_8 = KaplanMeierFitter() \n",
    "kmf_9 = KaplanMeierFitter() \n",
    "\n",
    "kmf_0.fit(durations = le10['diagnosis_days_min'], event_observed = le10['dead'], label = 'le10')\n",
    "kmf_1.fit(durations = _11to20['diagnosis_days_min'], event_observed = _11to20['dead'], label = '_11to20')\n",
    "kmf_2.fit(durations = _21to30['diagnosis_days_min'], event_observed = _21to30['dead'], label = '_21to30')\n",
    "kmf_3.fit(durations = _31to40['diagnosis_days_min'], event_observed = _31to40['dead'], label = '_31to40')\n",
    "kmf_4.fit(durations = _41to50['diagnosis_days_min'], event_observed = _41to50['dead'], label = '_41to50')\n",
    "kmf_5.fit(durations = _51to60['diagnosis_days_min'], event_observed = _51to60['dead'], label = '_51to60')\n",
    "kmf_6.fit(durations = _61to70['diagnosis_days_min'], event_observed = _61to70['dead'], label = '_61to70')\n",
    "kmf_7.fit(durations = _71to80['diagnosis_days_min'], event_observed = _71to80['dead'], label = '_71to80')\n",
    "kmf_8.fit(durations = _81to90['diagnosis_days_min'], event_observed = _81to90['dead'], label = '_81to90')\n",
    "kmf_9.fit(durations = _91to100['diagnosis_days_min'], event_observed = _91to100['dead'], label = '_91to100')\n",
    "\n",
    "kmf_0.plot(ci_show=False)\n",
    "kmf_1.plot(ci_show=False)\n",
    "kmf_2.plot(ci_show=False)\n",
    "kmf_3.plot(ci_show=False)\n",
    "kmf_4.plot(ci_show=False)\n",
    "kmf_5.plot(ci_show=False)\n",
    "kmf_6.plot(ci_show=False)\n",
    "kmf_7.plot(ci_show=False)\n",
    "kmf_8.plot(ci_show=False)\n",
    "kmf_9.plot(ci_show=False)\n"
   ]
  },
  {
   "cell_type": "code",
   "execution_count": 37,
   "metadata": {},
   "outputs": [
    {
     "name": "stdout",
     "output_type": "stream",
     "text": [
      "1.0\n",
      "1.0\n",
      "0.6666666666666666\n",
      "0.9090909090909092\n",
      "0.9669829222011375\n",
      "0.862822970070568\n",
      "0.8621221267877462\n",
      "0.8660199676609087\n",
      "0.8858811704582938\n",
      "0.509090909090909\n"
     ]
    }
   ],
   "source": [
    "print(kmf_0.predict(1100))\n",
    "print(kmf_1.predict(1100))\n",
    "print(kmf_2.predict(1100))\n",
    "print(kmf_3.predict(1100))\n",
    "print(kmf_4.predict(1100))\n",
    "print(kmf_5.predict(1100))\n",
    "print(kmf_6.predict(1100))\n",
    "print(kmf_7.predict(1100))\n",
    "print(kmf_8.predict(1100))\n",
    "print(kmf_9.predict(1100))"
   ]
  },
  {
   "cell_type": "code",
   "execution_count": 38,
   "metadata": {},
   "outputs": [
    {
     "name": "stdout",
     "output_type": "stream",
     "text": [
      "Thus, <10 and 10-20 age group has the highest survival for lung cancer at the end of the study.\n"
     ]
    }
   ],
   "source": [
    "print('Thus, <10 and 10-20 age group has the highest survival for lung cancer at the end of the study.')"
   ]
  },
  {
   "cell_type": "markdown",
   "metadata": {},
   "source": [
    "### 4.17 what is the survival rate for 61-70 age group with melanoma cancer after 5 years since diagnosis? "
   ]
  },
  {
   "cell_type": "code",
   "execution_count": 39,
   "metadata": {},
   "outputs": [
    {
     "name": "stdout",
     "output_type": "stream",
     "text": [
      "live num: 72\n",
      "dead num: 2\n",
      "final df: 74\n",
      "0.9717628075837025\n"
     ]
    }
   ],
   "source": [
    "_61to70 = df1[(df1['age_min_Group'] == '61-70') & (df1['MELANOMA']==1)]\n",
    "\n",
    "df_61to70_live = _61to70.loc[_61to70['dead'] == 0]\n",
    "print('live num:', df_61to70_live.shape[0])\n",
    "df_61to70_dead = _61to70.loc[_61to70['dead'] == 1]\n",
    "print('dead num:', df_61to70_dead.shape[0])\n",
    "\n",
    "df_61to70_live['diagnosis_days_m'] = (datetime(2016,8,25) - df_61to70_live['MELANOMA_DT']).astype('timedelta64[D]')\n",
    "df_61to70_dead['diagnosis_days_m'] = (df_61to70_dead['DEATH_DATE_off'] - df_61to70_dead['MELANOMA_DT']).astype('timedelta64[D]')\n",
    "\n",
    "df_61to70_me = pd.concat([df_61to70_live,df_61to70_dead])\n",
    "print('final df:',df_61to70_me.shape[0])\n",
    "\n",
    "kmf_6 = KaplanMeierFitter() \n",
    "\n",
    "kmf_6.fit(durations = df_61to70_me['diagnosis_days_m'], event_observed = df_61to70_me['dead'], label = '_61to70')\n",
    "\n",
    "print(kmf_6.predict(1825))"
   ]
  },
  {
   "cell_type": "markdown",
   "metadata": {},
   "source": [
    "### 4.18 what is the survival rate for 21 - 30 age group with pancreatic cancer after a year since diagnosis?"
   ]
  },
  {
   "cell_type": "code",
   "execution_count": 40,
   "metadata": {},
   "outputs": [
    {
     "name": "stdout",
     "output_type": "stream",
     "text": [
      "live num: 4\n",
      "dead num: 1\n",
      "final df: 5\n",
      "0.8\n"
     ]
    }
   ],
   "source": [
    "_21to30 = df1[(df1['age_min_Group'] == '21-30') & (df1['PANCREAS']==1)]\n",
    "\n",
    "df_21to30_live = _21to30.loc[_21to30['dead'] == 0]\n",
    "print('live num:', df_21to30_live.shape[0])\n",
    "df_21to30_dead = _21to30.loc[_21to30['dead'] == 1]\n",
    "print('dead num:', df_21to30_dead.shape[0])\n",
    "\n",
    "df_21to30_live['diagnosis_days_p'] = (datetime(2016,8,25) - df_21to30_live['PANCREAS_DT']).astype('timedelta64[D]')\n",
    "df_21to30_dead['diagnosis_days_p'] = (df_21to30_dead['DEATH_DATE_off'] - df_21to30_dead['PANCREAS_DT']).astype('timedelta64[D]')\n",
    "\n",
    "df_21to30_pa = pd.concat([df_21to30_live,df_21to30_dead])\n",
    "print('final df:',df_21to30_pa.shape[0]) \n",
    "\n",
    "kmf_21to30_pa = KaplanMeierFitter() \n",
    "\n",
    "kmf_21to30_pa.fit(durations = df_21to30_pa['diagnosis_days_p'], event_observed = df_21to30_pa['dead'], label = '21to30_pa')\n",
    "\n",
    "print(kmf_21to30_pa.predict(365))\n"
   ]
  },
  {
   "cell_type": "markdown",
   "metadata": {},
   "source": [
    "### 4.19 what is the survival rate for 51-60 age group with thyroid cancer after 2200 days since diagnosis?"
   ]
  },
  {
   "cell_type": "code",
   "execution_count": 41,
   "metadata": {},
   "outputs": [
    {
     "name": "stdout",
     "output_type": "stream",
     "text": [
      "live num: 158\n",
      "dead num: 2\n",
      "final df: 160\n",
      "0.9736842105263158\n"
     ]
    }
   ],
   "source": [
    "_51to60 = df1[(df1['age_min_Group'] == '51-60') & (df1['THYROID']==1)]\n",
    "\n",
    "df_51to60_live = _51to60.loc[_51to60['dead'] == 0]\n",
    "print('live num:', df_51to60_live.shape[0])\n",
    "df_51to60_dead = _51to60.loc[_51to60['dead'] == 1]\n",
    "print('dead num:', df_51to60_dead.shape[0])\n",
    "\n",
    "df_51to60_live['diagnosis_days_t'] = (datetime(2016,8,25) - df_51to60_live['THYROID_DT']).astype('timedelta64[D]')\n",
    "df_51to60_dead['diagnosis_days_t'] = (df_51to60_dead['DEATH_DATE_off'] - df_51to60_dead['THYROID_DT']).astype('timedelta64[D]')\n",
    "\n",
    "df_51to60_th = pd.concat([df_51to60_live,df_51to60_dead])\n",
    "print('final df:',df_51to60_th.shape[0]) \n",
    "\n",
    "kmf_51to60_th = KaplanMeierFitter() \n",
    "\n",
    "kmf_51to60_th.fit(durations = df_51to60_th['diagnosis_days_t'], event_observed = df_51to60_th['dead'], label = '51to60_th')\n",
    "\n",
    "print(kmf_51to60_th.predict(2200))\n"
   ]
  },
  {
   "cell_type": "markdown",
   "metadata": {},
   "source": [
    "### 4.20 which race has the high survival for all cancers after 2500 days since diagnosis?"
   ]
  },
  {
   "cell_type": "code",
   "execution_count": 42,
   "metadata": {},
   "outputs": [
    {
     "name": "stdout",
     "output_type": "stream",
     "text": [
      "0.926329054287702\n",
      "0.7417672337041542\n",
      "0.923486855555039\n",
      "0.9236054744999834\n"
     ]
    }
   ],
   "source": [
    "White = df1[df1['race'] == 'White']\n",
    "African_American = df1[df1['race'] == 'African-American']\n",
    "Asian_Mideast_Indian = df1[df1['race'] == 'Asian/Mideast-Indian']\n",
    "Others = df1[df1['race'] == 'Others']\n",
    "\n",
    "kmf_White = KaplanMeierFitter() \n",
    "kmf_African_American = KaplanMeierFitter() \n",
    "kmf_Asian_Mideast_Indian = KaplanMeierFitter() \n",
    "kmf_Others = KaplanMeierFitter()  \n",
    "\n",
    "kmf_White.fit(durations = White['diagnosis_days_min'], event_observed = White['dead'], label = 'White')\n",
    "kmf_African_American.fit(durations = African_American['diagnosis_days_min'], event_observed = African_American['dead'], label = 'African_American')\n",
    "kmf_Asian_Mideast_Indian.fit(durations = Asian_Mideast_Indian['diagnosis_days_min'], event_observed = Asian_Mideast_Indian['dead'], label = 'Asian_Mideast_Indian')\n",
    "kmf_Others.fit(durations = Others['diagnosis_days_min'], event_observed = Others['dead'], label = 'Others')\n",
    "\n",
    "print(kmf_White.predict(2500))\n",
    "print(kmf_African_American.predict(2500))\n",
    "print(kmf_Asian_Mideast_Indian.predict(2500))\n",
    "print(kmf_Others.predict(2500))\n"
   ]
  },
  {
   "cell_type": "code",
   "execution_count": 43,
   "metadata": {},
   "outputs": [
    {
     "name": "stdout",
     "output_type": "stream",
     "text": [
      "White race has the high survival for all cancers after 2500 days.\n"
     ]
    }
   ],
   "source": [
    "print('White race has the high survival for all cancers after 2500 days.')"
   ]
  },
  {
   "cell_type": "code",
   "execution_count": null,
   "metadata": {},
   "outputs": [],
   "source": []
  }
 ],
 "metadata": {
  "kernelspec": {
   "display_name": "Python 3",
   "language": "python",
   "name": "python3"
  },
  "language_info": {
   "codemirror_mode": {
    "name": "ipython",
    "version": 3
   },
   "file_extension": ".py",
   "mimetype": "text/x-python",
   "name": "python",
   "nbconvert_exporter": "python",
   "pygments_lexer": "ipython3",
   "version": "3.8.3"
  }
 },
 "nbformat": 4,
 "nbformat_minor": 4
}

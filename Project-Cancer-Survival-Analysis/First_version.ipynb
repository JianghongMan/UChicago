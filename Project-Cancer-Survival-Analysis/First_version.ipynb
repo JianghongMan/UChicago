{
 "cells": [
  {
   "cell_type": "code",
   "execution_count": 1,
   "metadata": {},
   "outputs": [],
   "source": [
    "import pandas as pd\n",
    "import seaborn as sns\n",
    "import numpy as np\n",
    "import matplotlib.pyplot as plt\n",
    "import matplotlib as matplot\n",
    "\n",
    "import re\n",
    "import sklearn\n",
    "import warnings\n",
    "warnings.filterwarnings(\"ignore\")\n",
    "%matplotlib inline\n",
    "\n",
    "from datetime import datetime\n",
    "from lifelines import KaplanMeierFitter\n",
    "from lifelines.plotting import plot_lifetimes \n",
    "from lifelines import CoxPHFitter"
   ]
  },
  {
   "cell_type": "code",
   "execution_count": 2,
   "metadata": {},
   "outputs": [
    {
     "data": {
      "text/plain": [
       "(8468, 14)"
      ]
     },
     "execution_count": 2,
     "metadata": {},
     "output_type": "execute_result"
    }
   ],
   "source": [
    "df = pd.read_excel('Cancer patient data.xlsx')\n",
    "df.shape"
   ]
  },
  {
   "cell_type": "code",
   "execution_count": null,
   "metadata": {},
   "outputs": [],
   "source": [
    "# drop the -360 \n",
    "\n",
    "df.drop(df[df['diagnosis_days_min'] < 0].index, inplace = True)\n",
    "df.shape"
   ]
  },
  {
   "cell_type": "code",
   "execution_count": null,
   "metadata": {},
   "outputs": [],
   "source": [
    "# live & dead\n",
    "\n",
    "live = df.loc[df['dead'] == 0]\n",
    "print('live num:', live.shape[0])\n",
    "dead = df.loc[df['dead'] == 1]\n",
    "print('dead num:', dead.shape[0])\n",
    "\n",
    "live['diagnosis_days_min'] = (datetime(2016,8,25) - live['min_DT']).astype('timedelta64[D]')\n",
    "live['diagnosis_years_min'] = (datetime(2016,8,25) - live['min_DT']).astype('timedelta64[Y]')\n",
    "live['diagnosis_days_max'] = (datetime(2016,8,25) - live['max_DT']).astype('timedelta64[D]')\n",
    "live['diagnosis_years_max'] = (datetime(2016,8,25) - live['max_DT']).astype('timedelta64[Y]')\n",
    "\n",
    "dead['diagnosis_days_min'] = (dead['DEATH_DATE_off'] - dead['min_DT']).astype('timedelta64[D]')\n",
    "dead['diagnosis_years_min'] = (dead['DEATH_DATE_off'] - dead['min_DT']).astype('timedelta64[Y]')\n",
    "dead['diagnosis_days_max'] = (dead['DEATH_DATE_off'] - dead['max_DT']).astype('timedelta64[D]')\n",
    "dead['diagnosis_years_max'] = (dead['DEATH_DATE_off'] - dead['max_DT']).astype('timedelta64[Y]')\n",
    "\n",
    "df = pd.concat([live,dead])\n",
    "print('final df:',df.shape[0])"
   ]
  },
  {
   "cell_type": "code",
   "execution_count": null,
   "metadata": {},
   "outputs": [],
   "source": [
    "# preparation \n",
    "durations = df1['diagnosis_days_min'] \n",
    "event_observed = df1['dead']\n",
    "\n",
    "km = KaplanMeierFitter()\n",
    "km.fit(durations, event_observed,label='Kaplan Meier Estimate')\n",
    "km.plot()"
   ]
  },
  {
   "cell_type": "code",
   "execution_count": null,
   "metadata": {},
   "outputs": [],
   "source": [
    "# by gender \n",
    "kmf_m = KaplanMeierFitter()\n",
    "kmf_f = KaplanMeierFitter()\n",
    "kmf_m.fit(durations = Male['diagnosis_days'], event_observed = Male['dead'], label = 'Male')\n",
    "kmf_f.fit(durations = Female['diagnosis_days'], event_observed = Female['dead'], label = 'Female')\n",
    "kmf_m.plot()\n",
    "kmf_f.plot()"
   ]
  },
  {
   "cell_type": "code",
   "execution_count": null,
   "metadata": {},
   "outputs": [],
   "source": [
    "#kmf_m.event_table\n",
    "#kmf_f.event_table\n",
    "#kmf_m.survival_function_\n",
    "#kmf_f.survival_function_"
   ]
  },
  {
   "cell_type": "code",
   "execution_count": null,
   "metadata": {},
   "outputs": [],
   "source": [
    "# cumulative density\n",
    "df_cd = kmf_m.cumulative_density_.merge(kmf_f.cumulative_density_,how='left', on='timeline')\n",
    "print(df_cd.head())\n",
    "\n",
    "# plot cumulative density for gender groups \n",
    "kmf_m.plot_cumulative_density()\n",
    "kmf_f.plot_cumulative_density()\n",
    "plt.title('Cumulative Density for Gender')\n",
    "plt.xlabel('Number of days')\n",
    "plt.ylabel('Probability')"
   ]
  },
  {
   "cell_type": "code",
   "execution_count": null,
   "metadata": {},
   "outputs": [],
   "source": [
    "# cox\n",
    "df2 = df1.loc[:,['sex','age_Group','race','dead','diagnosis_days','diagnosis_years']]\n",
    "df2.info()\n",
    "\n",
    "df_dummy = pd.get_dummies(df2, drop_first=True)\n",
    "df_dummy.head()\n",
    "\n",
    "# Using Cox Proportional Hazards model\n",
    "cph = CoxPHFitter()   ## Instantiate the class to create a cph object\n",
    "cph.fit(df_dummy, 'diagnosis_years', event_col='dead')   ## Fit the data to train the model\n",
    "cph.print_summary()\n",
    "\n",
    "cph.plot()"
   ]
  },
  {
   "cell_type": "code",
   "execution_count": null,
   "metadata": {},
   "outputs": [],
   "source": [
    "# manually calculate: considering different senarios\n",
    "df_age = df1.copy()\n",
    "df_age['diagnosis_days_a'] = (datetime(2016,8,25) - df_age['min_DT']).astype('timedelta64[D]')\n",
    "df_age['dead_duration_a'] = (df_age['DEATH_DATE_off'] - df_age['min_DT']).astype('timedelta64[D]')\n",
    "# 3851\n",
    "df_age_live = df_age.loc[df_age['dead'] == 0]\n",
    "print('live from:', df_age_live.shape[0])\n",
    "# 297 -- 190\n",
    "df_age_dead = df_age.loc[df_age['dead'] == 1]\n",
    "print('dead from:', df_age_dead.shape[0])\n",
    "mask = (df_age_dead['dead_duration_a'] > 400)\n",
    "df_age_dead['dead'][mask] = 0\n",
    "\n",
    "df_age_newdead = df_age_dead.loc[df_age_dead['dead'] == 1]\n",
    "print('dead to:', df_age_newdead.shape[0])\n",
    "\n",
    "# 3393\n",
    "df_age_live = df_age_live.loc[df_age_live['diagnosis_days_a'] >= 400]\n",
    "print('live to:', df_age_live.shape[0])\n",
    "\n",
    "# 3690\n",
    "final_df_age = pd.concat([df_age_live,df_age_dead])\n",
    "print('final age group > 400 days from:',df1.shape[0],'to:',final_df_age.shape[0])"
   ]
  },
  {
   "cell_type": "code",
   "execution_count": null,
   "metadata": {},
   "outputs": [],
   "source": [
    "T = final_df_age['diagnosis_days_min']     \n",
    "E = final_df_age['dead']\n",
    "\n",
    "age_group = final_df_age['age_min_Group']            \n",
    "le10 = (age_group == '<=10')  \n",
    "_11to20 = (age_group == '11-20')\n",
    "_21to30 = (age_group == '21-30')\n",
    "_31to40 = (age_group == '31-40')\n",
    "_41to50 = (age_group == '41-50')\n",
    "_51to60 = (age_group == '51-60')\n",
    "_61to70 = (age_group == '61-70')\n",
    "_71to80 = (age_group == '71-80')\n",
    "_81to90 = (age_group == '81-90')\n",
    "\n",
    "\n",
    "kmf_age = KaplanMeierFitter() \n",
    "kmf_age.fit(T[le10], E[le10], label='<=10')\n",
    "\n",
    "kmf_age_sf = kmf_age.survival_function_\n",
    "kmf_age_sf.reset_index(inplace = True)\n",
    "print(kmf_age_sf[kmf_age_sf['timeline'] >= 400].head(1))\n",
    "\n",
    "#kmf_age = KaplanMeierFitter() \n",
    "kmf_age.fit(T[_11to20], E[_11to20], label='_11to20')\n",
    "\n",
    "kmf_age_sf = kmf_age.survival_function_\n",
    "kmf_age_sf.reset_index(inplace = True)\n",
    "print(kmf_age_sf[kmf_age_sf['timeline'] >= 400].head(1))\n",
    "\n",
    "#kmf_age = KaplanMeierFitter() \n",
    "kmf_age.fit(T[_21to30], E[_21to30], label='_21to30')  \n",
    "\n",
    "kmf_age_sf = kmf_age.survival_function_\n",
    "kmf_age_sf.reset_index(inplace = True)\n",
    "print(kmf_age_sf[kmf_age_sf['timeline'] >= 400].head(1))\n",
    "\n",
    "#kmf_age = KaplanMeierFitter() \n",
    "kmf_age.fit(T[_31to40], E[_31to40], label='_31to40')  \n",
    "\n",
    "kmf_age_sf = kmf_age.survival_function_\n",
    "kmf_age_sf.reset_index(inplace = True)\n",
    "print(kmf_age_sf[kmf_age_sf['timeline'] >= 400].head(1))\n",
    "\n",
    "#kmf_age = KaplanMeierFitter() \n",
    "kmf_age.fit(T[_41to50], E[_41to50], label='_41to50')  \n",
    "\n",
    "kmf_age_sf = kmf_age.survival_function_\n",
    "kmf_age_sf.reset_index(inplace = True)\n",
    "print(kmf_age_sf[kmf_age_sf['timeline'] >= 400].head(1))\n",
    "\n",
    "#kmf_age = KaplanMeierFitter() \n",
    "kmf_age.fit(T[_51to60], E[_51to60], label='_51to60')   \n",
    "\n",
    "kmf_age_sf = kmf_age.survival_function_\n",
    "kmf_age_sf.reset_index(inplace = True)\n",
    "print(kmf_age_sf[kmf_age_sf['timeline'] >= 400].head(1))\n",
    "\n",
    "#kmf_age = KaplanMeierFitter() \n",
    "kmf_age.fit(T[_61to70], E[_61to70], label='_61to70') \n",
    "\n",
    "kmf_age_sf = kmf_age.survival_function_\n",
    "kmf_age_sf.reset_index(inplace = True)\n",
    "print(kmf_age_sf[kmf_age_sf['timeline'] >= 400].head(1))\n",
    "\n",
    "#kmf_age = KaplanMeierFitter() \n",
    "kmf_age.fit(T[_71to80], E[_71to80], label='_71to80') \n",
    "\n",
    "kmf_age_sf = kmf_age.survival_function_\n",
    "kmf_age_sf.reset_index(inplace = True)\n",
    "print(kmf_age_sf[kmf_age_sf['timeline'] >= 400].head(1))\n",
    "\n",
    "#kmf_age = KaplanMeierFitter() \n",
    "kmf_age.fit(T[_81to90], E[_81to90], label='_81to90') \n",
    "\n",
    "kmf_age_sf = kmf_age.survival_function_\n",
    "kmf_age_sf.reset_index(inplace = True)\n",
    "print(kmf_age_sf[kmf_age_sf['timeline'] >= 400].head(1))\n",
    "\n",
    "print('Thus, 81-90 age group has the lowest survival after 400 days since cancer diagnosis.')"
   ]
  }
 ],
 "metadata": {
  "kernelspec": {
   "display_name": "Python 3",
   "language": "python",
   "name": "python3"
  },
  "language_info": {
   "codemirror_mode": {
    "name": "ipython",
    "version": 3
   },
   "file_extension": ".py",
   "mimetype": "text/x-python",
   "name": "python",
   "nbconvert_exporter": "python",
   "pygments_lexer": "ipython3",
   "version": "3.8.3"
  }
 },
 "nbformat": 4,
 "nbformat_minor": 4
}

{
 "cells": [
  {
   "cell_type": "code",
   "execution_count": 288,
   "metadata": {},
   "outputs": [],
   "source": [
    "import pandas as pd\n",
    "import seaborn as sns\n",
    "import numpy as np\n",
    "import matplotlib.pyplot as plt\n",
    "import matplotlib as matplot\n",
    "import datetime\n",
    "from datetime import datetime\n",
    "import re\n",
    "import sklearn\n",
    "import warnings\n",
    "warnings.filterwarnings(\"ignore\")\n",
    "%matplotlib inline\n",
    "\n",
    "from sklearn.impute import SimpleImputer"
   ]
  },
  {
   "cell_type": "markdown",
   "metadata": {},
   "source": [
    "## Clean the data"
   ]
  },
  {
   "cell_type": "code",
   "execution_count": 459,
   "metadata": {},
   "outputs": [],
   "source": [
    "# 400,000\n",
    "train = pd.read_csv('Data for Cleaning & Modeling.csv')\n",
    "train.isna().sum()\n",
    "# 80,000\n",
    "test = pd.read_csv('Holdout for Testing.csv')"
   ]
  },
  {
   "cell_type": "markdown",
   "metadata": {},
   "source": [
    "#### X1: choose to drop the missing rows (15.25%) instead of replacing with mean + change to numeric  "
   ]
  },
  {
   "cell_type": "code",
   "execution_count": 460,
   "metadata": {},
   "outputs": [],
   "source": [
    "train = train.dropna(subset=['X1'])\n",
    "# drop one row missing any value \n",
    "train.dropna(subset=['X4'], inplace=True)\n",
    "# to numeric \n",
    "train['X1'] = pd.to_numeric(train['X1'].str.replace('%', '')) / 100\n",
    "\n",
    "test.drop(['X1'], axis=1, inplace=True)"
   ]
  },
  {
   "cell_type": "markdown",
   "metadata": {},
   "source": [
    "#### X2, X3: drop: unique identifiers, not useful"
   ]
  },
  {
   "cell_type": "code",
   "execution_count": 461,
   "metadata": {},
   "outputs": [],
   "source": [
    "train.drop(['X2', 'X3'], axis=1, inplace=True)\n",
    "\n",
    "test.drop(['X2', 'X3'], axis=1, inplace=True)"
   ]
  },
  {
   "cell_type": "markdown",
   "metadata": {},
   "source": [
    "#### X4: keep + numeric , X5: numeric + should be changed to ['X4'] - ['X5'] to indicate the amount difference "
   ]
  },
  {
   "cell_type": "code",
   "execution_count": 520,
   "metadata": {},
   "outputs": [],
   "source": [
    "train[['X4','X5']] = train[['X4','X5']].replace('[\\$,]','', regex=True).astype(float)\n",
    "train['X5'] = train['X4'] - train['X5']\n",
    "\n",
    "test[['X4','X5']] = test[['X4','X5']].replace('[\\$,]','', regex=True).astype(float)\n",
    "test['X5'] = test['X4'] - train['X5']\n",
    "test['X5'].fillna((test['X5'].mean()), inplace=True)"
   ]
  },
  {
   "cell_type": "markdown",
   "metadata": {},
   "source": [
    "#### X6: to numeric "
   ]
  },
  {
   "cell_type": "code",
   "execution_count": 463,
   "metadata": {},
   "outputs": [],
   "source": [
    "train[['X6']] = train[['X6']].replace('[\\$,]','', regex=True).astype(float)\n",
    "\n",
    "test[['X6']] = test[['X6']].replace('[\\$,]','', regex=True).astype(float)"
   ]
  },
  {
   "cell_type": "markdown",
   "metadata": {},
   "source": [
    "#### X7: to dummy instead of keeping it numerical "
   ]
  },
  {
   "cell_type": "code",
   "execution_count": 464,
   "metadata": {},
   "outputs": [],
   "source": [
    "NumPayments_Dummies_train = pd.get_dummies(train['X7'],drop_first = True)\n",
    "train = train.join(NumPayments_Dummies_train)\n",
    "train = train.drop(['X7'], axis=1)\n",
    "\n",
    "NumPayments_Dummies_test = pd.get_dummies(test['X7'],drop_first = True)\n",
    "test = test.join(NumPayments_Dummies_test)\n",
    "test = test.drop(['X7'], axis=1)"
   ]
  },
  {
   "cell_type": "markdown",
   "metadata": {},
   "source": [
    "#### X8: drop: more meaningful data in X9, may cause overfitting "
   ]
  },
  {
   "cell_type": "code",
   "execution_count": 465,
   "metadata": {},
   "outputs": [],
   "source": [
    "train.drop(['X8'], axis=1, inplace=True)\n",
    "\n",
    "test.drop(['X8'], axis=1, inplace=True)"
   ]
  },
  {
   "cell_type": "markdown",
   "metadata": {},
   "source": [
    "#### X9: to number: for rank purpose. eg: A2 = 2, B1 = 6 + fillna with median"
   ]
  },
  {
   "cell_type": "code",
   "execution_count": 466,
   "metadata": {},
   "outputs": [],
   "source": [
    "train['X9'] = train['X9'].rank(method = 'dense')\n",
    "train['X9'].fillna((train['X9'].median()), inplace=True)\n",
    "\n",
    "test['X9'] = test['X9'].rank(method = 'dense')\n",
    "test['X9'].fillna((test['X9'].median()), inplace=True)"
   ]
  },
  {
   "cell_type": "markdown",
   "metadata": {},
   "source": [
    "#### X11: fill na with mean + to numeric \n",
    "* for Customers with work experience less than 1 year who have also missing values for X10 were converted to 0.\n",
    "* for Customers with work experience less than 1 year who have values for X10 were converted to 1.\n",
    "* for Customers with work experience more than 10 years were converted to 15 years of experiance as an average."
   ]
  },
  {
   "cell_type": "code",
   "execution_count": 467,
   "metadata": {},
   "outputs": [],
   "source": [
    "train.loc[(train['X10'].isnull())&(train['X11'].str.contains('< 1').astype('bool')),'X11'] = '0'\n",
    "train.loc[(train['X10'].notnull())&(train['X11'].str.contains('< 1').astype('bool')),'X11'] = '1'\n",
    "train['X11'] = train['X11'].replace('[,years]'or '[,year]','', regex=True ).replace( '10\\+','15', regex=True)\n",
    "pd.to_numeric(train['X11'])\n",
    "train['X11'] = train['X11'].astype(int) \n",
    "train['X11'].fillna((train['X11'].mean()), inplace=True)\n",
    "\n",
    "test.loc[(test['X10'].isnull())&(test['X11'].str.contains('< 1').astype('bool')),'X11'] = '0'\n",
    "test.loc[(test['X10'].notnull())&(test['X11'].str.contains('< 1').astype('bool')),'X11'] = '1'\n",
    "test['X11'] = test['X11'].replace('[,years]'or '[,year]','', regex=True ).replace( '10\\+','15', regex=True)\n",
    "test['X11'] = test['X11'].astype(int) \n",
    "test['X11'].fillna((test['X11'].mean()), inplace=True)"
   ]
  },
  {
   "cell_type": "markdown",
   "metadata": {},
   "source": [
    "#### X10: drop: too many (187822) unique values"
   ]
  },
  {
   "cell_type": "code",
   "execution_count": 468,
   "metadata": {},
   "outputs": [],
   "source": [
    "train.drop(['X10'], axis=1, inplace=True)\n",
    "\n",
    "test.drop(['X10'], axis=1, inplace=True)"
   ]
  },
  {
   "cell_type": "markdown",
   "metadata": {},
   "source": [
    "#### X12: fill na with mode + to dummy "
   ]
  },
  {
   "cell_type": "code",
   "execution_count": 469,
   "metadata": {},
   "outputs": [],
   "source": [
    "train['X12'].fillna((train['X12'].mode()), inplace=True)\n",
    "OwnershipStatus_Dummies_train = pd.get_dummies(train['X12'],drop_first = True)\n",
    "train = train.join(OwnershipStatus_Dummies_train)\n",
    "train = train.drop(['X12'], axis=1)\n",
    "\n",
    "OwnershipStatus_Dummies_test = pd.get_dummies(test['X12'],drop_first = True)\n",
    "test = test.join(OwnershipStatus_Dummies_test)\n",
    "test = test.drop(['X12'], axis=1)"
   ]
  },
  {
   "cell_type": "markdown",
   "metadata": {},
   "source": [
    "#### X13: fill na with mean + to numeric "
   ]
  },
  {
   "cell_type": "code",
   "execution_count": 470,
   "metadata": {},
   "outputs": [],
   "source": [
    "train['X13'].fillna((train['X13'].mean()), inplace=True)\n",
    "train['X13'] = train['X13'].astype(int)\n",
    "\n",
    "test['X13'].fillna((test['X13'].mean()), inplace=True)\n",
    "test['X13'] = test['X13'].astype(int)"
   ]
  },
  {
   "cell_type": "markdown",
   "metadata": {},
   "source": [
    "#### X14: to dummy "
   ]
  },
  {
   "cell_type": "code",
   "execution_count": 471,
   "metadata": {},
   "outputs": [],
   "source": [
    "IncomeStatus_Dummies_train = pd.get_dummies(train['X14'],drop_first = True)\n",
    "train = train.join(IncomeStatus_Dummies_train)\n",
    "train = train.drop(['X14'], axis=1)\n",
    "\n",
    "IncomeStatus_Dummies_test = pd.get_dummies(test['X14'],drop_first = True)\n",
    "test = test.join(IncomeStatus_Dummies_test)\n",
    "test = test.drop(['X14'], axis=1)"
   ]
  },
  {
   "cell_type": "markdown",
   "metadata": {},
   "source": [
    "#### X15: categorized to 4 quarters + to dummy"
   ]
  },
  {
   "cell_type": "code",
   "execution_count": 472,
   "metadata": {},
   "outputs": [],
   "source": [
    "train['X15'] = pd.to_datetime(train['X15'], format='%b-%d')\n",
    "train['X15'] = train['X15'].dt.quarter\n",
    "train['X15'].replace(1, 'first quarter', inplace=True)\n",
    "train['X15'].replace(2, 'second quarter', inplace=True)\n",
    "train['X15'].replace(3, 'third quarter', inplace=True)\n",
    "train['X15'].replace(4, 'forth quarter', inplace=True)\n",
    "IssueDate_Dummies_train = pd.get_dummies(train['X15'],drop_first = True)\n",
    "train = train.join(IssueDate_Dummies_train)\n",
    "train = train.drop(['X15'], axis=1)\n",
    "\n",
    "test['X15'] =  pd.to_datetime(test['X15'], format='%d-%b')\n",
    "test['X15'] = test['X15'].dt.quarter\n",
    "test['X15'].replace(1, 'first quarter', inplace=True)\n",
    "test['X15'].replace(2, 'second quarter', inplace=True)\n",
    "test['X15'].replace(3, 'third quarter', inplace=True)\n",
    "test['X15'].replace(4, 'forth quarter', inplace=True)\n",
    "IssueDate_Dummies_test = pd.get_dummies(test['X15'],drop_first = True)\n",
    "test = test.join(IssueDate_Dummies_test)\n",
    "test = test.drop(['X15'], axis=1)"
   ]
  },
  {
   "cell_type": "markdown",
   "metadata": {},
   "source": [
    "#### X16: drop: not useful"
   ]
  },
  {
   "cell_type": "code",
   "execution_count": 473,
   "metadata": {},
   "outputs": [],
   "source": [
    "train.drop(['X16'], axis=1, inplace=True)\n",
    "\n",
    "test.drop(['X16'], axis=1, inplace=True)"
   ]
  },
  {
   "cell_type": "markdown",
   "metadata": {},
   "source": [
    "#### X17: to dummy "
   ]
  },
  {
   "cell_type": "code",
   "execution_count": 474,
   "metadata": {},
   "outputs": [],
   "source": [
    "LoanCategory_Dummies_train = pd.get_dummies(train['X17'],drop_first = True)\n",
    "train = train.join(LoanCategory_Dummies_train)\n",
    "train = train.drop(['X17'], axis=1)\n",
    "\n",
    "LoanCategory_Dummies_test = pd.get_dummies(test['X17'],drop_first = True)\n",
    "test = test.join(LoanCategory_Dummies_test)\n",
    "test = test.drop(['X17'], axis=1)"
   ]
  },
  {
   "cell_type": "markdown",
   "metadata": {},
   "source": [
    "#### X18: drop: too many (61630) unique variables, hard to creat dummy"
   ]
  },
  {
   "cell_type": "code",
   "execution_count": 475,
   "metadata": {},
   "outputs": [],
   "source": [
    "train.drop(['X18'], axis=1, inplace=True)\n",
    "\n",
    "test.drop(['X18'], axis=1, inplace=True)"
   ]
  },
  {
   "cell_type": "markdown",
   "metadata": {},
   "source": [
    "#### X19: drop: duplicated data from X20, may cause overfitting "
   ]
  },
  {
   "cell_type": "code",
   "execution_count": 476,
   "metadata": {},
   "outputs": [],
   "source": [
    "train.drop(['X19'], axis=1, inplace=True)\n",
    "\n",
    "test.drop(['X19'], axis=1, inplace=True)"
   ]
  },
  {
   "cell_type": "markdown",
   "metadata": {},
   "source": [
    "#### X20: to dummy "
   ]
  },
  {
   "cell_type": "code",
   "execution_count": 477,
   "metadata": {},
   "outputs": [],
   "source": [
    "State_Dummies_train = pd.get_dummies(train['X20'],drop_first = True)\n",
    "train = train.join(State_Dummies_train)\n",
    "train = train.drop(['X20'], axis=1)\n",
    "\n",
    "State_Dummies_test = pd.get_dummies(test['X20'],drop_first = True)\n",
    "test = test.join(State_Dummies_test)\n",
    "test = test.drop(['X20'], axis=1)"
   ]
  },
  {
   "cell_type": "markdown",
   "metadata": {},
   "source": [
    "#### X21: to ratio"
   ]
  },
  {
   "cell_type": "code",
   "execution_count": 478,
   "metadata": {},
   "outputs": [],
   "source": [
    "train['X21'] = train['X21'] / 100 \n",
    "\n",
    "test['X21'] = test['X21'] / 100 "
   ]
  },
  {
   "cell_type": "markdown",
   "metadata": {},
   "source": [
    "#### X22: to numeric"
   ]
  },
  {
   "cell_type": "code",
   "execution_count": 479,
   "metadata": {},
   "outputs": [],
   "source": [
    "train['X22'] = train['X22'].astype(int) \n",
    "\n",
    "test['X22'] = test['X22'].astype(int) "
   ]
  },
  {
   "cell_type": "markdown",
   "metadata": {},
   "source": [
    "#### X23: substract from the most recent credit line which were opened among all the borrowers to denote the relative duration of borrowers having credit lines"
   ]
  },
  {
   "cell_type": "code",
   "execution_count": 480,
   "metadata": {},
   "outputs": [],
   "source": [
    "def DT(s,flist):\n",
    "    for f in flist:\n",
    "        try:\n",
    "            return datetime.strptime(s,f)\n",
    "        except ValueError:\n",
    "            pass"
   ]
  },
  {
   "cell_type": "code",
   "execution_count": 481,
   "metadata": {},
   "outputs": [],
   "source": [
    "train['X23'] =  train['X23'].apply(lambda x: datetime.strptime(str(x),'%b-%y'))\n",
    "train['X23'] = train['X23'].map(lambda dt: dt.replace(year=2001) if dt.year==1900 else dt.replace(year=dt.year))\n",
    "train['X23'] = train['X23'].map(lambda dt: dt.replace(year=dt.year-100) if dt.year>2020 else dt.replace(year=dt.year))\n",
    "Most_Recent_Date = train['X23'].max()\n",
    "Days_CreditLine = Most_Recent_Date - train['X23']\n",
    "train['X23'] = Days_CreditLine.dt.days.astype(float)"
   ]
  },
  {
   "cell_type": "code",
   "execution_count": 482,
   "metadata": {},
   "outputs": [],
   "source": [
    "Flist = ['%b-%y','%d-%b']\n",
    "test['X23'] =  test['X23'].apply(lambda x: DT(str(x),Flist))\n",
    "test['X23'] = test['X23'].map(lambda dt: dt.replace(year=2001) if dt.year==1900 else dt.replace(year=dt.year))\n",
    "test['X23'] = test['X23'].map(lambda dt: dt.replace(year=dt.year-100) if dt.year>2020 else dt.replace(year=dt.year))\n",
    "Days_CreditLine = test['X23'].max() - test['X23']\n",
    "test['X23'] = Days_CreditLine.dt.days.astype(float)"
   ]
  },
  {
   "cell_type": "markdown",
   "metadata": {},
   "source": [
    "#### X24: to numeric"
   ]
  },
  {
   "cell_type": "code",
   "execution_count": 483,
   "metadata": {},
   "outputs": [],
   "source": [
    "train['X24'] = train['X24'].astype(int) \n",
    "\n",
    "test['X24'] = test['X24'].astype(int) "
   ]
  },
  {
   "cell_type": "markdown",
   "metadata": {},
   "source": [
    "#### X25: replace with mean instead of dropping (54.7% missing in train)"
   ]
  },
  {
   "cell_type": "code",
   "execution_count": 484,
   "metadata": {},
   "outputs": [],
   "source": [
    "train['X25'].fillna((train['X25'].mean()), inplace=True)\n",
    "\n",
    "test['X25'].fillna((test['X25'].mean()), inplace=True)"
   ]
  },
  {
   "cell_type": "markdown",
   "metadata": {},
   "source": [
    "#### X26: drop: too many missing (87.21% missing in train)"
   ]
  },
  {
   "cell_type": "code",
   "execution_count": 485,
   "metadata": {},
   "outputs": [],
   "source": [
    "train.drop(['X26'], axis=1, inplace=True)\n",
    "\n",
    "test.drop(['X26'], axis=1, inplace=True)"
   ]
  },
  {
   "cell_type": "markdown",
   "metadata": {},
   "source": [
    "#### X27, X28, X29: to numeric"
   ]
  },
  {
   "cell_type": "code",
   "execution_count": 486,
   "metadata": {},
   "outputs": [],
   "source": [
    "train['X27'] = train['X27'].astype(int) \n",
    "train['X28'] = train['X28'].astype(int) \n",
    "train['X29'] = train['X29'].astype(int) \n",
    "\n",
    "test['X27'] = test['X27'].astype(int) \n",
    "test['X28'] = test['X28'].astype(int) \n",
    "test['X29'] = test['X29'].astype(int) "
   ]
  },
  {
   "cell_type": "markdown",
   "metadata": {},
   "source": [
    "#### X30: to numeric + fill missing value with mean "
   ]
  },
  {
   "cell_type": "code",
   "execution_count": 487,
   "metadata": {},
   "outputs": [],
   "source": [
    "train['X30'] = pd.to_numeric(train['X30'].str.replace('%', '')) / 100\n",
    "train['X30'].fillna((train['X30'].mean()), inplace=True)\n",
    "\n",
    "test['X30'] = pd.to_numeric(test['X30'].str.replace('%', '')) / 100\n",
    "test['X30'].fillna((test['X30'].mean()), inplace=True)"
   ]
  },
  {
   "cell_type": "markdown",
   "metadata": {},
   "source": [
    "#### X31: to numeric"
   ]
  },
  {
   "cell_type": "code",
   "execution_count": 488,
   "metadata": {},
   "outputs": [],
   "source": [
    "train['X31'] = train['X31'].astype(int)\n",
    "\n",
    "test['X31'] = test['X31'].astype(int)"
   ]
  },
  {
   "cell_type": "markdown",
   "metadata": {},
   "source": [
    "#### X32: to dummy "
   ]
  },
  {
   "cell_type": "code",
   "execution_count": 489,
   "metadata": {},
   "outputs": [],
   "source": [
    "InitialListingStatus_Dummies_train = pd.get_dummies(train['X32'],drop_first = True)\n",
    "train = train.join(InitialListingStatus_Dummies_train)\n",
    "train = train.drop(['X32'], axis=1)\n",
    "\n",
    "InitialListingStatus_Dummies_test = pd.get_dummies(test['X32'],drop_first = True)\n",
    "test = test.join(InitialListingStatus_Dummies_test)\n",
    "test = test.drop(['X32'], axis=1)"
   ]
  },
  {
   "cell_type": "code",
   "execution_count": 490,
   "metadata": {},
   "outputs": [],
   "source": [
    "# rearrange the training data \n",
    "cols = list(train.columns)\n",
    "cols = cols[1:]+[cols[0]]\n",
    "train = train[cols]"
   ]
  },
  {
   "cell_type": "markdown",
   "metadata": {},
   "source": [
    "## Build + Test the model"
   ]
  },
  {
   "cell_type": "code",
   "execution_count": 508,
   "metadata": {},
   "outputs": [],
   "source": [
    "from sklearn.model_selection import train_test_split\n",
    "from sklearn.metrics import mean_squared_error as MSE\n",
    "from sklearn.model_selection import cross_val_score\n",
    "from sklearn.metrics import classification_report\n",
    "import sklearn.model_selection as cv\n",
    "from sklearn.metrics import mean_squared_error\n",
    "\n",
    "from sklearn.linear_model import LinearRegression\n",
    "from sklearn.ensemble import RandomForestRegressor\n",
    "from sklearn.ensemble import VotingClassifier\n",
    "from sklearn.ensemble import GradientBoostingRegressor\n",
    "from sklearn.svm import SVC, LinearSVC\n",
    "import xgboost as xgb\n",
    "from xgboost import XGBClassifier\n",
    "from xgboost import plot_importance"
   ]
  },
  {
   "cell_type": "code",
   "execution_count": 491,
   "metadata": {},
   "outputs": [],
   "source": [
    "cols = list(train.columns.values) \n",
    "cols.pop(cols.index('X1')) \n",
    "X = train[cols] \n",
    "y = train[\"X1\"]\n",
    "\n",
    "#X_train, X_test, y_train, y_test = train_test_split(X, y, test_size=0.33, random_state=42)\n",
    "\n",
    "X_train, X_test, y_train, y_test = cv.train_test_split(X, y, test_size=.33, random_state=42)\n",
    "\n",
    "# keep test.shape == X_train.shape\n",
    "test.insert(17, 'MORTGAGE ', 0)\n",
    "test.insert(18, 'NONE', 0)\n",
    "test.insert(19, 'OTHER', 0)\n",
    "test.insert(24, 'forth quarter', 0)\n",
    "test.insert(25, 'second quarter', 0)\n",
    "test.insert(26, 'third quarter', 0)\n",
    "test.insert(29, 'educational', 0)  \n",
    "test.insert(51, 'IA', 0)  \n",
    "test.insert(52, 'ID', 0)  \n",
    "test.insert(60, 'ME', 0)  \n",
    "test.insert(67, 'NE', 0) "
   ]
  },
  {
   "cell_type": "markdown",
   "metadata": {},
   "source": [
    "#### 1. Xgboost"
   ]
  },
  {
   "cell_type": "code",
   "execution_count": 492,
   "metadata": {},
   "outputs": [
    {
     "name": "stdout",
     "output_type": "stream",
     "text": [
      "[23:09:07] WARNING: /Users/travis/build/dmlc/xgboost/src/objective/regression_obj.cu:170: reg:linear is now deprecated in favor of reg:squarederror.\n",
      "[0]\tTest-rmse:0.32698\n",
      "[1]\tTest-rmse:0.29438\n",
      "[2]\tTest-rmse:0.26505\n",
      "[3]\tTest-rmse:0.23866\n",
      "[4]\tTest-rmse:0.21492\n",
      "[5]\tTest-rmse:0.19356\n",
      "[6]\tTest-rmse:0.17436\n",
      "[7]\tTest-rmse:0.15709\n",
      "[8]\tTest-rmse:0.14156\n",
      "[9]\tTest-rmse:0.12761\n",
      "[10]\tTest-rmse:0.11507\n",
      "[11]\tTest-rmse:0.10381\n",
      "[12]\tTest-rmse:0.09370\n",
      "[13]\tTest-rmse:0.08463\n",
      "[14]\tTest-rmse:0.07649\n",
      "[15]\tTest-rmse:0.06920\n",
      "[16]\tTest-rmse:0.06267\n",
      "[17]\tTest-rmse:0.05683\n",
      "[18]\tTest-rmse:0.05162\n",
      "[19]\tTest-rmse:0.04697\n",
      "[20]\tTest-rmse:0.04283\n",
      "[21]\tTest-rmse:0.03916\n",
      "[22]\tTest-rmse:0.03590\n",
      "[23]\tTest-rmse:0.03303\n",
      "[24]\tTest-rmse:0.03050\n",
      "[25]\tTest-rmse:0.02828\n",
      "[26]\tTest-rmse:0.02634\n",
      "[27]\tTest-rmse:0.02465\n",
      "[28]\tTest-rmse:0.02319\n",
      "[29]\tTest-rmse:0.02192\n",
      "[30]\tTest-rmse:0.02085\n",
      "[31]\tTest-rmse:0.01991\n",
      "[32]\tTest-rmse:0.01912\n",
      "[33]\tTest-rmse:0.01846\n",
      "[34]\tTest-rmse:0.01789\n",
      "[35]\tTest-rmse:0.01741\n",
      "[36]\tTest-rmse:0.01701\n",
      "[37]\tTest-rmse:0.01665\n",
      "[38]\tTest-rmse:0.01635\n",
      "[39]\tTest-rmse:0.01611\n",
      "[40]\tTest-rmse:0.01591\n",
      "[41]\tTest-rmse:0.01573\n",
      "[42]\tTest-rmse:0.01558\n",
      "[43]\tTest-rmse:0.01545\n",
      "[44]\tTest-rmse:0.01535\n",
      "[45]\tTest-rmse:0.01526\n",
      "[46]\tTest-rmse:0.01518\n",
      "[47]\tTest-rmse:0.01511\n",
      "[48]\tTest-rmse:0.01505\n",
      "[49]\tTest-rmse:0.01500\n",
      "[50]\tTest-rmse:0.01495\n",
      "[51]\tTest-rmse:0.01490\n",
      "[52]\tTest-rmse:0.01486\n",
      "[53]\tTest-rmse:0.01483\n",
      "[54]\tTest-rmse:0.01480\n",
      "[55]\tTest-rmse:0.01476\n",
      "[56]\tTest-rmse:0.01473\n",
      "[57]\tTest-rmse:0.01471\n",
      "[58]\tTest-rmse:0.01468\n",
      "[59]\tTest-rmse:0.01465\n",
      "[60]\tTest-rmse:0.01464\n",
      "[61]\tTest-rmse:0.01462\n",
      "[62]\tTest-rmse:0.01460\n",
      "[63]\tTest-rmse:0.01459\n",
      "[64]\tTest-rmse:0.01456\n",
      "[65]\tTest-rmse:0.01454\n",
      "[66]\tTest-rmse:0.01451\n",
      "[67]\tTest-rmse:0.01450\n",
      "[68]\tTest-rmse:0.01448\n",
      "[69]\tTest-rmse:0.01447\n",
      "[70]\tTest-rmse:0.01446\n",
      "[71]\tTest-rmse:0.01445\n",
      "[72]\tTest-rmse:0.01443\n",
      "[73]\tTest-rmse:0.01442\n",
      "[74]\tTest-rmse:0.01440\n",
      "[75]\tTest-rmse:0.01439\n",
      "[76]\tTest-rmse:0.01437\n",
      "[77]\tTest-rmse:0.01437\n",
      "[78]\tTest-rmse:0.01435\n",
      "[79]\tTest-rmse:0.01434\n",
      "[80]\tTest-rmse:0.01433\n",
      "[81]\tTest-rmse:0.01432\n",
      "[82]\tTest-rmse:0.01431\n",
      "[83]\tTest-rmse:0.01430\n",
      "[84]\tTest-rmse:0.01428\n",
      "[85]\tTest-rmse:0.01427\n",
      "[86]\tTest-rmse:0.01425\n",
      "[87]\tTest-rmse:0.01424\n",
      "[88]\tTest-rmse:0.01423\n",
      "[89]\tTest-rmse:0.01422\n",
      "[90]\tTest-rmse:0.01421\n",
      "[91]\tTest-rmse:0.01420\n",
      "[92]\tTest-rmse:0.01420\n",
      "[93]\tTest-rmse:0.01419\n",
      "[94]\tTest-rmse:0.01418\n",
      "[95]\tTest-rmse:0.01418\n",
      "[96]\tTest-rmse:0.01416\n",
      "[97]\tTest-rmse:0.01416\n",
      "[98]\tTest-rmse:0.01415\n",
      "[99]\tTest-rmse:0.01414\n",
      "[100]\tTest-rmse:0.01413\n",
      "[101]\tTest-rmse:0.01413\n",
      "[102]\tTest-rmse:0.01412\n",
      "[103]\tTest-rmse:0.01411\n",
      "[104]\tTest-rmse:0.01410\n",
      "[105]\tTest-rmse:0.01410\n",
      "[106]\tTest-rmse:0.01409\n",
      "[107]\tTest-rmse:0.01408\n",
      "[108]\tTest-rmse:0.01408\n",
      "[109]\tTest-rmse:0.01407\n",
      "[110]\tTest-rmse:0.01406\n",
      "[111]\tTest-rmse:0.01406\n",
      "[112]\tTest-rmse:0.01405\n",
      "[113]\tTest-rmse:0.01405\n",
      "[114]\tTest-rmse:0.01404\n",
      "[115]\tTest-rmse:0.01403\n",
      "[116]\tTest-rmse:0.01403\n",
      "[117]\tTest-rmse:0.01403\n",
      "[118]\tTest-rmse:0.01402\n",
      "[119]\tTest-rmse:0.01402\n",
      "[120]\tTest-rmse:0.01401\n",
      "[121]\tTest-rmse:0.01401\n",
      "[122]\tTest-rmse:0.01400\n",
      "[123]\tTest-rmse:0.01400\n",
      "[124]\tTest-rmse:0.01400\n",
      "[125]\tTest-rmse:0.01399\n",
      "[126]\tTest-rmse:0.01398\n",
      "[127]\tTest-rmse:0.01397\n",
      "[128]\tTest-rmse:0.01396\n",
      "[129]\tTest-rmse:0.01396\n",
      "[130]\tTest-rmse:0.01396\n",
      "[131]\tTest-rmse:0.01395\n",
      "[132]\tTest-rmse:0.01395\n",
      "[133]\tTest-rmse:0.01394\n",
      "[134]\tTest-rmse:0.01394\n",
      "[135]\tTest-rmse:0.01393\n",
      "[136]\tTest-rmse:0.01393\n",
      "[137]\tTest-rmse:0.01393\n",
      "[138]\tTest-rmse:0.01393\n",
      "[139]\tTest-rmse:0.01392\n",
      "[140]\tTest-rmse:0.01392\n",
      "[141]\tTest-rmse:0.01392\n",
      "[142]\tTest-rmse:0.01391\n",
      "[143]\tTest-rmse:0.01391\n",
      "[144]\tTest-rmse:0.01391\n",
      "[145]\tTest-rmse:0.01391\n",
      "[146]\tTest-rmse:0.01390\n",
      "[147]\tTest-rmse:0.01390\n",
      "[148]\tTest-rmse:0.01390\n",
      "[149]\tTest-rmse:0.01389\n",
      "[150]\tTest-rmse:0.01389\n",
      "[151]\tTest-rmse:0.01388\n",
      "[152]\tTest-rmse:0.01388\n",
      "[153]\tTest-rmse:0.01388\n",
      "[154]\tTest-rmse:0.01387\n",
      "[155]\tTest-rmse:0.01387\n",
      "[156]\tTest-rmse:0.01387\n",
      "[157]\tTest-rmse:0.01386\n",
      "[158]\tTest-rmse:0.01386\n",
      "[159]\tTest-rmse:0.01386\n",
      "[160]\tTest-rmse:0.01385\n",
      "[161]\tTest-rmse:0.01385\n",
      "[162]\tTest-rmse:0.01385\n",
      "[163]\tTest-rmse:0.01385\n",
      "[164]\tTest-rmse:0.01384\n",
      "[165]\tTest-rmse:0.01384\n",
      "[166]\tTest-rmse:0.01384\n",
      "[167]\tTest-rmse:0.01384\n",
      "[168]\tTest-rmse:0.01384\n",
      "[169]\tTest-rmse:0.01384\n",
      "[170]\tTest-rmse:0.01383\n",
      "[171]\tTest-rmse:0.01383\n",
      "[172]\tTest-rmse:0.01383\n",
      "[173]\tTest-rmse:0.01383\n",
      "[174]\tTest-rmse:0.01383\n",
      "[175]\tTest-rmse:0.01383\n",
      "[176]\tTest-rmse:0.01383\n",
      "[177]\tTest-rmse:0.01382\n",
      "[178]\tTest-rmse:0.01382\n",
      "[179]\tTest-rmse:0.01382\n",
      "[180]\tTest-rmse:0.01382\n",
      "[181]\tTest-rmse:0.01382\n",
      "[182]\tTest-rmse:0.01381\n",
      "[183]\tTest-rmse:0.01381\n",
      "[184]\tTest-rmse:0.01381\n",
      "[185]\tTest-rmse:0.01381\n",
      "[186]\tTest-rmse:0.01381\n",
      "[187]\tTest-rmse:0.01381\n",
      "[188]\tTest-rmse:0.01381\n",
      "[189]\tTest-rmse:0.01380\n",
      "[190]\tTest-rmse:0.01380\n",
      "[191]\tTest-rmse:0.01380\n",
      "[192]\tTest-rmse:0.01380\n",
      "[193]\tTest-rmse:0.01380\n",
      "[194]\tTest-rmse:0.01380\n",
      "[195]\tTest-rmse:0.01379\n",
      "[196]\tTest-rmse:0.01379\n",
      "[197]\tTest-rmse:0.01379\n",
      "[198]\tTest-rmse:0.01379\n",
      "[199]\tTest-rmse:0.01378\n",
      "[200]\tTest-rmse:0.01378\n",
      "[201]\tTest-rmse:0.01378\n",
      "[202]\tTest-rmse:0.01378\n",
      "[203]\tTest-rmse:0.01378\n",
      "[204]\tTest-rmse:0.01378\n",
      "[205]\tTest-rmse:0.01378\n",
      "[206]\tTest-rmse:0.01378\n",
      "[207]\tTest-rmse:0.01378\n",
      "[208]\tTest-rmse:0.01378\n",
      "[209]\tTest-rmse:0.01378\n",
      "[210]\tTest-rmse:0.01377\n",
      "[211]\tTest-rmse:0.01377\n",
      "[212]\tTest-rmse:0.01377\n",
      "[213]\tTest-rmse:0.01377\n",
      "[214]\tTest-rmse:0.01376\n",
      "[215]\tTest-rmse:0.01376\n",
      "[216]\tTest-rmse:0.01376\n",
      "[217]\tTest-rmse:0.01376\n",
      "[218]\tTest-rmse:0.01376\n",
      "[219]\tTest-rmse:0.01376\n",
      "[220]\tTest-rmse:0.01376\n",
      "[221]\tTest-rmse:0.01376\n",
      "[222]\tTest-rmse:0.01376\n",
      "[223]\tTest-rmse:0.01375\n",
      "[224]\tTest-rmse:0.01375\n",
      "[225]\tTest-rmse:0.01375\n",
      "[226]\tTest-rmse:0.01375\n",
      "[227]\tTest-rmse:0.01375\n",
      "[228]\tTest-rmse:0.01375\n",
      "[229]\tTest-rmse:0.01375\n",
      "[230]\tTest-rmse:0.01375\n",
      "[231]\tTest-rmse:0.01375\n",
      "[232]\tTest-rmse:0.01375\n",
      "[233]\tTest-rmse:0.01375\n",
      "[234]\tTest-rmse:0.01375\n",
      "[235]\tTest-rmse:0.01374\n",
      "[236]\tTest-rmse:0.01374\n",
      "[237]\tTest-rmse:0.01374\n",
      "[238]\tTest-rmse:0.01374\n",
      "[239]\tTest-rmse:0.01374\n",
      "[240]\tTest-rmse:0.01374\n",
      "[241]\tTest-rmse:0.01374\n",
      "[242]\tTest-rmse:0.01374\n",
      "[243]\tTest-rmse:0.01373\n",
      "[244]\tTest-rmse:0.01373\n",
      "[245]\tTest-rmse:0.01373\n",
      "[246]\tTest-rmse:0.01373\n",
      "[247]\tTest-rmse:0.01373\n",
      "[248]\tTest-rmse:0.01373\n",
      "[249]\tTest-rmse:0.01373\n",
      "[250]\tTest-rmse:0.01373\n",
      "[251]\tTest-rmse:0.01372\n",
      "[252]\tTest-rmse:0.01372\n",
      "[253]\tTest-rmse:0.01372\n",
      "[254]\tTest-rmse:0.01372\n",
      "[255]\tTest-rmse:0.01372\n",
      "[256]\tTest-rmse:0.01372\n",
      "[257]\tTest-rmse:0.01372\n",
      "[258]\tTest-rmse:0.01372\n",
      "[259]\tTest-rmse:0.01372\n",
      "[260]\tTest-rmse:0.01372\n",
      "[261]\tTest-rmse:0.01372\n",
      "[262]\tTest-rmse:0.01372\n",
      "[263]\tTest-rmse:0.01371\n",
      "[264]\tTest-rmse:0.01371\n",
      "[265]\tTest-rmse:0.01371\n",
      "[266]\tTest-rmse:0.01371\n",
      "[267]\tTest-rmse:0.01371\n",
      "[268]\tTest-rmse:0.01371\n",
      "[269]\tTest-rmse:0.01371\n",
      "[270]\tTest-rmse:0.01371\n",
      "[271]\tTest-rmse:0.01371\n",
      "[272]\tTest-rmse:0.01371\n",
      "[273]\tTest-rmse:0.01371\n",
      "[274]\tTest-rmse:0.01371\n",
      "[275]\tTest-rmse:0.01371\n",
      "[276]\tTest-rmse:0.01371\n",
      "[277]\tTest-rmse:0.01371\n",
      "[278]\tTest-rmse:0.01370\n",
      "[279]\tTest-rmse:0.01370\n",
      "[280]\tTest-rmse:0.01370\n",
      "[281]\tTest-rmse:0.01370\n",
      "[282]\tTest-rmse:0.01370\n",
      "[283]\tTest-rmse:0.01370\n",
      "[284]\tTest-rmse:0.01370\n",
      "[285]\tTest-rmse:0.01370\n",
      "[286]\tTest-rmse:0.01369\n",
      "[287]\tTest-rmse:0.01369\n",
      "[288]\tTest-rmse:0.01369\n",
      "[289]\tTest-rmse:0.01369\n",
      "[290]\tTest-rmse:0.01369\n",
      "[291]\tTest-rmse:0.01369\n",
      "[292]\tTest-rmse:0.01369\n",
      "[293]\tTest-rmse:0.01369\n",
      "[294]\tTest-rmse:0.01369\n",
      "[295]\tTest-rmse:0.01369\n",
      "[296]\tTest-rmse:0.01369\n",
      "[297]\tTest-rmse:0.01369\n",
      "[298]\tTest-rmse:0.01369\n",
      "[299]\tTest-rmse:0.01368\n",
      "[300]\tTest-rmse:0.01368\n",
      "[301]\tTest-rmse:0.01368\n",
      "[302]\tTest-rmse:0.01368\n",
      "[303]\tTest-rmse:0.01368\n",
      "[304]\tTest-rmse:0.01368\n",
      "[305]\tTest-rmse:0.01368\n",
      "[306]\tTest-rmse:0.01368\n",
      "[307]\tTest-rmse:0.01368\n",
      "[308]\tTest-rmse:0.01368\n",
      "[309]\tTest-rmse:0.01368\n",
      "[310]\tTest-rmse:0.01368\n",
      "[311]\tTest-rmse:0.01368\n",
      "[312]\tTest-rmse:0.01368\n",
      "[313]\tTest-rmse:0.01368\n",
      "[314]\tTest-rmse:0.01368\n",
      "[315]\tTest-rmse:0.01368\n",
      "[316]\tTest-rmse:0.01368\n",
      "[317]\tTest-rmse:0.01368\n",
      "[318]\tTest-rmse:0.01368\n",
      "[319]\tTest-rmse:0.01368\n",
      "[320]\tTest-rmse:0.01368\n",
      "[321]\tTest-rmse:0.01368\n",
      "[322]\tTest-rmse:0.01368\n",
      "[323]\tTest-rmse:0.01368\n",
      "[324]\tTest-rmse:0.01368\n",
      "[325]\tTest-rmse:0.01367\n",
      "[326]\tTest-rmse:0.01367\n",
      "[327]\tTest-rmse:0.01367\n",
      "[328]\tTest-rmse:0.01367\n",
      "[329]\tTest-rmse:0.01367\n",
      "[330]\tTest-rmse:0.01367\n",
      "[331]\tTest-rmse:0.01367\n",
      "[332]\tTest-rmse:0.01367\n",
      "[333]\tTest-rmse:0.01367\n",
      "[334]\tTest-rmse:0.01367\n",
      "[335]\tTest-rmse:0.01367\n",
      "[336]\tTest-rmse:0.01367\n",
      "[337]\tTest-rmse:0.01367\n",
      "[338]\tTest-rmse:0.01367\n",
      "[339]\tTest-rmse:0.01367\n"
     ]
    },
    {
     "name": "stdout",
     "output_type": "stream",
     "text": [
      "[340]\tTest-rmse:0.01367\n",
      "[341]\tTest-rmse:0.01367\n",
      "[342]\tTest-rmse:0.01367\n",
      "[343]\tTest-rmse:0.01367\n"
     ]
    }
   ],
   "source": [
    "dtrain = xgb.DMatrix(X_train, label=y_train)\n",
    "dtest = xgb.DMatrix(X_test, label=y_test)\n",
    "\n",
    "param_dict = {\n",
    "    'max_depth':6, \n",
    "    'min_child_weight': 1,\n",
    "    'eta':.1,\n",
    "    'subsample': 1,\n",
    "    'colsample_bytree': 1,\n",
    "    'objective':'reg:linear',\n",
    "    'eval_metric':'rmse'\n",
    "}\n",
    "\n",
    "Xgb = xgb.train(param_dict, dtrain, num_boost_round=999, evals=[(dtest, \"Test\")], early_stopping_rounds=10)"
   ]
  },
  {
   "cell_type": "code",
   "execution_count": 493,
   "metadata": {},
   "outputs": [
    {
     "name": "stdout",
     "output_type": "stream",
     "text": [
      "Test set RMSE of Xgb: 0.013671277\n"
     ]
    }
   ],
   "source": [
    "dpred = xgb.DMatrix(X_test)\n",
    "y_pred_Xgb = Xgb.predict(dpred)\n",
    "mse_Xgb = MSE(y_test, y_pred_Xgb)\n",
    "rmse_Xgb = mse_Xgb**(1/2)\n",
    "print(\"Test set RMSE of Xgb: {:.9f}\".format(rmse_Xgb))"
   ]
  },
  {
   "cell_type": "code",
   "execution_count": 494,
   "metadata": {},
   "outputs": [
    {
     "data": {
      "image/png": "[encoded data removed]",
      "text/plain": [
       "<Figure size 1080x1080 with 1 Axes>"
      ]
     },
     "metadata": {
      "needs_background": "light"
     },
     "output_type": "display_data"
    }
   ],
   "source": [
    "# plot F-score of each feature using xgboost's .plot_importance() method\n",
    "pic = plot_importance(Xgb)\n",
    "fig = pic.get_figure()\n",
    "fig.set_figheight(15)\n",
    "fig.set_figwidth(15)"
   ]
  },
  {
   "cell_type": "markdown",
   "metadata": {},
   "source": [
    "#### Using the inbuilt XGBClassifier: the score is higher than the method described above."
   ]
  },
  {
   "cell_type": "code",
   "execution_count": 381,
   "metadata": {},
   "outputs": [
    {
     "name": "stdout",
     "output_type": "stream",
     "text": [
      "[19:24:00] WARNING: /Users/travis/build/dmlc/xgboost/src/learner.cc:1061: Starting in XGBoost 1.3.0, the default evaluation metric used with the objective 'multi:softprob' was changed from 'merror' to 'mlogloss'. Explicitly set eval_metric if you'd like to restore the old behavior.\n",
      "Test set RMSE of XGB: 0.03550\n"
     ]
    }
   ],
   "source": [
    "XGB = XGBClassifier()\n",
    "XGB.fit(X_train, y_train)\n",
    "y_pred_XGB = XGB.predict(X_test)\n",
    "mse_XGB = MSE(y_test, y_pred_XGB)\n",
    "rmse_XGB = mse_XGB**(1/2)\n",
    "print(\"Test set RMSE of XGB: {:.5f}\".format(rmse_XGB))"
   ]
  },
  {
   "cell_type": "code",
   "execution_count": null,
   "metadata": {},
   "outputs": [],
   "source": [
    "# Compute the array containing the 10-folds CV MSEs\n",
    "MSE_CV_scores = - cross_val_score(XGB, X_train, y_train, cv=10, \n",
    "                                  scoring='neg_mean_squared_error', \n",
    "                                  n_jobs=-1) \n",
    "# Compute the 10-folds CV RMSE\n",
    "RMSE_CV = (MSE_CV_scores.mean())**(1/2)\n",
    "# Print RMSE_CV\n",
    "print('CV RMSE Xgb: {:.5f}'.format(RMSE_CV))"
   ]
  },
  {
   "cell_type": "markdown",
   "metadata": {},
   "source": [
    "#### 2. linear regression "
   ]
  },
  {
   "cell_type": "code",
   "execution_count": 553,
   "metadata": {},
   "outputs": [
    {
     "name": "stdout",
     "output_type": "stream",
     "text": [
      "Test set RMSE of linear regression: 0.017910140\n"
     ]
    }
   ],
   "source": [
    "lr = LinearRegression()\n",
    "lr.fit(X_train, y_train)\n",
    "y_pred_lr = lr.predict(X_test)\n",
    "#lr_test_pred = lr.predict(test)\n",
    "mse_lr = MSE(y_test, y_pred_lr)\n",
    "rmse_lr = mse_lr**(1/2)\n",
    "print(\"Test set RMSE of linear regression: {:.9f}\".format(rmse_lr))"
   ]
  },
  {
   "cell_type": "code",
   "execution_count": 496,
   "metadata": {},
   "outputs": [
    {
     "name": "stdout",
     "output_type": "stream",
     "text": [
      "CV RMSE linear regression: 0.018086914\n"
     ]
    }
   ],
   "source": [
    "# Compute the array containing the 10-folds CV MSEs\n",
    "MSE_CV_scores = - cross_val_score(lr, X_train, y_train, cv=10, \n",
    "                                  scoring='neg_mean_squared_error', \n",
    "                                  n_jobs=-1) \n",
    "# Compute the 10-folds CV RMSE\n",
    "RMSE_CV = (MSE_CV_scores.mean())**(1/2)\n",
    "# Print RMSE_CV\n",
    "print('CV RMSE linear regression: {:.9f}'.format(RMSE_CV))"
   ]
  },
  {
   "cell_type": "markdown",
   "metadata": {},
   "source": [
    "#### 3. Random Forest"
   ]
  },
  {
   "cell_type": "code",
   "execution_count": 502,
   "metadata": {},
   "outputs": [
    {
     "name": "stdout",
     "output_type": "stream",
     "text": [
      "Test set RMSE of random forest: 0.025328875\n"
     ]
    }
   ],
   "source": [
    "rf = RandomForestRegressor(n_estimators=400,min_samples_leaf=0.12,random_state=1)\n",
    "rf.fit(X_train, y_train)\n",
    "y_pred_rf = rf.predict(X_test)\n",
    "mse_rf = MSE(y_test, y_pred_rf)\n",
    "rmse_rf = mse_rf**(1/2)\n",
    "print(\"Test set RMSE of random forest: {:.9f}\".format(rmse_rf))"
   ]
  },
  {
   "cell_type": "code",
   "execution_count": 506,
   "metadata": {},
   "outputs": [
    {
     "name": "stdout",
     "output_type": "stream",
     "text": [
      "CV RMSE Random Forest: 0.025438047\n"
     ]
    }
   ],
   "source": [
    "# Compute the array containing the 10-folds CV MSEs\n",
    "MSE_CV_scores = - cross_val_score(rf, X_train, y_train, cv=10, \n",
    "                                  scoring='neg_mean_squared_error', \n",
    "                                  n_jobs=-1) \n",
    "# Compute the 10-folds CV RMSE\n",
    "RMSE_CV = (MSE_CV_scores.mean())**(1/2)\n",
    "# Print RMSE_CV\n",
    "print('CV RMSE Random Forest: {:.9f}'.format(RMSE_CV))"
   ]
  },
  {
   "cell_type": "markdown",
   "metadata": {},
   "source": [
    "#### 4. Gradient Boost"
   ]
  },
  {
   "cell_type": "code",
   "execution_count": 509,
   "metadata": {},
   "outputs": [
    {
     "name": "stdout",
     "output_type": "stream",
     "text": [
      "Test set RMSE of gb: 0.014459556\n"
     ]
    }
   ],
   "source": [
    "gb = GradientBoostingRegressor(max_depth=4, n_estimators=200, random_state=2)\n",
    "gb.fit(X_train, y_train)\n",
    "y_pred_Gboost = gb.predict(X_test)\n",
    "mse_Gboost = MSE(y_test, y_pred_Gboost)\n",
    "rmse_Gboost = mse_Gboost**(1/2)\n",
    "print('Test set RMSE of gb: {:.9f}'.format(rmse_Gboost))"
   ]
  },
  {
   "cell_type": "code",
   "execution_count": 510,
   "metadata": {},
   "outputs": [
    {
     "name": "stdout",
     "output_type": "stream",
     "text": [
      "CV RMSE Random Forest: 0.014567427\n"
     ]
    }
   ],
   "source": [
    "# Compute the array containing the 10-folds CV MSEs\n",
    "MSE_CV_scores = - cross_val_score(gb, X_train, y_train, cv=10, \n",
    "                                  scoring='neg_mean_squared_error', \n",
    "                                  n_jobs=-1) \n",
    "# Compute the 10-folds CV RMSE\n",
    "RMSE_CV = (MSE_CV_scores.mean())**(1/2)\n",
    "# Print RMSE_CV\n",
    "print('CV RMSE Random Forest: {:.9f}'.format(RMSE_CV))"
   ]
  },
  {
   "cell_type": "markdown",
   "metadata": {},
   "source": [
    "## Fit to get the final answer"
   ]
  },
  {
   "cell_type": "code",
   "execution_count": 557,
   "metadata": {},
   "outputs": [
    {
     "name": "stdout",
     "output_type": "stream",
     "text": [
      "[0.15645039 0.05944677 0.14128515 0.15834889 0.09426771 0.11332466\n",
      " 0.13742299 0.10316339 0.14712747 0.06551215]\n"
     ]
    }
   ],
   "source": [
    "# Gradient boost \n",
    "gb = GradientBoostingRegressor(max_depth=4, n_estimators=200, random_state=2)\n",
    "gb.fit(X, y)\n",
    "Gboost_test_pred = gb.predict(test)\n",
    "print(Gboost_test_pred[:10])"
   ]
  },
  {
   "cell_type": "code",
   "execution_count": 563,
   "metadata": {},
   "outputs": [],
   "source": [
    "# save the one with gradient boost as final results\n",
    "results = pd.DataFrame(Gboost_test_pred,columns = ['results'])\n",
    "results.to_csv('Results from Jianghong Man.csv', index=False)"
   ]
  },
  {
   "cell_type": "code",
   "execution_count": 564,
   "metadata": {},
   "outputs": [
    {
     "data": {
      "text/html": [
       "<div>\n",
       "<style scoped>\n",
       "    .dataframe tbody tr th:only-of-type {\n",
       "        vertical-align: middle;\n",
       "    }\n",
       "\n",
       "    .dataframe tbody tr th {\n",
       "        vertical-align: top;\n",
       "    }\n",
       "\n",
       "    .dataframe thead th {\n",
       "        text-align: right;\n",
       "    }\n",
       "</style>\n",
       "<table border=\"1\" class=\"dataframe\">\n",
       "  <thead>\n",
       "    <tr style=\"text-align: right;\">\n",
       "      <th></th>\n",
       "      <th>results</th>\n",
       "    </tr>\n",
       "  </thead>\n",
       "  <tbody>\n",
       "    <tr>\n",
       "      <th>0</th>\n",
       "      <td>0.156450</td>\n",
       "    </tr>\n",
       "    <tr>\n",
       "      <th>1</th>\n",
       "      <td>0.059447</td>\n",
       "    </tr>\n",
       "    <tr>\n",
       "      <th>2</th>\n",
       "      <td>0.141285</td>\n",
       "    </tr>\n",
       "    <tr>\n",
       "      <th>3</th>\n",
       "      <td>0.158349</td>\n",
       "    </tr>\n",
       "    <tr>\n",
       "      <th>4</th>\n",
       "      <td>0.094268</td>\n",
       "    </tr>\n",
       "  </tbody>\n",
       "</table>\n",
       "</div>"
      ],
      "text/plain": [
       "    results\n",
       "0  0.156450\n",
       "1  0.059447\n",
       "2  0.141285\n",
       "3  0.158349\n",
       "4  0.094268"
      ]
     },
     "execution_count": 564,
     "metadata": {},
     "output_type": "execute_result"
    }
   ],
   "source": [
    "results.head()"
   ]
  },
  {
   "cell_type": "code",
   "execution_count": null,
   "metadata": {},
   "outputs": [],
   "source": []
  },
  {
   "cell_type": "code",
   "execution_count": null,
   "metadata": {},
   "outputs": [],
   "source": []
  }
 ],
 "metadata": {
  "kernelspec": {
   "display_name": "Python 3",
   "language": "python",
   "name": "python3"
  },
  "language_info": {
   "codemirror_mode": {
    "name": "ipython",
    "version": 3
   },
   "file_extension": ".py",
   "mimetype": "text/x-python",
   "name": "python",
   "nbconvert_exporter": "python",
   "pygments_lexer": "ipython3",
   "version": "3.8.3"
  }
 },
 "nbformat": 4,
 "nbformat_minor": 4
}
